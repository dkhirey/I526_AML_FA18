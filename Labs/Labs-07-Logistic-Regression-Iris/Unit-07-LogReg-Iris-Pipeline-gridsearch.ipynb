{
 "cells": [
  {
   "cell_type": "markdown",
   "metadata": {},
   "source": [
    "# Module 07: Logistic Regression\n",
    "\n",
    "`By   : Dr. James G. Shanahan\n",
    "EMAIL: James.Shanahan AT Gmail.com`\n",
    "\n",
    "\n",
    "## Learning objectives\n",
    "\n",
    "Upon completion of this module, the learner will be able to:\n",
    "\n",
    "* Describe and apply basic operations on vectors (review)\n",
    "  * define a hyperplane\n",
    "  * define and calculate the distance from a point to a hyperplane\n",
    "* Define a logistic regression model for the following:\n",
    "  * binary classification (binomial logistic regression)\n",
    "  * multiclass (multinomial logistic regression)\n",
    "  * regularized logistic regression models (lasso, ridge, elastic net)\n",
    "* Score a test case for a binomial or multinomial logistic regression model:\n",
    "  * Calculate perpendicular distances\n",
    "  * Make all distances positive by exponentiation\n",
    "  * Convert these to probabilities via normalization\n",
    "* Express logistic regression in graph and matrix form\n",
    "* Define logistic loss and cross-entropy (CXE)\n",
    "* Define and derive the gradient for bi/multinomial logistic regression objective functions\n",
    "\n",
    "## Stretch Goals\n",
    "These goals are optional, for learners who want to understand the theory and implementation details. \n",
    "\n",
    "* Define and write code to calculate perpendicular distance to a separating hyperplane\n",
    "* Implement bi/multinomial logistic regression learning algorithm from from scratch\n",
    "  * Extend it to penalized logistic regression\n",
    "* Derive the logistic regression gradient from scratch\n",
    "* Approximate the gradient numerically\n"
   ]
  },
  {
   "cell_type": "markdown",
   "metadata": {},
   "source": [
    "# Quizzes"
   ]
  },
  {
   "cell_type": "markdown",
   "metadata": {},
   "source": [
    "## Task"
   ]
  },
  {
   "cell_type": "markdown",
   "metadata": {},
   "source": [
    "Consider a three-class classification problem with the following separating hyperplanes:\n",
    "\n",
    "$$\n",
    "\\begin{align}\n",
    "x_1 + x_2 - 2 = 0 & & 1^{\\text{st}} \\text{ class}\\\\\n",
    "-4x_1 + 3x_2 - 11 = 0 & & 2^{\\text{nd}} \\text{ class}\\\\\n",
    "-x_1 - 3x_2 - 1 = 0 & & 3^{\\text{rd}} \\text{ class}\n",
    "\\end{align}\n",
    "$$\n",
    "\n",
    "Calculate the score (unnormalized perpendicular distance) for each class for the test case $(x_1, x_2)=(0, 1)$ .\n",
    "\n",
    "As a response provide all class scores within two decimal digits precision. Provide your response in the form on LMS"
   ]
  },
  {
   "cell_type": "code",
   "execution_count": 1,
   "metadata": {
    "ExecuteTime": {
     "end_time": "2018-06-29T15:14:36.423367Z",
     "start_time": "2018-06-29T15:14:34.591327Z"
    }
   },
   "outputs": [
    {
     "data": {
      "image/png": "[encoded data removed]",
      "text/plain": [
       "<matplotlib.figure.Figure at 0x10de5db38>"
      ]
     },
     "metadata": {},
     "output_type": "display_data"
    }
   ],
   "source": [
    "import os\n",
    "\n",
    "import numpy as np\n",
    "\n",
    "from sklearn.neighbors import NearestNeighbors\n",
    "\n",
    "import matplotlib\n",
    "import matplotlib.pyplot as plt\n",
    "import seaborn as sns\n",
    "%matplotlib inline\n",
    "\n",
    "x = np.arange(-3, 5)\n",
    "plt.plot(x, (2. - 1. * x) / 1., label=\"1st\", lw=3)\n",
    "plt.plot(x, (11. + 4. * x) / 3., label=\"2nd\", lw=3)\n",
    "plt.plot(x, (-1. - 1. * x) / 3., label=\"3rd\", lw=3)\n",
    "plt.gca().set_aspect('equal', adjustable='box')\n",
    "plt.scatter([0], [1], c=\"k\", s=80)\n",
    "plt.xlim([-3, 4])\n",
    "plt.ylim([-3, 4])\n",
    "plt.grid()\n",
    "plt.legend()\n",
    "plt.show()"
   ]
  },
  {
   "cell_type": "code",
   "execution_count": 2,
   "metadata": {
    "ExecuteTime": {
     "end_time": "2018-06-29T15:14:38.756326Z",
     "start_time": "2018-06-29T15:14:38.751580Z"
    },
    "collapsed": true
   },
   "outputs": [],
   "source": [
    "W = np.transpose(np.array([[1., 1.], \n",
    "              [-4., 3.], \n",
    "              [-1., -3.]])).reshape(2, 3)\n",
    "b = np.array([[-2.], \n",
    "              [-11.], \n",
    "              [-1.]])"
   ]
  },
  {
   "cell_type": "code",
   "execution_count": 3,
   "metadata": {
    "ExecuteTime": {
     "end_time": "2018-06-29T15:14:39.559460Z",
     "start_time": "2018-06-29T15:14:39.555500Z"
    },
    "collapsed": true
   },
   "outputs": [],
   "source": [
    "b = np.array([-2., \n",
    "              -11., \n",
    "              -1.])"
   ]
  },
  {
   "cell_type": "code",
   "execution_count": 4,
   "metadata": {
    "ExecuteTime": {
     "end_time": "2018-06-29T15:14:40.164504Z",
     "start_time": "2018-06-29T15:14:40.159540Z"
    }
   },
   "outputs": [
    {
     "data": {
      "text/plain": [
       "array([ -2., -11.,  -1.])"
      ]
     },
     "execution_count": 4,
     "metadata": {},
     "output_type": "execute_result"
    }
   ],
   "source": [
    "b"
   ]
  },
  {
   "cell_type": "code",
   "execution_count": 5,
   "metadata": {
    "ExecuteTime": {
     "end_time": "2018-06-29T15:14:41.574989Z",
     "start_time": "2018-06-29T15:14:41.571426Z"
    },
    "collapsed": true
   },
   "outputs": [],
   "source": [
    "#Test case\n",
    "x = np.array([0., 1.])"
   ]
  },
  {
   "cell_type": "code",
   "execution_count": null,
   "metadata": {
    "ExecuteTime": {
     "end_time": "2018-06-29T15:14:43.572508Z",
     "start_time": "2018-06-29T15:14:43.567208Z"
    }
   },
   "outputs": [],
   "source": [
    "print(W)\n",
    "print(x)\n",
    "print(\"Perp distances are: \",FILL IN YOUR CODE)"
   ]
  },
  {
   "cell_type": "code",
   "execution_count": null,
   "metadata": {},
   "outputs": [],
   "source": []
  },
  {
   "cell_type": "code",
   "execution_count": null,
   "metadata": {},
   "outputs": [],
   "source": []
  },
  {
   "cell_type": "code",
   "execution_count": 7,
   "metadata": {
    "ExecuteTime": {
     "end_time": "2018-06-29T15:14:44.647124Z",
     "start_time": "2018-06-29T15:14:44.635238Z"
    }
   },
   "outputs": [
    {
     "name": "stdout",
     "output_type": "stream",
     "text": [
      "[[ 1. -4. -1.]\n",
      " [ 1.  3. -3.]]\n",
      "[ 0.  1.]\n",
      "Perp distances are:  [ 1.  3. -3.]\n"
     ]
    }
   ],
   "source": [
    "print(W)\n",
    "print(x)\n",
    "print(\"Perp distances are: \",np.dot(x, W))"
   ]
  },
  {
   "cell_type": "markdown",
   "metadata": {},
   "source": [
    "### Answer"
   ]
  },
  {
   "cell_type": "code",
   "execution_count": 5,
   "metadata": {
    "ExecuteTime": {
     "end_time": "2018-06-26T03:29:03.205665Z",
     "start_time": "2018-06-26T03:29:03.201725Z"
    },
    "collapsed": true
   },
   "outputs": [],
   "source": [
    "def scores(W, b, x):\n",
    "    return np.dot(x, W) + b"
   ]
  },
  {
   "cell_type": "code",
   "execution_count": 8,
   "metadata": {
    "ExecuteTime": {
     "end_time": "2018-06-22T04:27:04.623346Z",
     "start_time": "2018-06-22T04:27:04.617688Z"
    }
   },
   "outputs": [
    {
     "data": {
      "text/plain": [
       "array([-1., -8., -4.])"
      ]
     },
     "execution_count": 8,
     "metadata": {},
     "output_type": "execute_result"
    }
   ],
   "source": [
    "scores(W, b, x)"
   ]
  },
  {
   "cell_type": "markdown",
   "metadata": {},
   "source": [
    "## Classification: Probabilities"
   ]
  },
  {
   "cell_type": "markdown",
   "metadata": {},
   "source": [
    "### Task"
   ]
  },
  {
   "cell_type": "markdown",
   "metadata": {},
   "source": [
    "Using the setting from question 4 above please calculate the probabilities for each class using softmax.\n",
    "\n",
    "As a response provide all class probabilities within **five** decimal digits precision. Provide your response in the form on LMS"
   ]
  },
  {
   "cell_type": "markdown",
   "metadata": {},
   "source": [
    "### Answer"
   ]
  },
  {
   "cell_type": "code",
   "execution_count": 13,
   "metadata": {
    "ExecuteTime": {
     "end_time": "2018-06-26T03:33:51.935531Z",
     "start_time": "2018-06-26T03:33:51.930297Z"
    },
    "collapsed": true
   },
   "outputs": [],
   "source": [
    "def probas(W, b, x):\n",
    "    sc = scores(W, b, x)\n",
    "    sc_exp = np.exp(sc)\n",
    "    return sc_exp / np.sum(sc_exp)"
   ]
  },
  {
   "cell_type": "code",
   "execution_count": 10,
   "metadata": {
    "ExecuteTime": {
     "end_time": "2018-06-22T04:27:10.894359Z",
     "start_time": "2018-06-22T04:27:10.887921Z"
    }
   },
   "outputs": [
    {
     "data": {
      "text/plain": [
       "array([  9.51750000e-01,   8.70000000e-04,   4.73800000e-02])"
      ]
     },
     "execution_count": 10,
     "metadata": {},
     "output_type": "execute_result"
    }
   ],
   "source": [
    "np.round(probas(W, b, x), 5)"
   ]
  },
  {
   "cell_type": "markdown",
   "metadata": {},
   "source": [
    "## Classification: Predict Class"
   ]
  },
  {
   "cell_type": "markdown",
   "metadata": {},
   "source": [
    "### Task"
   ]
  },
  {
   "cell_type": "markdown",
   "metadata": {},
   "source": [
    "Take the data from question 2 above and predict the right class.\n",
    "\n",
    "Provide the number of a class ($1$, $2$ or $3$) as an answer."
   ]
  },
  {
   "cell_type": "markdown",
   "metadata": {},
   "source": [
    "### Answer"
   ]
  },
  {
   "cell_type": "code",
   "execution_count": 11,
   "metadata": {
    "ExecuteTime": {
     "end_time": "2018-06-22T04:27:10.902676Z",
     "start_time": "2018-06-22T04:27:10.897688Z"
    },
    "collapsed": true
   },
   "outputs": [],
   "source": [
    "def predict_class(W, b, x):\n",
    "    prob = probas(W, b, x)\n",
    "    return np.argmax(prob) + 1"
   ]
  },
  {
   "cell_type": "code",
   "execution_count": 12,
   "metadata": {
    "ExecuteTime": {
     "end_time": "2018-06-22T04:27:10.911156Z",
     "start_time": "2018-06-22T04:27:10.905781Z"
    }
   },
   "outputs": [
    {
     "data": {
      "text/plain": [
       "1"
      ]
     },
     "execution_count": 12,
     "metadata": {},
     "output_type": "execute_result"
    }
   ],
   "source": [
    "predict_class(W, b, x)"
   ]
  },
  {
   "cell_type": "markdown",
   "metadata": {},
   "source": [
    "## Quiz Task: please complete by your self\n",
    "Consider a three-class classification problem with the following separating hyperplanes:\n",
    "\n",
    "$$\n",
    "\\begin{align}\n",
    "5x_1 + x_2 - 2 = 0 & & 1^{\\text{st}} \\text{ class}\\\\\n",
    "-2x_1 + 3x_2 - 11 = 0 & & 2^{\\text{nd}} \\text{ class}\\\\\n",
    "-3x_1 - 3x_2 - 1 = 0 & & 3^{\\text{rd}} \\text{ class}\n",
    "\\end{align}\n",
    "$$\n",
    "\n",
    "Calculate the score (unnormalized perpendicular distance) for each class for the test case $(x_1, x_2)=(0, 1)$ . As a response provide all class scores within two decimal digits precision. \n",
    "\n",
    "What is the class of thus test case?\n",
    "What is the probability of the winning class of the test case?"
   ]
  },
  {
   "cell_type": "code",
   "execution_count": 10,
   "metadata": {
    "ExecuteTime": {
     "end_time": "2018-06-26T03:30:29.471914Z",
     "start_time": "2018-06-26T03:30:29.465803Z"
    },
    "collapsed": true
   },
   "outputs": [],
   "source": [
    "import numpy as np\n",
    "W = np.transpose(np.array([[5., 1.], \n",
    "              [-2., 3.], \n",
    "              [-3., -3.]])).reshape(2, 3)\n",
    "b = np.array([-2.,-11., -1.])"
   ]
  },
  {
   "cell_type": "code",
   "execution_count": 11,
   "metadata": {
    "ExecuteTime": {
     "end_time": "2018-06-26T03:30:31.009271Z",
     "start_time": "2018-06-26T03:30:31.005949Z"
    },
    "collapsed": true
   },
   "outputs": [],
   "source": [
    "x = np.array([0., 1.])"
   ]
  },
  {
   "cell_type": "code",
   "execution_count": 12,
   "metadata": {
    "ExecuteTime": {
     "end_time": "2018-06-26T03:30:31.615574Z",
     "start_time": "2018-06-26T03:30:31.610288Z"
    }
   },
   "outputs": [
    {
     "data": {
      "text/plain": [
       "array([-1., -8., -4.])"
      ]
     },
     "execution_count": 12,
     "metadata": {},
     "output_type": "execute_result"
    }
   ],
   "source": [
    "scores(W, b, x)"
   ]
  },
  {
   "cell_type": "code",
   "execution_count": null,
   "metadata": {
    "collapsed": true
   },
   "outputs": [],
   "source": []
  },
  {
   "cell_type": "code",
   "execution_count": null,
   "metadata": {
    "collapsed": true
   },
   "outputs": [],
   "source": []
  },
  {
   "cell_type": "markdown",
   "metadata": {},
   "source": [
    "# Case study: Iris: Build a classifier Iris dataset"
   ]
  },
  {
   "cell_type": "markdown",
   "metadata": {},
   "source": [
    "In this notebook we're going to investigate highly renowned \"Fisher's Iris\" dataset for classifcation. It contains 3 classes of iris flowers along with 4 features for each flower. The task is to classify each object judging by this 4 features."
   ]
  },
  {
   "cell_type": "markdown",
   "metadata": {},
   "source": [
    "## Preparation"
   ]
  },
  {
   "cell_type": "code",
   "execution_count": 57,
   "metadata": {
    "ExecuteTime": {
     "end_time": "2018-06-23T17:23:12.689037Z",
     "start_time": "2018-06-23T17:23:12.674303Z"
    },
    "collapsed": true
   },
   "outputs": [],
   "source": [
    "import numpy as np\n",
    "import pandas as pd\n",
    "\n",
    "from sklearn.datasets import load_iris\n",
    "from sklearn.model_selection import train_test_split\n",
    "from sklearn.model_selection import KFold\n",
    "from sklearn.linear_model import LogisticRegression\n",
    "from sklearn.metrics import accuracy_score, confusion_matrix\n",
    "\n",
    "import matplotlib\n",
    "import matplotlib.pyplot as plt\n",
    "import seaborn as sns\n",
    "\n",
    "%matplotlib inline"
   ]
  },
  {
   "cell_type": "markdown",
   "metadata": {},
   "source": [
    "Set style for plotting"
   ]
  },
  {
   "cell_type": "code",
   "execution_count": 14,
   "metadata": {
    "ExecuteTime": {
     "end_time": "2018-06-22T04:27:10.989211Z",
     "start_time": "2018-06-22T04:27:10.983901Z"
    },
    "collapsed": true
   },
   "outputs": [],
   "source": [
    "sns.set(style=\"whitegrid\", font_scale=1.3)\n",
    "matplotlib.rcParams[\"legend.framealpha\"] = 1\n",
    "matplotlib.rcParams[\"legend.frameon\"] = True"
   ]
  },
  {
   "cell_type": "markdown",
   "metadata": {},
   "source": [
    "Fix random seed for reproducibility"
   ]
  },
  {
   "cell_type": "code",
   "execution_count": 15,
   "metadata": {
    "ExecuteTime": {
     "end_time": "2018-06-22T04:27:10.995838Z",
     "start_time": "2018-06-22T04:27:10.992059Z"
    },
    "collapsed": true
   },
   "outputs": [],
   "source": [
    "np.random.seed(42)"
   ]
  },
  {
   "cell_type": "markdown",
   "metadata": {},
   "source": [
    "## Reading data"
   ]
  },
  {
   "cell_type": "markdown",
   "metadata": {},
   "source": [
    "Iris dataset is extremely common in machine learning experiments thus it is embedded in sklearn."
   ]
  },
  {
   "cell_type": "code",
   "execution_count": 16,
   "metadata": {
    "ExecuteTime": {
     "end_time": "2018-06-22T04:27:11.005592Z",
     "start_time": "2018-06-22T04:27:10.998777Z"
    },
    "collapsed": true
   },
   "outputs": [],
   "source": [
    "iris = load_iris()"
   ]
  },
  {
   "cell_type": "markdown",
   "metadata": {},
   "source": [
    "Detailed description of dataset and features"
   ]
  },
  {
   "cell_type": "code",
   "execution_count": 17,
   "metadata": {
    "ExecuteTime": {
     "end_time": "2018-06-22T04:27:11.012987Z",
     "start_time": "2018-06-22T04:27:11.007921Z"
    }
   },
   "outputs": [
    {
     "name": "stdout",
     "output_type": "stream",
     "text": [
      "Iris Plants Database\n",
      "====================\n",
      "\n",
      "Notes\n",
      "-----\n",
      "Data Set Characteristics:\n",
      "    :Number of Instances: 150 (50 in each of three classes)\n",
      "    :Number of Attributes: 4 numeric, predictive attributes and the class\n",
      "    :Attribute Information:\n",
      "        - sepal length in cm\n",
      "        - sepal width in cm\n",
      "        - petal length in cm\n",
      "        - petal width in cm\n",
      "        - class:\n",
      "                - Iris-Setosa\n",
      "                - Iris-Versicolour\n",
      "                - Iris-Virginica\n",
      "    :Summary Statistics:\n",
      "\n",
      "    ============== ==== ==== ======= ===== ====================\n",
      "                    Min  Max   Mean    SD   Class Correlation\n",
      "    ============== ==== ==== ======= ===== ====================\n",
      "    sepal length:   4.3  7.9   5.84   0.83    0.7826\n",
      "    sepal width:    2.0  4.4   3.05   0.43   -0.4194\n",
      "    petal length:   1.0  6.9   3.76   1.76    0.9490  (high!)\n",
      "    petal width:    0.1  2.5   1.20  0.76     0.9565  (high!)\n",
      "    ============== ==== ==== ======= ===== ====================\n",
      "\n",
      "    :Missing Attribute Values: None\n",
      "    :Class Distribution: 33.3% for each of 3 classes.\n",
      "    :Creator: R.A. Fisher\n",
      "    :Donor: Michael Marshall (MARSHALL%PLU@io.arc.nasa.gov)\n",
      "    :Date: July, 1988\n",
      "\n",
      "This is a copy of UCI ML iris datasets.\n",
      "http://archive.ics.uci.edu/ml/datasets/Iris\n",
      "\n",
      "The famous Iris database, first used by Sir R.A Fisher\n",
      "\n",
      "This is perhaps the best known database to be found in the\n",
      "pattern recognition literature.  Fisher's paper is a classic in the field and\n",
      "is referenced frequently to this day.  (See Duda & Hart, for example.)  The\n",
      "data set contains 3 classes of 50 instances each, where each class refers to a\n",
      "type of iris plant.  One class is linearly separable from the other 2; the\n",
      "latter are NOT linearly separable from each other.\n",
      "\n",
      "References\n",
      "----------\n",
      "   - Fisher,R.A. \"The use of multiple measurements in taxonomic problems\"\n",
      "     Annual Eugenics, 7, Part II, 179-188 (1936); also in \"Contributions to\n",
      "     Mathematical Statistics\" (John Wiley, NY, 1950).\n",
      "   - Duda,R.O., & Hart,P.E. (1973) Pattern Classification and Scene Analysis.\n",
      "     (Q327.D83) John Wiley & Sons.  ISBN 0-471-22361-1.  See page 218.\n",
      "   - Dasarathy, B.V. (1980) \"Nosing Around the Neighborhood: A New System\n",
      "     Structure and Classification Rule for Recognition in Partially Exposed\n",
      "     Environments\".  IEEE Transactions on Pattern Analysis and Machine\n",
      "     Intelligence, Vol. PAMI-2, No. 1, 67-71.\n",
      "   - Gates, G.W. (1972) \"The Reduced Nearest Neighbor Rule\".  IEEE Transactions\n",
      "     on Information Theory, May 1972, 431-433.\n",
      "   - See also: 1988 MLC Proceedings, 54-64.  Cheeseman et al\"s AUTOCLASS II\n",
      "     conceptual clustering system finds 3 classes in the data.\n",
      "   - Many, many more ...\n",
      "\n"
     ]
    }
   ],
   "source": [
    "print(iris.DESCR)"
   ]
  },
  {
   "cell_type": "markdown",
   "metadata": {},
   "source": [
    "Create pandas dataframe with objects in rows and features in columns"
   ]
  },
  {
   "cell_type": "code",
   "execution_count": 18,
   "metadata": {
    "ExecuteTime": {
     "end_time": "2018-06-22T04:27:11.020811Z",
     "start_time": "2018-06-22T04:27:11.015670Z"
    },
    "collapsed": true
   },
   "outputs": [],
   "source": [
    "X = pd.DataFrame(iris.data, columns=iris.feature_names)\n",
    "y = iris.target"
   ]
  },
  {
   "cell_type": "code",
   "execution_count": 19,
   "metadata": {
    "ExecuteTime": {
     "end_time": "2018-06-22T04:27:11.040928Z",
     "start_time": "2018-06-22T04:27:11.023531Z"
    }
   },
   "outputs": [
    {
     "data": {
      "text/html": [
       "<div>\n",
       "<style scoped>\n",
       "    .dataframe tbody tr th:only-of-type {\n",
       "        vertical-align: middle;\n",
       "    }\n",
       "\n",
       "    .dataframe tbody tr th {\n",
       "        vertical-align: top;\n",
       "    }\n",
       "\n",
       "    .dataframe thead th {\n",
       "        text-align: right;\n",
       "    }\n",
       "</style>\n",
       "<table border=\"1\" class=\"dataframe\">\n",
       "  <thead>\n",
       "    <tr style=\"text-align: right;\">\n",
       "      <th></th>\n",
       "      <th>sepal length (cm)</th>\n",
       "      <th>sepal width (cm)</th>\n",
       "      <th>petal length (cm)</th>\n",
       "      <th>petal width (cm)</th>\n",
       "    </tr>\n",
       "  </thead>\n",
       "  <tbody>\n",
       "    <tr>\n",
       "      <th>0</th>\n",
       "      <td>5.1</td>\n",
       "      <td>3.5</td>\n",
       "      <td>1.4</td>\n",
       "      <td>0.2</td>\n",
       "    </tr>\n",
       "    <tr>\n",
       "      <th>1</th>\n",
       "      <td>4.9</td>\n",
       "      <td>3.0</td>\n",
       "      <td>1.4</td>\n",
       "      <td>0.2</td>\n",
       "    </tr>\n",
       "    <tr>\n",
       "      <th>2</th>\n",
       "      <td>4.7</td>\n",
       "      <td>3.2</td>\n",
       "      <td>1.3</td>\n",
       "      <td>0.2</td>\n",
       "    </tr>\n",
       "    <tr>\n",
       "      <th>3</th>\n",
       "      <td>4.6</td>\n",
       "      <td>3.1</td>\n",
       "      <td>1.5</td>\n",
       "      <td>0.2</td>\n",
       "    </tr>\n",
       "    <tr>\n",
       "      <th>4</th>\n",
       "      <td>5.0</td>\n",
       "      <td>3.6</td>\n",
       "      <td>1.4</td>\n",
       "      <td>0.2</td>\n",
       "    </tr>\n",
       "  </tbody>\n",
       "</table>\n",
       "</div>"
      ],
      "text/plain": [
       "   sepal length (cm)  sepal width (cm)  petal length (cm)  petal width (cm)\n",
       "0                5.1               3.5                1.4               0.2\n",
       "1                4.9               3.0                1.4               0.2\n",
       "2                4.7               3.2                1.3               0.2\n",
       "3                4.6               3.1                1.5               0.2\n",
       "4                5.0               3.6                1.4               0.2"
      ]
     },
     "execution_count": 19,
     "metadata": {},
     "output_type": "execute_result"
    }
   ],
   "source": [
    "X.head()"
   ]
  },
  {
   "cell_type": "code",
   "execution_count": 20,
   "metadata": {
    "ExecuteTime": {
     "end_time": "2018-06-22T04:27:11.068677Z",
     "start_time": "2018-06-22T04:27:11.043288Z"
    }
   },
   "outputs": [
    {
     "data": {
      "text/html": [
       "<div>\n",
       "<style scoped>\n",
       "    .dataframe tbody tr th:only-of-type {\n",
       "        vertical-align: middle;\n",
       "    }\n",
       "\n",
       "    .dataframe tbody tr th {\n",
       "        vertical-align: top;\n",
       "    }\n",
       "\n",
       "    .dataframe thead th {\n",
       "        text-align: right;\n",
       "    }\n",
       "</style>\n",
       "<table border=\"1\" class=\"dataframe\">\n",
       "  <thead>\n",
       "    <tr style=\"text-align: right;\">\n",
       "      <th></th>\n",
       "      <th>sepal length (cm)</th>\n",
       "      <th>sepal width (cm)</th>\n",
       "      <th>petal length (cm)</th>\n",
       "      <th>petal width (cm)</th>\n",
       "    </tr>\n",
       "  </thead>\n",
       "  <tbody>\n",
       "    <tr>\n",
       "      <th>count</th>\n",
       "      <td>150.000000</td>\n",
       "      <td>150.000000</td>\n",
       "      <td>150.000000</td>\n",
       "      <td>150.000000</td>\n",
       "    </tr>\n",
       "    <tr>\n",
       "      <th>mean</th>\n",
       "      <td>5.843333</td>\n",
       "      <td>3.054000</td>\n",
       "      <td>3.758667</td>\n",
       "      <td>1.198667</td>\n",
       "    </tr>\n",
       "    <tr>\n",
       "      <th>std</th>\n",
       "      <td>0.828066</td>\n",
       "      <td>0.433594</td>\n",
       "      <td>1.764420</td>\n",
       "      <td>0.763161</td>\n",
       "    </tr>\n",
       "    <tr>\n",
       "      <th>min</th>\n",
       "      <td>4.300000</td>\n",
       "      <td>2.000000</td>\n",
       "      <td>1.000000</td>\n",
       "      <td>0.100000</td>\n",
       "    </tr>\n",
       "    <tr>\n",
       "      <th>25%</th>\n",
       "      <td>5.100000</td>\n",
       "      <td>2.800000</td>\n",
       "      <td>1.600000</td>\n",
       "      <td>0.300000</td>\n",
       "    </tr>\n",
       "    <tr>\n",
       "      <th>50%</th>\n",
       "      <td>5.800000</td>\n",
       "      <td>3.000000</td>\n",
       "      <td>4.350000</td>\n",
       "      <td>1.300000</td>\n",
       "    </tr>\n",
       "    <tr>\n",
       "      <th>75%</th>\n",
       "      <td>6.400000</td>\n",
       "      <td>3.300000</td>\n",
       "      <td>5.100000</td>\n",
       "      <td>1.800000</td>\n",
       "    </tr>\n",
       "    <tr>\n",
       "      <th>max</th>\n",
       "      <td>7.900000</td>\n",
       "      <td>4.400000</td>\n",
       "      <td>6.900000</td>\n",
       "      <td>2.500000</td>\n",
       "    </tr>\n",
       "  </tbody>\n",
       "</table>\n",
       "</div>"
      ],
      "text/plain": [
       "       sepal length (cm)  sepal width (cm)  petal length (cm)  \\\n",
       "count         150.000000        150.000000         150.000000   \n",
       "mean            5.843333          3.054000           3.758667   \n",
       "std             0.828066          0.433594           1.764420   \n",
       "min             4.300000          2.000000           1.000000   \n",
       "25%             5.100000          2.800000           1.600000   \n",
       "50%             5.800000          3.000000           4.350000   \n",
       "75%             6.400000          3.300000           5.100000   \n",
       "max             7.900000          4.400000           6.900000   \n",
       "\n",
       "       petal width (cm)  \n",
       "count        150.000000  \n",
       "mean           1.198667  \n",
       "std            0.763161  \n",
       "min            0.100000  \n",
       "25%            0.300000  \n",
       "50%            1.300000  \n",
       "75%            1.800000  \n",
       "max            2.500000  "
      ]
     },
     "execution_count": 20,
     "metadata": {},
     "output_type": "execute_result"
    }
   ],
   "source": [
    "X.describe()"
   ]
  },
  {
   "cell_type": "markdown",
   "metadata": {},
   "source": [
    "Below there are the names of the classes for the further use"
   ]
  },
  {
   "cell_type": "code",
   "execution_count": 21,
   "metadata": {
    "ExecuteTime": {
     "end_time": "2018-06-22T04:27:11.074742Z",
     "start_time": "2018-06-22T04:27:11.071197Z"
    },
    "collapsed": true
   },
   "outputs": [],
   "source": [
    "class_labels = [\"setosa\", \"versicolour\", \"virginica\"]"
   ]
  },
  {
   "cell_type": "markdown",
   "metadata": {},
   "source": [
    "All the features here are continuous numerical features"
   ]
  },
  {
   "cell_type": "markdown",
   "metadata": {},
   "source": [
    "Let's also take a look into correlation matrix of features"
   ]
  },
  {
   "cell_type": "code",
   "execution_count": 22,
   "metadata": {
    "ExecuteTime": {
     "end_time": "2018-06-22T04:27:11.413000Z",
     "start_time": "2018-06-22T04:27:11.077409Z"
    }
   },
   "outputs": [
    {
     "data": {
      "image/png": "[encoded data removed]",
      "text/plain": [
       "<matplotlib.figure.Figure at 0x1a1adc1710>"
      ]
     },
     "metadata": {},
     "output_type": "display_data"
    }
   ],
   "source": [
    "# compute the correlation matrix\n",
    "corr = X.corr()\n",
    "\n",
    "# generate a mask for the lower triangle\n",
    "mask = np.zeros_like(corr, dtype=np.bool)\n",
    "mask[np.triu_indices_from(mask)] = True\n",
    "\n",
    "# set up the matplotlib figure\n",
    "f, ax = plt.subplots(figsize=(12, 12))\n",
    "\n",
    "# generate a custom diverging colormap\n",
    "cmap = sns.diverging_palette(220, 10, as_cmap=True)\n",
    "\n",
    "# draw the heatmap with the mask and correct aspect ratio\n",
    "sns.heatmap(corr, mask=mask, cmap=cmap, vmax=.3,\n",
    "            square=True, \n",
    "            linewidths=.5, cbar_kws={\"shrink\": .5}, ax=ax);"
   ]
  },
  {
   "cell_type": "markdown",
   "metadata": {},
   "source": [
    "Sometimes it's worth to take a look into paiwise features distributions. In some cases it becomes obvious how to separate classes and build a classifier"
   ]
  },
  {
   "cell_type": "code",
   "execution_count": 23,
   "metadata": {
    "ExecuteTime": {
     "end_time": "2018-06-22T04:27:13.633521Z",
     "start_time": "2018-06-22T04:27:11.415857Z"
    }
   },
   "outputs": [
    {
     "data": {
      "image/png": "[encoded data removed]",
      "text/plain": [
       "<matplotlib.figure.Figure at 0x1a1a8cd898>"
      ]
     },
     "metadata": {},
     "output_type": "display_data"
    }
   ],
   "source": [
    "sns.pairplot(sns.load_dataset(\"iris\"), hue=\"species\", size=4);"
   ]
  },
  {
   "cell_type": "markdown",
   "metadata": {},
   "source": [
    "As one can observe from this graph, one class (setosa) separates almost with no error. Other two are also almost linearly separable.\n",
    "\n",
    "Therefore we anticipate very high classification quality."
   ]
  },
  {
   "cell_type": "markdown",
   "metadata": {},
   "source": [
    "## Data preprocessing"
   ]
  },
  {
   "cell_type": "markdown",
   "metadata": {},
   "source": [
    "Here the scale of the features is almost the same for all the features thus there is no need to do rescaling. So we only need to do train/test splitting"
   ]
  },
  {
   "cell_type": "code",
   "execution_count": 24,
   "metadata": {
    "ExecuteTime": {
     "end_time": "2018-06-22T04:27:13.639670Z",
     "start_time": "2018-06-22T04:27:13.635404Z"
    },
    "collapsed": true
   },
   "outputs": [],
   "source": [
    "X_train, X_test, y_train, y_test = train_test_split(X, y, test_size=0.2, random_state=42)"
   ]
  },
  {
   "cell_type": "markdown",
   "metadata": {},
   "source": [
    "## Table of results"
   ]
  },
  {
   "cell_type": "markdown",
   "metadata": {},
   "source": [
    "It is important to track results of different experiments for the sake of further comparison."
   ]
  },
  {
   "cell_type": "code",
   "execution_count": 25,
   "metadata": {
    "ExecuteTime": {
     "end_time": "2018-06-22T04:27:13.646511Z",
     "start_time": "2018-06-22T04:27:13.641233Z"
    },
    "collapsed": true
   },
   "outputs": [],
   "source": [
    "results = pd.DataFrame(columns=[\"Accuracy\"])"
   ]
  },
  {
   "cell_type": "markdown",
   "metadata": {},
   "source": [
    "## Sklearn Logistic Regression"
   ]
  },
  {
   "cell_type": "markdown",
   "metadata": {},
   "source": [
    "### Fitting"
   ]
  },
  {
   "cell_type": "markdown",
   "metadata": {},
   "source": [
    "Here we're going to use very basic \"Logistic regression\" classification model.\n",
    "\n",
    "Sklearn implementation of LogRegression implies mandatory usage of regularization (it almost always works better with it preventing overfitting). We want to explore very basic LogRegression model thus to \"disable\" regularization we need to reduce its impact to almost zero. It can be done by setting regularization constant $\\lambda$ to very small value (in sklearn we define inverse regularization constant $C = 1 / \\lambda$ thus we need to make it big)"
   ]
  },
  {
   "cell_type": "code",
   "execution_count": 58,
   "metadata": {
    "ExecuteTime": {
     "end_time": "2018-06-23T17:28:17.394902Z",
     "start_time": "2018-06-23T17:28:17.389649Z"
    },
    "collapsed": true
   },
   "outputs": [],
   "source": [
    "# big C for switch off regularization\n",
    "model = LogisticRegression(C=1e6, multi_class=\"multinomial\", solver=\"lbfgs\")"
   ]
  },
  {
   "cell_type": "markdown",
   "metadata": {},
   "source": [
    "Fit the model"
   ]
  },
  {
   "cell_type": "code",
   "execution_count": 59,
   "metadata": {
    "ExecuteTime": {
     "end_time": "2018-06-23T17:28:19.279849Z",
     "start_time": "2018-06-23T17:28:19.242176Z"
    }
   },
   "outputs": [
    {
     "data": {
      "text/plain": [
       "LogisticRegression(C=1000000.0, class_weight=None, dual=False,\n",
       "          fit_intercept=True, intercept_scaling=1, max_iter=100,\n",
       "          multi_class='multinomial', n_jobs=1, penalty='l2',\n",
       "          random_state=None, solver='lbfgs', tol=0.0001, verbose=0,\n",
       "          warm_start=False)"
      ]
     },
     "execution_count": 59,
     "metadata": {},
     "output_type": "execute_result"
    }
   ],
   "source": [
    "model.fit(X_train, y_train)"
   ]
  },
  {
   "cell_type": "code",
   "execution_count": 61,
   "metadata": {
    "ExecuteTime": {
     "end_time": "2018-06-23T17:29:12.960719Z",
     "start_time": "2018-06-23T17:29:12.954005Z"
    }
   },
   "outputs": [
    {
     "data": {
      "text/plain": [
       "array([[ 11.56297358,  21.93432681, -28.48675794, -13.54880206],\n",
       "       [ -2.63497985,   0.2304421 ,   2.3936554 , -35.19376922],\n",
       "       [ -8.92799377, -22.16476893,  26.09310253,  48.74257127]])"
      ]
     },
     "execution_count": 61,
     "metadata": {},
     "output_type": "execute_result"
    }
   ],
   "source": [
    "model.coef_"
   ]
  },
  {
   "cell_type": "markdown",
   "metadata": {},
   "source": [
    "### Evaluation"
   ]
  },
  {
   "cell_type": "markdown",
   "metadata": {},
   "source": [
    "Let's see what features are significant for the model and for each class"
   ]
  },
  {
   "cell_type": "code",
   "execution_count": 28,
   "metadata": {
    "ExecuteTime": {
     "end_time": "2018-06-22T04:27:13.876155Z",
     "start_time": "2018-06-22T04:27:13.680057Z"
    }
   },
   "outputs": [
    {
     "data": {
      "image/png": "[encoded data removed]",
      "text/plain": [
       "<matplotlib.figure.Figure at 0x1a1bf40ef0>"
      ]
     },
     "metadata": {},
     "output_type": "display_data"
    }
   ],
   "source": [
    "plt.figure(figsize=(12, 8))\n",
    "plt.bar(np.arange(model.coef_.shape[1]) - 0.2, model.coef_[0], color=\"red\", width=0.2, label=\"setosa\")\n",
    "plt.bar(np.arange(model.coef_.shape[1]) - 0.0, model.coef_[1], color=\"green\", width=0.2, label=\"versicolour\")\n",
    "plt.bar(np.arange(model.coef_.shape[1]) + 0.2, model.coef_[2], color=\"blue\", width=0.2, label=\"virginica\")\n",
    "plt.xticks(np.arange(model.coef_.shape[1]), X.columns, rotation='vertical')\n",
    "plt.xlim([-1, model.coef_.shape[1]])\n",
    "plt.title(\"Model coefficients\")\n",
    "plt.legend(loc=\"lower right\");"
   ]
  },
  {
   "cell_type": "markdown",
   "metadata": {},
   "source": [
    "It maybe interesting to compare this barchart with the pairwise feature distributions.\n",
    "\n",
    "For example, in the barplot one can see that *sepal length* does not influence *versicolour* separating hyperplane. Indeed, let's take a look into the first column of the pairwise plot (*sepal length* is the x axis). As one can see, *versicolour* class is indistinguishable from other with the vertical lines in combination with every other feature as y-axis."
   ]
  },
  {
   "cell_type": "markdown",
   "metadata": {},
   "source": [
    "Predicting both train and test sets to evaluate model"
   ]
  },
  {
   "cell_type": "code",
   "execution_count": 29,
   "metadata": {
    "ExecuteTime": {
     "end_time": "2018-06-22T04:27:13.883085Z",
     "start_time": "2018-06-22T04:27:13.878480Z"
    },
    "collapsed": true
   },
   "outputs": [],
   "source": [
    "preds_test = model.predict(X_test)\n",
    "preds_train = model.predict(X_train)"
   ]
  },
  {
   "cell_type": "markdown",
   "metadata": {},
   "source": [
    "Accuracy scores"
   ]
  },
  {
   "cell_type": "code",
   "execution_count": 30,
   "metadata": {
    "ExecuteTime": {
     "end_time": "2018-06-22T04:27:13.893157Z",
     "start_time": "2018-06-22T04:27:13.885677Z"
    }
   },
   "outputs": [
    {
     "name": "stdout",
     "output_type": "stream",
     "text": [
      "Train accuracy: 0.983\n",
      "Test accuracy: 1.0\n"
     ]
    }
   ],
   "source": [
    "print(\"Train accuracy:\", np.round(accuracy_score(y_train, preds_train), 3))\n",
    "print(\"Test accuracy:\", np.round(accuracy_score(y_test, preds_test), 3))"
   ]
  },
  {
   "cell_type": "markdown",
   "metadata": {},
   "source": [
    "Add to the table of results:"
   ]
  },
  {
   "cell_type": "code",
   "execution_count": 31,
   "metadata": {
    "ExecuteTime": {
     "end_time": "2018-06-22T04:27:13.902808Z",
     "start_time": "2018-06-22T04:27:13.895597Z"
    },
    "collapsed": true
   },
   "outputs": [],
   "source": [
    "results = results.append(pd.DataFrame(\n",
    "        [np.round(accuracy_score(y_train, preds_train), 3), np.round(accuracy_score(y_test, preds_test), 3)], \n",
    "        columns=[\"Accuracy\"], \n",
    "        index=[\"Sklearn Train\", \"Sklearn Test\"]))"
   ]
  },
  {
   "cell_type": "code",
   "execution_count": 32,
   "metadata": {
    "ExecuteTime": {
     "end_time": "2018-06-22T04:27:13.913311Z",
     "start_time": "2018-06-22T04:27:13.905273Z"
    }
   },
   "outputs": [
    {
     "data": {
      "text/html": [
       "<div>\n",
       "<style scoped>\n",
       "    .dataframe tbody tr th:only-of-type {\n",
       "        vertical-align: middle;\n",
       "    }\n",
       "\n",
       "    .dataframe tbody tr th {\n",
       "        vertical-align: top;\n",
       "    }\n",
       "\n",
       "    .dataframe thead th {\n",
       "        text-align: right;\n",
       "    }\n",
       "</style>\n",
       "<table border=\"1\" class=\"dataframe\">\n",
       "  <thead>\n",
       "    <tr style=\"text-align: right;\">\n",
       "      <th></th>\n",
       "      <th>Accuracy</th>\n",
       "    </tr>\n",
       "  </thead>\n",
       "  <tbody>\n",
       "    <tr>\n",
       "      <th>Sklearn Train</th>\n",
       "      <td>0.983</td>\n",
       "    </tr>\n",
       "    <tr>\n",
       "      <th>Sklearn Test</th>\n",
       "      <td>1.000</td>\n",
       "    </tr>\n",
       "  </tbody>\n",
       "</table>\n",
       "</div>"
      ],
      "text/plain": [
       "               Accuracy\n",
       "Sklearn Train     0.983\n",
       "Sklearn Test      1.000"
      ]
     },
     "execution_count": 32,
     "metadata": {},
     "output_type": "execute_result"
    }
   ],
   "source": [
    "results"
   ]
  },
  {
   "cell_type": "markdown",
   "metadata": {},
   "source": [
    "Confusion matrices"
   ]
  },
  {
   "cell_type": "code",
   "execution_count": 33,
   "metadata": {
    "ExecuteTime": {
     "end_time": "2018-06-22T04:27:13.924190Z",
     "start_time": "2018-06-22T04:27:13.916130Z"
    },
    "collapsed": true
   },
   "outputs": [],
   "source": [
    "cm_train = confusion_matrix(y_train, preds_train).astype(np.float32)\n",
    "cm_train /= cm_train.sum(axis=1)[:, np.newaxis]\n",
    "\n",
    "cm_test = confusion_matrix(y_test, preds_test).astype(np.float32)\n",
    "cm_test /= cm_test.sum(axis=1)[:, np.newaxis]"
   ]
  },
  {
   "cell_type": "code",
   "execution_count": 62,
   "metadata": {
    "ExecuteTime": {
     "end_time": "2018-06-23T17:36:28.772376Z",
     "start_time": "2018-06-23T17:36:28.761836Z"
    }
   },
   "outputs": [
    {
     "data": {
      "text/plain": [
       "array([[ 42.,   0.,   0.],\n",
       "       [  0.,  40.,   0.],\n",
       "       [  0.,   8.,   6.]], dtype=float32)"
      ]
     },
     "execution_count": 62,
     "metadata": {},
     "output_type": "execute_result"
    }
   ],
   "source": [
    "confusion_matrix(y_train, preds_train).astype(np.float32)"
   ]
  },
  {
   "cell_type": "markdown",
   "metadata": {},
   "source": [
    "Visualize them"
   ]
  },
  {
   "cell_type": "code",
   "execution_count": 34,
   "metadata": {
    "ExecuteTime": {
     "end_time": "2018-06-22T04:27:14.417379Z",
     "start_time": "2018-06-22T04:27:13.926635Z"
    }
   },
   "outputs": [
    {
     "data": {
      "image/png": "[encoded data removed]",
      "text/plain": [
       "<matplotlib.figure.Figure at 0x1a1bf90c88>"
      ]
     },
     "metadata": {},
     "output_type": "display_data"
    }
   ],
   "source": [
    "plt.figure(figsize=(20, 8))\n",
    "\n",
    "plt.subplot(121)\n",
    "g = sns.heatmap(cm_train, vmin=0, vmax=1, annot=True, cmap=\"Reds\")\n",
    "plt.xlabel(\"Predicted\", fontsize=14)\n",
    "plt.ylabel(\"True\", fontsize=14)\n",
    "g.set(xticklabels=class_labels, yticklabels=class_labels)\n",
    "plt.title(\"Train\", fontsize=14)\n",
    "\n",
    "plt.subplot(122)\n",
    "g = sns.heatmap(cm_test, vmin=0, vmax=1, annot=True, cmap=\"Reds\")\n",
    "plt.xlabel(\"Predicted\", fontsize=14)\n",
    "plt.ylabel(\"True\", fontsize=14)\n",
    "g.set(xticklabels=class_labels, yticklabels=class_labels)\n",
    "plt.title(\"Test\", fontsize=14);"
   ]
  },
  {
   "cell_type": "markdown",
   "metadata": {},
   "source": [
    "As we suggested before, setosa perfectly separates from two other classes."
   ]
  },
  {
   "cell_type": "markdown",
   "metadata": {},
   "source": [
    "### Cross-Validation"
   ]
  },
  {
   "cell_type": "markdown",
   "metadata": {},
   "source": [
    "The common method to evaluate the model is cross-validation. The idea behind it is to divide the whole set of objects into $k$ sections and then use one section as a test set and other $k-1$ as a train (repeat it with all the sections).\n",
    "\n",
    "There is a special function for this in sklearn called $\\text{KFold}$. It creates set of indices for cross-validation."
   ]
  },
  {
   "cell_type": "code",
   "execution_count": 63,
   "metadata": {
    "ExecuteTime": {
     "end_time": "2018-06-23T17:41:35.972990Z",
     "start_time": "2018-06-23T17:41:35.966886Z"
    },
    "collapsed": true
   },
   "outputs": [],
   "source": [
    "cv = KFold(n_splits=5, shuffle=True, random_state=42)\n",
    "cv_idx = list(cv.split(X_train, y_train))"
   ]
  },
  {
   "cell_type": "markdown",
   "metadata": {},
   "source": [
    "Next step is to do everything that we've done before in a loop:\n",
    "* Split\n",
    "* Train\n",
    "* Evaluate\n",
    "\n",
    "And store the average value of the errors"
   ]
  },
  {
   "cell_type": "code",
   "execution_count": 36,
   "metadata": {
    "ExecuteTime": {
     "end_time": "2018-06-22T04:27:14.534860Z",
     "start_time": "2018-06-22T04:27:14.427192Z"
    },
    "collapsed": true
   },
   "outputs": [],
   "source": [
    "from sklearn.pipeline import Pipeline\n",
    "from sklearn.preprocessing import MinMaxScaler\n",
    "\n",
    "acc = None\n",
    "cm = None\n",
    "estimator = [LogisticRegression(), RandomForestClassifier()]\n",
    "\n",
    "for e in estimator:\n",
    "    for train_idx, test_idx in cv_idx:\n",
    "\n",
    "        # split\n",
    "        X_train, X_test = X.values[train_idx], X.values[test_idx]\n",
    "        y_train, y_test = y[train_idx], y[test_idx]\n",
    "\n",
    "        # create logistic regression pipeline\n",
    "        model = Pipeline([('scaler', MinMaxScaler()),\n",
    "                          ('classifier', e)])\n",
    "\n",
    "        model.fit(X_train, y_train)\n",
    "        y_pred = model.predict(X_test)\n",
    "\n",
    "        # evaluate\n",
    "\n",
    "        if acc is None:\n",
    "            acc = accuracy_score(y_test, y_pred)\n",
    "            cm = confusion_matrix(y_test, y_pred).astype(np.float32)\n",
    "        else:\n",
    "            acc += accuracy_score(y_test, y_pred)\n",
    "            cm += confusion_matrix(y_test, y_pred)\n",
    "        \n",
    "# take the average value across all folds\n",
    "acc /= cv.n_splits\n",
    "cm /= cm.sum(axis=1)[:, np.newaxis]"
   ]
  },
  {
   "cell_type": "code",
   "execution_count": 37,
   "metadata": {
    "ExecuteTime": {
     "end_time": "2018-06-22T04:27:14.542482Z",
     "start_time": "2018-06-22T04:27:14.537228Z"
    }
   },
   "outputs": [
    {
     "name": "stdout",
     "output_type": "stream",
     "text": [
      "CV accuracy: 0.967\n"
     ]
    }
   ],
   "source": [
    "print(\"CV accuracy:\", np.round(acc, 3))"
   ]
  },
  {
   "cell_type": "code",
   "execution_count": 38,
   "metadata": {
    "ExecuteTime": {
     "end_time": "2018-06-22T04:27:14.744945Z",
     "start_time": "2018-06-22T04:27:14.544724Z"
    }
   },
   "outputs": [
    {
     "data": {
      "image/png": "[encoded data removed]",
      "text/plain": [
       "<matplotlib.figure.Figure at 0x1a1bf172b0>"
      ]
     },
     "metadata": {},
     "output_type": "display_data"
    }
   ],
   "source": [
    "plt.figure(figsize=(10, 8))\n",
    "g = sns.heatmap(cm, vmin=0, vmax=1, annot=True, cmap=\"Reds\")\n",
    "plt.xlabel(\"Predicted\", fontsize=14)\n",
    "plt.ylabel(\"True\", fontsize=14)\n",
    "g.set(xticklabels=class_labels, yticklabels=class_labels)\n",
    "plt.title(\"CV\", fontsize=14);"
   ]
  },
  {
   "cell_type": "markdown",
   "metadata": {},
   "source": [
    "## Pipeline for classification "
   ]
  },
  {
   "cell_type": "code",
   "execution_count": 39,
   "metadata": {
    "ExecuteTime": {
     "end_time": "2018-06-22T04:27:14.751803Z",
     "start_time": "2018-06-22T04:27:14.747392Z"
    },
    "collapsed": true
   },
   "outputs": [],
   "source": [
    "pipe_model = Pipeline([('scaler', MinMaxScaler()),\n",
    "                  ('classifier', LogisticRegression())\n",
    "                 ])"
   ]
  },
  {
   "cell_type": "markdown",
   "metadata": {},
   "source": [
    "## Gridsearch to optimize hyperparameter selection for classification"
   ]
  },
  {
   "cell_type": "code",
   "execution_count": 65,
   "metadata": {
    "ExecuteTime": {
     "end_time": "2018-06-23T17:59:08.424663Z",
     "start_time": "2018-06-23T17:59:08.418533Z"
    },
    "collapsed": true
   },
   "outputs": [],
   "source": [
    "from sklearn.model_selection import GridSearchCV\n",
    "\n",
    "param_grid = {'classifier__penalty':['l1','l2'], \n",
    "              'classifier__C': [1, 10, 100, 1000, 10000]\n",
    "             }\n",
    "\n",
    "gs = GridSearchCV(pipe_model, param_grid, cv=5, verbose=2)"
   ]
  },
  {
   "cell_type": "code",
   "execution_count": 67,
   "metadata": {
    "ExecuteTime": {
     "end_time": "2018-06-23T18:01:26.814817Z",
     "start_time": "2018-06-23T18:01:26.806828Z"
    }
   },
   "outputs": [
    {
     "data": {
      "text/plain": [
       "LogisticRegression(C=1.0, class_weight=None, dual=False, fit_intercept=True,\n",
       "          intercept_scaling=1, max_iter=100, multi_class='ovr', n_jobs=1,\n",
       "          penalty='l2', random_state=None, solver='liblinear', tol=0.0001,\n",
       "          verbose=0, warm_start=False)"
      ]
     },
     "execution_count": 67,
     "metadata": {},
     "output_type": "execute_result"
    }
   ],
   "source": [
    "pipe_model.named_steps['classifier']"
   ]
  },
  {
   "cell_type": "code",
   "execution_count": 68,
   "metadata": {
    "ExecuteTime": {
     "end_time": "2018-06-23T18:04:36.710345Z",
     "start_time": "2018-06-23T18:04:36.397918Z"
    }
   },
   "outputs": [
    {
     "name": "stdout",
     "output_type": "stream",
     "text": [
      "Fitting 5 folds for each of 10 candidates, totalling 50 fits\n",
      "[CV] classifier__C=1, classifier__penalty=l1 .........................\n",
      "[CV] .......... classifier__C=1, classifier__penalty=l1, total=   0.0s\n",
      "[CV] classifier__C=1, classifier__penalty=l1 .........................\n",
      "[CV] .......... classifier__C=1, classifier__penalty=l1, total=   0.0s\n",
      "[CV] classifier__C=1, classifier__penalty=l1 .........................\n",
      "[CV] .......... classifier__C=1, classifier__penalty=l1, total=   0.0s\n",
      "[CV] classifier__C=1, classifier__penalty=l1 .........................\n",
      "[CV] .......... classifier__C=1, classifier__penalty=l1, total=   0.0s\n",
      "[CV] classifier__C=1, classifier__penalty=l1 .........................\n",
      "[CV] .......... classifier__C=1, classifier__penalty=l1, total=   0.0s\n",
      "[CV] classifier__C=1, classifier__penalty=l2 .........................\n",
      "[CV] .......... classifier__C=1, classifier__penalty=l2, total=   0.0s\n",
      "[CV] classifier__C=1, classifier__penalty=l2 .........................\n",
      "[CV] .......... classifier__C=1, classifier__penalty=l2, total=   0.0s\n",
      "[CV] classifier__C=1, classifier__penalty=l2 .........................\n",
      "[CV] .......... classifier__C=1, classifier__penalty=l2, total=   0.0s\n",
      "[CV] classifier__C=1, classifier__penalty=l2 .........................\n",
      "[CV] .......... classifier__C=1, classifier__penalty=l2, total=   0.0s\n",
      "[CV] classifier__C=1, classifier__penalty=l2 .........................\n",
      "[CV] .......... classifier__C=1, classifier__penalty=l2, total=   0.0s\n",
      "[CV] classifier__C=10, classifier__penalty=l1 ........................\n",
      "[CV] ......... classifier__C=10, classifier__penalty=l1, total=   0.0s\n",
      "[CV] classifier__C=10, classifier__penalty=l1 ........................\n",
      "[CV] ......... classifier__C=10, classifier__penalty=l1, total=   0.0s\n",
      "[CV] classifier__C=10, classifier__penalty=l1 ........................\n",
      "[CV] ......... classifier__C=10, classifier__penalty=l1, total=   0.0s\n",
      "[CV] classifier__C=10, classifier__penalty=l1 ........................\n",
      "[CV] ......... classifier__C=10, classifier__penalty=l1, total=   0.0s\n",
      "[CV] classifier__C=10, classifier__penalty=l1 ........................\n",
      "[CV] ......... classifier__C=10, classifier__penalty=l1, total=   0.0s\n",
      "[CV] classifier__C=10, classifier__penalty=l2 ........................\n",
      "[CV] ......... classifier__C=10, classifier__penalty=l2, total=   0.0s\n",
      "[CV] classifier__C=10, classifier__penalty=l2 ........................\n",
      "[CV] ......... classifier__C=10, classifier__penalty=l2, total=   0.0s\n",
      "[CV] classifier__C=10, classifier__penalty=l2 ........................\n",
      "[CV] ......... classifier__C=10, classifier__penalty=l2, total=   0.0s\n",
      "[CV] classifier__C=10, classifier__penalty=l2 ........................\n",
      "[CV] ......... classifier__C=10, classifier__penalty=l2, total=   0.0s\n",
      "[CV] classifier__C=10, classifier__penalty=l2 ........................\n",
      "[CV] ......... classifier__C=10, classifier__penalty=l2, total=   0.0s\n",
      "[CV] classifier__C=100, classifier__penalty=l1 .......................\n",
      "[CV] ........ classifier__C=100, classifier__penalty=l1, total=   0.0s\n",
      "[CV] classifier__C=100, classifier__penalty=l1 .......................\n",
      "[CV] ........ classifier__C=100, classifier__penalty=l1, total=   0.0s\n",
      "[CV] classifier__C=100, classifier__penalty=l1 .......................\n",
      "[CV] ........ classifier__C=100, classifier__penalty=l1, total=   0.0s\n",
      "[CV] classifier__C=100, classifier__penalty=l1 .......................\n",
      "[CV] ........ classifier__C=100, classifier__penalty=l1, total=   0.0s\n",
      "[CV] classifier__C=100, classifier__penalty=l1 .......................\n",
      "[CV] ........ classifier__C=100, classifier__penalty=l1, total=   0.0s\n",
      "[CV] classifier__C=100, classifier__penalty=l2 .......................\n",
      "[CV] ........ classifier__C=100, classifier__penalty=l2, total=   0.0s\n",
      "[CV] classifier__C=100, classifier__penalty=l2 .......................\n",
      "[CV] ........ classifier__C=100, classifier__penalty=l2, total=   0.0s\n",
      "[CV] classifier__C=100, classifier__penalty=l2 .......................\n",
      "[CV] ........ classifier__C=100, classifier__penalty=l2, total=   0.0s\n",
      "[CV] classifier__C=100, classifier__penalty=l2 .......................\n",
      "[CV] ........ classifier__C=100, classifier__penalty=l2, total=   0.0s\n",
      "[CV] classifier__C=100, classifier__penalty=l2 .......................\n",
      "[CV] ........ classifier__C=100, classifier__penalty=l2, total=   0.0s\n",
      "[CV] classifier__C=1000, classifier__penalty=l1 ......................\n",
      "[CV] ....... classifier__C=1000, classifier__penalty=l1, total=   0.0s\n",
      "[CV] classifier__C=1000, classifier__penalty=l1 ......................\n",
      "[CV] ....... classifier__C=1000, classifier__penalty=l1, total=   0.0s\n",
      "[CV] classifier__C=1000, classifier__penalty=l1 ......................\n",
      "[CV] ....... classifier__C=1000, classifier__penalty=l1, total=   0.0s\n",
      "[CV] classifier__C=1000, classifier__penalty=l1 ......................\n",
      "[CV] ....... classifier__C=1000, classifier__penalty=l1, total=   0.0s\n",
      "[CV] classifier__C=1000, classifier__penalty=l1 ......................\n",
      "[CV] ....... classifier__C=1000, classifier__penalty=l1, total=   0.0s\n",
      "[CV] classifier__C=1000, classifier__penalty=l2 ......................\n",
      "[CV] ....... classifier__C=1000, classifier__penalty=l2, total=   0.0s\n",
      "[CV] classifier__C=1000, classifier__penalty=l2 ......................\n",
      "[CV] ....... classifier__C=1000, classifier__penalty=l2, total=   0.0s"
     ]
    },
    {
     "name": "stderr",
     "output_type": "stream",
     "text": [
      "[Parallel(n_jobs=1)]: Done   1 out of   1 | elapsed:    0.0s remaining:    0.0s\n"
     ]
    },
    {
     "name": "stdout",
     "output_type": "stream",
     "text": [
      "\n",
      "[CV] classifier__C=1000, classifier__penalty=l2 ......................\n",
      "[CV] ....... classifier__C=1000, classifier__penalty=l2, total=   0.0s\n",
      "[CV] classifier__C=1000, classifier__penalty=l2 ......................\n",
      "[CV] ....... classifier__C=1000, classifier__penalty=l2, total=   0.0s\n",
      "[CV] classifier__C=1000, classifier__penalty=l2 ......................\n",
      "[CV] ....... classifier__C=1000, classifier__penalty=l2, total=   0.0s\n",
      "[CV] classifier__C=10000, classifier__penalty=l1 .....................\n",
      "[CV] ...... classifier__C=10000, classifier__penalty=l1, total=   0.0s\n",
      "[CV] classifier__C=10000, classifier__penalty=l1 .....................\n",
      "[CV] ...... classifier__C=10000, classifier__penalty=l1, total=   0.0s\n",
      "[CV] classifier__C=10000, classifier__penalty=l1 .....................\n",
      "[CV] ...... classifier__C=10000, classifier__penalty=l1, total=   0.0s\n",
      "[CV] classifier__C=10000, classifier__penalty=l1 .....................\n",
      "[CV] ...... classifier__C=10000, classifier__penalty=l1, total=   0.0s\n",
      "[CV] classifier__C=10000, classifier__penalty=l1 .....................\n",
      "[CV] ...... classifier__C=10000, classifier__penalty=l1, total=   0.0s\n",
      "[CV] classifier__C=10000, classifier__penalty=l2 .....................\n",
      "[CV] ...... classifier__C=10000, classifier__penalty=l2, total=   0.0s\n",
      "[CV] classifier__C=10000, classifier__penalty=l2 .....................\n",
      "[CV] ...... classifier__C=10000, classifier__penalty=l2, total=   0.0s\n",
      "[CV] classifier__C=10000, classifier__penalty=l2 .....................\n",
      "[CV] ...... classifier__C=10000, classifier__penalty=l2, total=   0.0s\n",
      "[CV] classifier__C=10000, classifier__penalty=l2 .....................\n",
      "[CV] ...... classifier__C=10000, classifier__penalty=l2, total=   0.0s\n",
      "[CV] classifier__C=10000, classifier__penalty=l2 .....................\n",
      "[CV] ...... classifier__C=10000, classifier__penalty=l2, total=   0.0s\n"
     ]
    },
    {
     "name": "stderr",
     "output_type": "stream",
     "text": [
      "[Parallel(n_jobs=1)]: Done  50 out of  50 | elapsed:    0.3s finished\n"
     ]
    },
    {
     "data": {
      "text/plain": [
       "GridSearchCV(cv=5, error_score='raise',\n",
       "       estimator=Pipeline(memory=None,\n",
       "     steps=[('scaler', MinMaxScaler(copy=True, feature_range=(0, 1))), ('classifier', LogisticRegression(C=1.0, class_weight=None, dual=False, fit_intercept=True,\n",
       "          intercept_scaling=1, max_iter=100, multi_class='ovr', n_jobs=1,\n",
       "          penalty='l2', random_state=None, solver='liblinear', tol=0.0001,\n",
       "          verbose=0, warm_start=False))]),\n",
       "       fit_params=None, iid=True, n_jobs=1,\n",
       "       param_grid={'classifier__penalty': ['l1', 'l2'], 'classifier__C': [1, 10, 100, 1000, 10000]},\n",
       "       pre_dispatch='2*n_jobs', refit=True, return_train_score='warn',\n",
       "       scoring=None, verbose=2)"
      ]
     },
     "execution_count": 68,
     "metadata": {},
     "output_type": "execute_result"
    }
   ],
   "source": [
    "gs.fit(X_train, y_train)"
   ]
  },
  {
   "cell_type": "code",
   "execution_count": 42,
   "metadata": {
    "ExecuteTime": {
     "end_time": "2018-06-22T04:27:15.033062Z",
     "start_time": "2018-06-22T04:27:15.027423Z"
    }
   },
   "outputs": [
    {
     "data": {
      "text/plain": [
       "{'classifier__C': 1000, 'classifier__penalty': 'l1'}"
      ]
     },
     "execution_count": 42,
     "metadata": {},
     "output_type": "execute_result"
    }
   ],
   "source": [
    "# best grid search parameters\n",
    "gs.best_params_"
   ]
  },
  {
   "cell_type": "code",
   "execution_count": 71,
   "metadata": {
    "ExecuteTime": {
     "end_time": "2018-06-23T18:05:11.946713Z",
     "start_time": "2018-06-23T18:05:11.941920Z"
    },
    "collapsed": true
   },
   "outputs": [],
   "source": [
    "# best estimator\n",
    "s = gs.best_estimator_.named_steps['scaler']"
   ]
  },
  {
   "cell_type": "code",
   "execution_count": 44,
   "metadata": {
    "ExecuteTime": {
     "end_time": "2018-06-22T04:27:15.051768Z",
     "start_time": "2018-06-22T04:27:15.045139Z"
    }
   },
   "outputs": [
    {
     "data": {
      "text/plain": [
       "array([[  0.        ,   9.12425233, -24.71254134, -18.64647394],\n",
       "       [ -4.60912893,  -5.94177747,  17.29547774, -10.43525105],\n",
       "       [  0.        , -13.52597999,  58.51658794,  76.76762137]])"
      ]
     },
     "execution_count": 44,
     "metadata": {},
     "output_type": "execute_result"
    }
   ],
   "source": [
    "# access logistic regression coefficients from best estimator\n",
    "gs.best_estimator_.named_steps['classifier'].coef_"
   ]
  },
  {
   "cell_type": "markdown",
   "metadata": {},
   "source": [
    "# Homegrown Logistic Regression"
   ]
  },
  {
   "cell_type": "markdown",
   "metadata": {},
   "source": [
    "Below there is an implementation of multinomial logistic regression with raw python."
   ]
  },
  {
   "cell_type": "code",
   "execution_count": 45,
   "metadata": {
    "ExecuteTime": {
     "end_time": "2018-06-22T04:27:15.359156Z",
     "start_time": "2018-06-22T04:27:15.054343Z"
    },
    "collapsed": true
   },
   "outputs": [],
   "source": [
    "class LogisticRegressionHomegrown(object):\n",
    "    \n",
    "    def __init__(self):\n",
    "        self.coef_ = None       # weight vector\n",
    "        self.intercept_ = None  # bias term\n",
    "        self._theta = None      # augmented weight vector, i.e., bias + weights\n",
    "                                # this allows to treat all decision variables homogeneously\n",
    "        self.history = {\"cost\": [], \n",
    "                        \"coef\": [], \n",
    "                        \"intercept\": [], \n",
    "                        \"grad\": [], \n",
    "                        \"acc\": []}\n",
    "        \n",
    "    # calculate gradient of objective function\n",
    "    def _grad(self, X, y):\n",
    "        # number of training examples\n",
    "        n = X.shape[0]\n",
    "        \n",
    "        # get scores for each class and example\n",
    "        # 2D matrix\n",
    "        scores = self._predict_raw(X)\n",
    "        \n",
    "        # transform scores to probabilities\n",
    "        # softmax\n",
    "        exp_scores = np.exp(scores)\n",
    "        probs = exp_scores / np.sum(exp_scores, axis=1, keepdims=True)\n",
    "        \n",
    "        # error\n",
    "        probs[range(n),y] -= 1\n",
    "        \n",
    "        # gradient\n",
    "        gradient = np.dot(X.T, probs) / n \n",
    "        #gradient = np.dot(X.T, probs) / n + 2 *eta *np.sum(self._theta[1:,], by 1)\n",
    "        \n",
    "        return gradient\n",
    "    \n",
    "    # full gradient descent, i.e., not stochastic gd\n",
    "    def _gd(self, X, y, max_iter, alpha=0.05):\n",
    "        for i in range(max_iter):\n",
    "            self.history[\"coef\"].append(self._theta[1:])\n",
    "            self.history[\"intercept\"].append(self._theta[0])\n",
    "            \n",
    "            metrics = self.score(X, y)\n",
    "            self.history[\"cost\"].append(metrics[\"cost\"])\n",
    "            self.history[\"acc\"].append(metrics[\"acc\"])\n",
    "\n",
    "            # calculate gradient\n",
    "            grad = self._grad(X, y)\n",
    "            self.history[\"grad\"].append(grad)\n",
    "            \n",
    "            # do gradient step\n",
    "            self._theta -= alpha * grad\n",
    "    \n",
    "    # public API for fitting a linear regression model\n",
    "    def fit(self, X, y, max_iter=1000):\n",
    "        # Augment the data with the bias term.\n",
    "        # So we can treat the the input variables and the bias term homogeneously \n",
    "        # from a vectorization perspective\n",
    "        X = np.c_[np.ones(X.shape[0]), X]\n",
    "        # initialize if the first step\n",
    "        if self._theta is None:\n",
    "            self._theta = np.random.rand(X.shape[1], len(np.unique(y)))\n",
    "        \n",
    "        # do full gradient descent\n",
    "        self._gd(X, y, max_iter)\n",
    "        \n",
    "        # get final weigths and bias\n",
    "        self.intercept_ = self._theta[0]\n",
    "        self.coef_ = self._theta[1:]\n",
    "        \n",
    "    # computes logloss and accuracy for (X, y)\n",
    "    def score(self, X, y):\n",
    "        # number of training samples\n",
    "        n = X.shape[0]\n",
    "        \n",
    "        # get scores\n",
    "        scores = self._predict_raw(X)\n",
    "        \n",
    "        # trasnform scores to probabilities\n",
    "        exp_scores = np.exp(scores)\n",
    "        probs = exp_scores / np.sum(exp_scores, axis=1, keepdims=True)\n",
    "        \n",
    "        # logloss per each example\n",
    "        corect_logprobs = -np.log(probs[range(n),y])\n",
    "        \n",
    "        # total mean logloss\n",
    "        data_loss = np.sum(corect_logprobs) / n\n",
    "        \n",
    "        # predictions\n",
    "        pred = np.argmax(scores, axis=1)\n",
    "        # accuracy\n",
    "        acc = accuracy_score(y, pred)\n",
    "        \n",
    "        # final metrics\n",
    "        metrics = {\"acc\": acc, \"cost\": data_loss}\n",
    "        \n",
    "        return metrics\n",
    "        \n",
    "    # computes scores for each class and each object in X\n",
    "    def _predict_raw(self, X):\n",
    "        # check whether X has appended bias feature or not\n",
    "        if X.shape[1] == len(self._theta):\n",
    "            scores = np.dot(X, self._theta)\n",
    "        else:\n",
    "            scores = np.dot(X, self.coef_) + self.intercept_\n",
    "        scores -= np.max(scores, axis=1, keepdims=True)\n",
    "        return scores\n",
    "    \n",
    "    # predicts class for each object in X\n",
    "    def predict(self, X):\n",
    "        # get scores for each class\n",
    "        scores = self._predict_raw(X)\n",
    "        # choose class with maximum score\n",
    "        pred = np.argmax(scores, axis=1)\n",
    "        return pred"
   ]
  },
  {
   "cell_type": "code",
   "execution_count": 46,
   "metadata": {
    "ExecuteTime": {
     "end_time": "2018-06-22T04:27:15.366275Z",
     "start_time": "2018-06-22T04:27:15.361593Z"
    },
    "collapsed": true
   },
   "outputs": [],
   "source": [
    "model_homegrown = LogisticRegressionHomegrown()"
   ]
  },
  {
   "cell_type": "markdown",
   "metadata": {},
   "source": [
    "## Fitting"
   ]
  },
  {
   "cell_type": "code",
   "execution_count": 47,
   "metadata": {
    "ExecuteTime": {
     "end_time": "2018-06-22T04:27:15.453550Z",
     "start_time": "2018-06-22T04:27:15.369098Z"
    },
    "collapsed": true
   },
   "outputs": [],
   "source": [
    "model_homegrown.fit(X_train, y_train, max_iter=300)"
   ]
  },
  {
   "cell_type": "code",
   "execution_count": 48,
   "metadata": {
    "ExecuteTime": {
     "end_time": "2018-06-22T04:27:15.749163Z",
     "start_time": "2018-06-22T04:27:15.456185Z"
    }
   },
   "outputs": [
    {
     "data": {
      "image/png": "[encoded data removed]",
      "text/plain": [
       "<matplotlib.figure.Figure at 0x1a1b3e8940>"
      ]
     },
     "metadata": {},
     "output_type": "display_data"
    }
   ],
   "source": [
    "plt.figure(figsize=(20, 8))\n",
    "plt.suptitle(\"Homegrown Logistic Regression\")\n",
    "plt.subplot(121)\n",
    "plt.plot(model_homegrown.history[\"cost\"], label=\"Train\")\n",
    "plt.legend(frameon=\"True\", loc=\"upper left\")\n",
    "plt.xlabel(\"Epoch\")\n",
    "plt.ylabel(\"Loss\")\n",
    "plt.subplot(122)\n",
    "plt.plot(model_homegrown.history[\"acc\"], label=\"Train\")\n",
    "plt.legend(frameon=\"True\", loc=\"upper left\")\n",
    "plt.xlabel(\"Epoch\")\n",
    "plt.ylabel(\"Accuracy\");"
   ]
  },
  {
   "cell_type": "markdown",
   "metadata": {},
   "source": [
    "## Evaluation"
   ]
  },
  {
   "cell_type": "code",
   "execution_count": 49,
   "metadata": {
    "ExecuteTime": {
     "end_time": "2018-06-22T04:27:15.755698Z",
     "start_time": "2018-06-22T04:27:15.751466Z"
    },
    "collapsed": true
   },
   "outputs": [],
   "source": [
    "preds_train = model_homegrown.predict(X_train)\n",
    "preds_test = model_homegrown.predict(X_test)"
   ]
  },
  {
   "cell_type": "code",
   "execution_count": 50,
   "metadata": {
    "ExecuteTime": {
     "end_time": "2018-06-22T04:27:15.766286Z",
     "start_time": "2018-06-22T04:27:15.758327Z"
    }
   },
   "outputs": [
    {
     "name": "stdout",
     "output_type": "stream",
     "text": [
      "Train accuracy: 0.917\n",
      "Test accuracy: 0.833\n"
     ]
    }
   ],
   "source": [
    "print(\"Train accuracy:\", np.round(accuracy_score(y_train, preds_train), 3))\n",
    "print(\"Test accuracy:\", np.round(accuracy_score(y_test, preds_test), 3))"
   ]
  },
  {
   "cell_type": "code",
   "execution_count": 51,
   "metadata": {
    "ExecuteTime": {
     "end_time": "2018-06-22T04:27:15.775596Z",
     "start_time": "2018-06-22T04:27:15.769219Z"
    },
    "collapsed": true
   },
   "outputs": [],
   "source": [
    "results = results.append(pd.DataFrame(\n",
    "        [np.round(accuracy_score(y_train, preds_train), 3), np.round(accuracy_score(y_test, preds_test), 3)], \n",
    "        columns=[\"Accuracy\"], \n",
    "        index=[\"Homegrown Train\", \"Homegrown Test\"]))"
   ]
  },
  {
   "cell_type": "code",
   "execution_count": 52,
   "metadata": {
    "ExecuteTime": {
     "end_time": "2018-06-22T04:27:15.787103Z",
     "start_time": "2018-06-22T04:27:15.778124Z"
    }
   },
   "outputs": [
    {
     "data": {
      "text/html": [
       "<div>\n",
       "<style scoped>\n",
       "    .dataframe tbody tr th:only-of-type {\n",
       "        vertical-align: middle;\n",
       "    }\n",
       "\n",
       "    .dataframe tbody tr th {\n",
       "        vertical-align: top;\n",
       "    }\n",
       "\n",
       "    .dataframe thead th {\n",
       "        text-align: right;\n",
       "    }\n",
       "</style>\n",
       "<table border=\"1\" class=\"dataframe\">\n",
       "  <thead>\n",
       "    <tr style=\"text-align: right;\">\n",
       "      <th></th>\n",
       "      <th>Accuracy</th>\n",
       "    </tr>\n",
       "  </thead>\n",
       "  <tbody>\n",
       "    <tr>\n",
       "      <th>Sklearn Train</th>\n",
       "      <td>0.983</td>\n",
       "    </tr>\n",
       "    <tr>\n",
       "      <th>Sklearn Test</th>\n",
       "      <td>1.000</td>\n",
       "    </tr>\n",
       "    <tr>\n",
       "      <th>Homegrown Train</th>\n",
       "      <td>0.917</td>\n",
       "    </tr>\n",
       "    <tr>\n",
       "      <th>Homegrown Test</th>\n",
       "      <td>0.833</td>\n",
       "    </tr>\n",
       "  </tbody>\n",
       "</table>\n",
       "</div>"
      ],
      "text/plain": [
       "                 Accuracy\n",
       "Sklearn Train       0.983\n",
       "Sklearn Test        1.000\n",
       "Homegrown Train     0.917\n",
       "Homegrown Test      0.833"
      ]
     },
     "execution_count": 52,
     "metadata": {},
     "output_type": "execute_result"
    }
   ],
   "source": [
    "results"
   ]
  },
  {
   "cell_type": "code",
   "execution_count": 53,
   "metadata": {
    "ExecuteTime": {
     "end_time": "2018-06-22T04:27:15.798114Z",
     "start_time": "2018-06-22T04:27:15.789442Z"
    },
    "collapsed": true
   },
   "outputs": [],
   "source": [
    "cm_train = confusion_matrix(y_train, preds_train).astype(np.float32)\n",
    "cm_train /= cm_train.sum(axis=1)[:, np.newaxis]\n",
    "\n",
    "cm_test = confusion_matrix(y_test, preds_test).astype(np.float32)\n",
    "cm_test /= cm_test.sum(axis=1)[:, np.newaxis]"
   ]
  },
  {
   "cell_type": "code",
   "execution_count": 54,
   "metadata": {
    "ExecuteTime": {
     "end_time": "2018-06-22T04:27:16.187059Z",
     "start_time": "2018-06-22T04:27:15.801325Z"
    }
   },
   "outputs": [
    {
     "data": {
      "image/png": "[encoded data removed]",
      "text/plain": [
       "<matplotlib.figure.Figure at 0x1a1bf54438>"
      ]
     },
     "metadata": {},
     "output_type": "display_data"
    }
   ],
   "source": [
    "plt.figure(figsize=(20, 8))\n",
    "\n",
    "plt.subplot(121)\n",
    "g = sns.heatmap(cm_train, vmin=0, vmax=1, annot=True, cmap=\"Reds\")\n",
    "plt.xlabel(\"Predicted\", fontsize=14)\n",
    "plt.ylabel(\"True\", fontsize=14)\n",
    "g.set(xticklabels=class_labels, yticklabels=class_labels)\n",
    "plt.title(\"Train\", fontsize=14)\n",
    "\n",
    "plt.subplot(122)\n",
    "g = sns.heatmap(cm_test, vmin=0, vmax=1, annot=True, cmap=\"Reds\")\n",
    "plt.xlabel(\"Predicted\", fontsize=14)\n",
    "plt.ylabel(\"True\", fontsize=14)\n",
    "g.set(xticklabels=class_labels, yticklabels=class_labels)\n",
    "plt.title(\"Test\", fontsize=14);"
   ]
  },
  {
   "cell_type": "markdown",
   "metadata": {},
   "source": [
    "# Comparison"
   ]
  },
  {
   "cell_type": "code",
   "execution_count": 55,
   "metadata": {
    "ExecuteTime": {
     "end_time": "2018-06-22T04:27:16.198717Z",
     "start_time": "2018-06-22T04:27:16.189618Z"
    }
   },
   "outputs": [
    {
     "data": {
      "text/html": [
       "<div>\n",
       "<style scoped>\n",
       "    .dataframe tbody tr th:only-of-type {\n",
       "        vertical-align: middle;\n",
       "    }\n",
       "\n",
       "    .dataframe tbody tr th {\n",
       "        vertical-align: top;\n",
       "    }\n",
       "\n",
       "    .dataframe thead th {\n",
       "        text-align: right;\n",
       "    }\n",
       "</style>\n",
       "<table border=\"1\" class=\"dataframe\">\n",
       "  <thead>\n",
       "    <tr style=\"text-align: right;\">\n",
       "      <th></th>\n",
       "      <th>Accuracy</th>\n",
       "    </tr>\n",
       "  </thead>\n",
       "  <tbody>\n",
       "    <tr>\n",
       "      <th>Sklearn Train</th>\n",
       "      <td>0.983</td>\n",
       "    </tr>\n",
       "    <tr>\n",
       "      <th>Sklearn Test</th>\n",
       "      <td>1.000</td>\n",
       "    </tr>\n",
       "    <tr>\n",
       "      <th>Homegrown Train</th>\n",
       "      <td>0.917</td>\n",
       "    </tr>\n",
       "    <tr>\n",
       "      <th>Homegrown Test</th>\n",
       "      <td>0.833</td>\n",
       "    </tr>\n",
       "  </tbody>\n",
       "</table>\n",
       "</div>"
      ],
      "text/plain": [
       "                 Accuracy\n",
       "Sklearn Train       0.983\n",
       "Sklearn Test        1.000\n",
       "Homegrown Train     0.917\n",
       "Homegrown Test      0.833"
      ]
     },
     "execution_count": 55,
     "metadata": {},
     "output_type": "execute_result"
    }
   ],
   "source": [
    "results"
   ]
  },
  {
   "cell_type": "markdown",
   "metadata": {},
   "source": [
    "# Task: Extend homegrown logistic regression with L2 regularization"
   ]
  },
  {
   "cell_type": "markdown",
   "metadata": {
    "ExecuteTime": {
     "end_time": "2018-06-22T04:11:18.410988Z",
     "start_time": "2018-06-22T04:11:18.405252Z"
    }
   },
   "source": [
    "Task: extend the basic logistic regression with L2 regularization"
   ]
  },
  {
   "cell_type": "code",
   "execution_count": null,
   "metadata": {
    "collapsed": true
   },
   "outputs": [],
   "source": []
  }
 ],
 "metadata": {
  "anaconda-cloud": {},
  "kernelspec": {
   "display_name": "Python 3",
   "language": "python",
   "name": "python3"
  },
  "language_info": {
   "codemirror_mode": {
    "name": "ipython",
    "version": 3
   },
   "file_extension": ".py",
   "mimetype": "text/x-python",
   "name": "python",
   "nbconvert_exporter": "python",
   "pygments_lexer": "ipython3",
   "version": "3.6.5"
  },
  "toc": {
   "base_numbering": 1,
   "nav_menu": {
    "height": "300px",
    "width": "252px"
   },
   "number_sections": true,
   "sideBar": true,
   "skip_h1_title": false,
   "title_cell": "Table of Contents",
   "title_sidebar": "Contents",
   "toc_cell": false,
   "toc_position": {
    "height": "704px",
    "left": "0px",
    "right": "1388px",
    "top": "106px",
    "width": "278px"
   },
   "toc_section_display": "block",
   "toc_window_display": true
  },
  "varInspector": {
   "cols": {
    "lenName": 16,
    "lenType": 16,
    "lenVar": 40
   },
   "kernels_config": {
    "python": {
     "delete_cmd_postfix": "",
     "delete_cmd_prefix": "del ",
     "library": "var_list.py",
     "varRefreshCmd": "print(var_dic_list())"
    },
    "r": {
     "delete_cmd_postfix": ") ",
     "delete_cmd_prefix": "rm(",
     "library": "var_list.r",
     "varRefreshCmd": "cat(var_dic_list()) "
    }
   },
   "types_to_exclude": [
    "module",
    "function",
    "builtin_function_or_method",
    "instance",
    "_Feature"
   ],
   "window_display": false
  }
 },
 "nbformat": 4,
 "nbformat_minor": 2
}
