{
 "cells": [
  {
   "cell_type": "markdown",
   "metadata": {},
   "source": [
    "## Goals of this notebook:\n",
    "In this tutorial, we will introduce Keras.\n",
    "You will discover how to use the sequential API and the functional API in Keras for defining simple and complex deep learning models.\n",
    "\n",
    "Specifically, you learned:\n",
    "\n",
    "* The difference between the Sequential and Functional APIs.\n",
    "* How to define a logistic regession model in Keras, a simple Multilayer Perceptron, \n",
    "a Convolutional Neural Network, and Recurrent Neural Network models using the Sequential and Functional API.\n",
    "* How to define more complex models with shared layers and multiple inputs and outputs.\n",
    "\n",
    "In addition you will learn:\n",
    "- How to use Keras models in scikit-learn.\n",
    "- How to use grid search in scikit-learn.\n"
   ]
  },
  {
   "cell_type": "markdown",
   "metadata": {
    "toc": "true"
   },
   "source": [
    "<h1>Table of Contents<span class=\"tocSkip\"></span></h1>\n",
    "<div class=\"toc\"><ul class=\"toc-item\"><li><ul class=\"toc-item\"><li><span><a href=\"#Goals-of-this-notebook:\" data-toc-modified-id=\"Goals-of-this-notebook:-0.1\"><span class=\"toc-item-num\">0.1&nbsp;&nbsp;</span>Goals of this notebook:</a></span></li></ul></li><li><span><a href=\"#Setup-graphics-stuff\" data-toc-modified-id=\"Setup-graphics-stuff-1\"><span class=\"toc-item-num\">1&nbsp;&nbsp;</span>Setup graphics stuff</a></span><ul class=\"toc-item\"><li><span><a href=\"#Colab-Notebook\" data-toc-modified-id=\"Colab-Notebook-1.1\"><span class=\"toc-item-num\">1.1&nbsp;&nbsp;</span>Colab Notebook</a></span></li></ul></li><li><span><a href=\"#Iris-dataset\" data-toc-modified-id=\"Iris-dataset-2\"><span class=\"toc-item-num\">2&nbsp;&nbsp;</span>Iris dataset</a></span><ul class=\"toc-item\"><li><span><a href=\"#Read-data\" data-toc-modified-id=\"Read-data-2.1\"><span class=\"toc-item-num\">2.1&nbsp;&nbsp;</span>Read data</a></span></li></ul></li><li><span><a href=\"#Data-preprocessing\" data-toc-modified-id=\"Data-preprocessing-3\"><span class=\"toc-item-num\">3&nbsp;&nbsp;</span>Data preprocessing</a></span></li><li><span><a href=\"#SkLearn-Logistic-Regression\" data-toc-modified-id=\"SkLearn-Logistic-Regression-4\"><span class=\"toc-item-num\">4&nbsp;&nbsp;</span>SkLearn Logistic Regression</a></span><ul class=\"toc-item\"><li><span><a href=\"#Train-using-SkLearn-Logistic-Regression\" data-toc-modified-id=\"Train-using-SkLearn-Logistic-Regression-4.1\"><span class=\"toc-item-num\">4.1&nbsp;&nbsp;</span>Train using SkLearn Logistic Regression</a></span></li><li><span><a href=\"#Table-of-results\" data-toc-modified-id=\"Table-of-results-4.2\"><span class=\"toc-item-num\">4.2&nbsp;&nbsp;</span>Table of results</a></span></li></ul></li><li><span><a href=\"#Keras-Logistic-Regression\" data-toc-modified-id=\"Keras-Logistic-Regression-5\"><span class=\"toc-item-num\">5&nbsp;&nbsp;</span>Keras Logistic Regression</a></span><ul class=\"toc-item\"><li><span><a href=\"#Sequential-API-for-specifying-NN-architectures\" data-toc-modified-id=\"Sequential-API-for-specifying-NN-architectures-5.1\"><span class=\"toc-item-num\">5.1&nbsp;&nbsp;</span>Sequential API for specifying NN architectures</a></span></li><li><span><a href=\"#Logistic-Regression-via-Keras\" data-toc-modified-id=\"Logistic-Regression-via-Keras-5.2\"><span class=\"toc-item-num\">5.2&nbsp;&nbsp;</span>Logistic Regression via Keras</a></span></li><li><span><a href=\"#Fitting\" data-toc-modified-id=\"Fitting-5.3\"><span class=\"toc-item-num\">5.3&nbsp;&nbsp;</span>Fitting</a></span></li><li><span><a href=\"#Evaluation\" data-toc-modified-id=\"Evaluation-5.4\"><span class=\"toc-item-num\">5.4&nbsp;&nbsp;</span>Evaluation</a></span></li></ul></li><li><span><a href=\"#Wrappers-for-the-Scikit-Learn-API-via-KerasClassifier\" data-toc-modified-id=\"Wrappers-for-the-Scikit-Learn-API-via-KerasClassifier-6\"><span class=\"toc-item-num\">6&nbsp;&nbsp;</span>Wrappers for the Scikit-Learn API via KerasClassifier</a></span><ul class=\"toc-item\"><li><span><a href=\"#Load-and-prep-data-for-Keras\" data-toc-modified-id=\"Load-and-prep-data-for-Keras-6.1\"><span class=\"toc-item-num\">6.1&nbsp;&nbsp;</span>Load and prep data for Keras</a></span><ul class=\"toc-item\"><li><span><a href=\"#Encode-The-Output-Variable\" data-toc-modified-id=\"Encode-The-Output-Variable-6.1.1\"><span class=\"toc-item-num\">6.1.1&nbsp;&nbsp;</span>Encode The Output Variable</a></span></li></ul></li><li><span><a href=\"#Evaluate-The-Model-with-k-Fold-Cross-Validation\" data-toc-modified-id=\"Evaluate-The-Model-with-k-Fold-Cross-Validation-6.2\"><span class=\"toc-item-num\">6.2&nbsp;&nbsp;</span>Evaluate The Model with k-Fold Cross Validation</a></span></li></ul></li><li><span><a href=\"#Keras-Functional-API\" data-toc-modified-id=\"Keras-Functional-API-7\"><span class=\"toc-item-num\">7&nbsp;&nbsp;</span>Keras Functional API</a></span><ul class=\"toc-item\"><li><span><a href=\"#Standard-Network-Models\" data-toc-modified-id=\"Standard-Network-Models-7.1\"><span class=\"toc-item-num\">7.1&nbsp;&nbsp;</span>Standard Network Models</a></span></li><li><span><a href=\"#Multilayer-Perceptron\" data-toc-modified-id=\"Multilayer-Perceptron-7.2\"><span class=\"toc-item-num\">7.2&nbsp;&nbsp;</span>Multilayer Perceptron</a></span></li><li><span><a href=\"#Use-the--Functional-API-for-Iris-dataset\" data-toc-modified-id=\"Use-the--Functional-API-for-Iris-dataset-7.3\"><span class=\"toc-item-num\">7.3&nbsp;&nbsp;</span>Use the  Functional API for Iris dataset</a></span></li><li><span><a href=\"#Split-into-train-and-test-set\" data-toc-modified-id=\"Split-into-train-and-test-set-7.4\"><span class=\"toc-item-num\">7.4&nbsp;&nbsp;</span>Split into train and test set</a></span></li><li><span><a href=\"#Fitting\" data-toc-modified-id=\"Fitting-7.5\"><span class=\"toc-item-num\">7.5&nbsp;&nbsp;</span>Fitting</a></span></li><li><span><a href=\"#Evaluation\" data-toc-modified-id=\"Evaluation-7.6\"><span class=\"toc-item-num\">7.6&nbsp;&nbsp;</span>Evaluation</a></span></li></ul></li><li><span><a href=\"#Keras-MLP-(TASK)\" data-toc-modified-id=\"Keras-MLP-(TASK)-8\"><span class=\"toc-item-num\">8&nbsp;&nbsp;</span>Keras MLP (TASK)</a></span><ul class=\"toc-item\"><li><span><a href=\"#Fitting\" data-toc-modified-id=\"Fitting-8.1\"><span class=\"toc-item-num\">8.1&nbsp;&nbsp;</span>Fitting</a></span></li><li><span><a href=\"#Insight-into-network-weights\" data-toc-modified-id=\"Insight-into-network-weights-8.2\"><span class=\"toc-item-num\">8.2&nbsp;&nbsp;</span>Insight into network weights</a></span></li><li><span><a href=\"#Evaluation\" data-toc-modified-id=\"Evaluation-8.3\"><span class=\"toc-item-num\">8.3&nbsp;&nbsp;</span>Evaluation</a></span></li></ul></li><li><span><a href=\"#Comparison\" data-toc-modified-id=\"Comparison-9\"><span class=\"toc-item-num\">9&nbsp;&nbsp;</span>Comparison</a></span></li></ul></div>"
   ]
  },
  {
   "cell_type": "markdown",
   "metadata": {},
   "source": [
    "# Setup graphics stuff "
   ]
  },
  {
   "cell_type": "markdown",
   "metadata": {},
   "source": [
    "## Colab Notebook\n",
    "\n",
    "A colab version of this notebooks is availabe [here](https://drive.google.com/file/d/1AcVGV64AU0-gFM8qW0t0Zy5JspTQi1vk/view?usp=sharing)"
   ]
  },
  {
   "cell_type": "code",
   "execution_count": 168,
   "metadata": {},
   "outputs": [
    {
     "name": "stdout",
     "output_type": "stream",
     "text": [
      "Requirement already satisfied: pydot in /opt/conda/lib/python3.6/site-packages (1.2.4)\n",
      "Requirement already satisfied: pyparsing>=2.1.4 in /opt/conda/lib/python3.6/site-packages (from pydot) (2.2.0)\n",
      "\u001b[31mdistributed 1.21.8 requires msgpack, which is not installed.\u001b[0m\n",
      "\u001b[33mYou are using pip version 10.0.1, however version 18.1 is available.\n",
      "You should consider upgrading via the 'pip install --upgrade pip' command.\u001b[0m\n"
     ]
    }
   ],
   "source": [
    "# for GraphViz \n",
    "!pip install pydot"
   ]
  },
  {
   "cell_type": "code",
   "execution_count": 169,
   "metadata": {},
   "outputs": [],
   "source": [
    "import numpy as np\n",
    "import pandas as pd\n",
    "\n",
    "from sklearn.datasets import load_iris\n",
    "from sklearn.model_selection import train_test_split\n",
    "from sklearn.metrics import accuracy_score, confusion_matrix\n",
    "from sklearn.preprocessing import label_binarize\n",
    "\n",
    "from keras.layers import Dense, Input\n",
    "from keras.models import Model\n",
    "from keras.utils.vis_utils import model_to_dot\n",
    "\n",
    "import matplotlib\n",
    "import matplotlib.pyplot as plt\n",
    "import seaborn as sns\n",
    "\n",
    "%matplotlib inline\n",
    "\n",
    "from IPython.display import SVG, display"
   ]
  },
  {
   "cell_type": "markdown",
   "metadata": {},
   "source": [
    "Set style for plotting"
   ]
  },
  {
   "cell_type": "code",
   "execution_count": 170,
   "metadata": {},
   "outputs": [],
   "source": [
    "sns.set(style=\"whitegrid\", font_scale=1.3)\n",
    "matplotlib.rcParams[\"legend.framealpha\"] = 1\n",
    "matplotlib.rcParams[\"legend.frameon\"] = True"
   ]
  },
  {
   "cell_type": "markdown",
   "metadata": {},
   "source": [
    "Fix random seed for reproducibility"
   ]
  },
  {
   "cell_type": "code",
   "execution_count": 171,
   "metadata": {},
   "outputs": [],
   "source": [
    "np.random.seed(42)"
   ]
  },
  {
   "cell_type": "markdown",
   "metadata": {},
   "source": [
    "# Iris dataset"
   ]
  },
  {
   "cell_type": "markdown",
   "metadata": {},
   "source": [
    "In this notebook we're going to investigate highly renowned \"Fisher's Iris\" dataset for classifcation. It contains 3 classes of iris flowers along with 4 features for each flower. The task is to classify each object judging by this 4 features."
   ]
  },
  {
   "cell_type": "markdown",
   "metadata": {},
   "source": [
    "## Read data"
   ]
  },
  {
   "cell_type": "markdown",
   "metadata": {},
   "source": [
    "Iris dataset is extremely common in machine learning experiments thus it is embedded in sklearn."
   ]
  },
  {
   "cell_type": "code",
   "execution_count": 7,
   "metadata": {},
   "outputs": [],
   "source": [
    "iris = load_iris()"
   ]
  },
  {
   "cell_type": "markdown",
   "metadata": {},
   "source": [
    "Detailed description of dataset and features"
   ]
  },
  {
   "cell_type": "code",
   "execution_count": 8,
   "metadata": {},
   "outputs": [
    {
     "name": "stdout",
     "output_type": "stream",
     "text": [
      "Iris Plants Database\n",
      "====================\n",
      "\n",
      "Notes\n",
      "-----\n",
      "Data Set Characteristics:\n",
      "    :Number of Instances: 150 (50 in each of three classes)\n",
      "    :Number of Attributes: 4 numeric, predictive attributes and the class\n",
      "    :Attribute Information:\n",
      "        - sepal length in cm\n",
      "        - sepal width in cm\n",
      "        - petal length in cm\n",
      "        - petal width in cm\n",
      "        - class:\n",
      "                - Iris-Setosa\n",
      "                - Iris-Versicolour\n",
      "                - Iris-Virginica\n",
      "    :Summary Statistics:\n",
      "\n",
      "    ============== ==== ==== ======= ===== ====================\n",
      "                    Min  Max   Mean    SD   Class Correlation\n",
      "    ============== ==== ==== ======= ===== ====================\n",
      "    sepal length:   4.3  7.9   5.84   0.83    0.7826\n",
      "    sepal width:    2.0  4.4   3.05   0.43   -0.4194\n",
      "    petal length:   1.0  6.9   3.76   1.76    0.9490  (high!)\n",
      "    petal width:    0.1  2.5   1.20  0.76     0.9565  (high!)\n",
      "    ============== ==== ==== ======= ===== ====================\n",
      "\n",
      "    :Missing Attribute Values: None\n",
      "    :Class Distribution: 33.3% for each of 3 classes.\n",
      "    :Creator: R.A. Fisher\n",
      "    :Donor: Michael Marshall (MARSHALL%PLU@io.arc.nasa.gov)\n",
      "    :Date: July, 1988\n",
      "\n",
      "This is a copy of UCI ML iris datasets.\n",
      "http://archive.ics.uci.edu/ml/datasets/Iris\n",
      "\n",
      "The famous Iris database, first used by Sir R.A Fisher\n",
      "\n",
      "This is perhaps the best known database to be found in the\n",
      "pattern recognition literature.  Fisher's paper is a classic in the field and\n",
      "is referenced frequently to this day.  (See Duda & Hart, for example.)  The\n",
      "data set contains 3 classes of 50 instances each, where each class refers to a\n",
      "type of iris plant.  One class is linearly separable from the other 2; the\n",
      "latter are NOT linearly separable from each other.\n",
      "\n",
      "References\n",
      "----------\n",
      "   - Fisher,R.A. \"The use of multiple measurements in taxonomic problems\"\n",
      "     Annual Eugenics, 7, Part II, 179-188 (1936); also in \"Contributions to\n",
      "     Mathematical Statistics\" (John Wiley, NY, 1950).\n",
      "   - Duda,R.O., & Hart,P.E. (1973) Pattern Classification and Scene Analysis.\n",
      "     (Q327.D83) John Wiley & Sons.  ISBN 0-471-22361-1.  See page 218.\n",
      "   - Dasarathy, B.V. (1980) \"Nosing Around the Neighborhood: A New System\n",
      "     Structure and Classification Rule for Recognition in Partially Exposed\n",
      "     Environments\".  IEEE Transactions on Pattern Analysis and Machine\n",
      "     Intelligence, Vol. PAMI-2, No. 1, 67-71.\n",
      "   - Gates, G.W. (1972) \"The Reduced Nearest Neighbor Rule\".  IEEE Transactions\n",
      "     on Information Theory, May 1972, 431-433.\n",
      "   - See also: 1988 MLC Proceedings, 54-64.  Cheeseman et al\"s AUTOCLASS II\n",
      "     conceptual clustering system finds 3 classes in the data.\n",
      "   - Many, many more ...\n",
      "\n"
     ]
    }
   ],
   "source": [
    "print(iris.DESCR)"
   ]
  },
  {
   "cell_type": "markdown",
   "metadata": {},
   "source": [
    "Create pandas dataframe with objects in rows and features in columns"
   ]
  },
  {
   "cell_type": "code",
   "execution_count": 9,
   "metadata": {},
   "outputs": [],
   "source": [
    "X = pd.DataFrame(iris.data, columns=iris.feature_names)\n",
    "y = iris.target"
   ]
  },
  {
   "cell_type": "code",
   "execution_count": 10,
   "metadata": {},
   "outputs": [
    {
     "data": {
      "text/html": [
       "<div>\n",
       "<style scoped>\n",
       "    .dataframe tbody tr th:only-of-type {\n",
       "        vertical-align: middle;\n",
       "    }\n",
       "\n",
       "    .dataframe tbody tr th {\n",
       "        vertical-align: top;\n",
       "    }\n",
       "\n",
       "    .dataframe thead th {\n",
       "        text-align: right;\n",
       "    }\n",
       "</style>\n",
       "<table border=\"1\" class=\"dataframe\">\n",
       "  <thead>\n",
       "    <tr style=\"text-align: right;\">\n",
       "      <th></th>\n",
       "      <th>sepal length (cm)</th>\n",
       "      <th>sepal width (cm)</th>\n",
       "      <th>petal length (cm)</th>\n",
       "      <th>petal width (cm)</th>\n",
       "    </tr>\n",
       "  </thead>\n",
       "  <tbody>\n",
       "    <tr>\n",
       "      <th>0</th>\n",
       "      <td>5.1</td>\n",
       "      <td>3.5</td>\n",
       "      <td>1.4</td>\n",
       "      <td>0.2</td>\n",
       "    </tr>\n",
       "    <tr>\n",
       "      <th>1</th>\n",
       "      <td>4.9</td>\n",
       "      <td>3.0</td>\n",
       "      <td>1.4</td>\n",
       "      <td>0.2</td>\n",
       "    </tr>\n",
       "    <tr>\n",
       "      <th>2</th>\n",
       "      <td>4.7</td>\n",
       "      <td>3.2</td>\n",
       "      <td>1.3</td>\n",
       "      <td>0.2</td>\n",
       "    </tr>\n",
       "    <tr>\n",
       "      <th>3</th>\n",
       "      <td>4.6</td>\n",
       "      <td>3.1</td>\n",
       "      <td>1.5</td>\n",
       "      <td>0.2</td>\n",
       "    </tr>\n",
       "    <tr>\n",
       "      <th>4</th>\n",
       "      <td>5.0</td>\n",
       "      <td>3.6</td>\n",
       "      <td>1.4</td>\n",
       "      <td>0.2</td>\n",
       "    </tr>\n",
       "  </tbody>\n",
       "</table>\n",
       "</div>"
      ],
      "text/plain": [
       "   sepal length (cm)  sepal width (cm)  petal length (cm)  petal width (cm)\n",
       "0                5.1               3.5                1.4               0.2\n",
       "1                4.9               3.0                1.4               0.2\n",
       "2                4.7               3.2                1.3               0.2\n",
       "3                4.6               3.1                1.5               0.2\n",
       "4                5.0               3.6                1.4               0.2"
      ]
     },
     "execution_count": 10,
     "metadata": {},
     "output_type": "execute_result"
    }
   ],
   "source": [
    "X.head()"
   ]
  },
  {
   "cell_type": "code",
   "execution_count": 11,
   "metadata": {},
   "outputs": [
    {
     "data": {
      "text/html": [
       "<div>\n",
       "<style scoped>\n",
       "    .dataframe tbody tr th:only-of-type {\n",
       "        vertical-align: middle;\n",
       "    }\n",
       "\n",
       "    .dataframe tbody tr th {\n",
       "        vertical-align: top;\n",
       "    }\n",
       "\n",
       "    .dataframe thead th {\n",
       "        text-align: right;\n",
       "    }\n",
       "</style>\n",
       "<table border=\"1\" class=\"dataframe\">\n",
       "  <thead>\n",
       "    <tr style=\"text-align: right;\">\n",
       "      <th></th>\n",
       "      <th>sepal length (cm)</th>\n",
       "      <th>sepal width (cm)</th>\n",
       "      <th>petal length (cm)</th>\n",
       "      <th>petal width (cm)</th>\n",
       "    </tr>\n",
       "  </thead>\n",
       "  <tbody>\n",
       "    <tr>\n",
       "      <th>count</th>\n",
       "      <td>150.000000</td>\n",
       "      <td>150.000000</td>\n",
       "      <td>150.000000</td>\n",
       "      <td>150.000000</td>\n",
       "    </tr>\n",
       "    <tr>\n",
       "      <th>mean</th>\n",
       "      <td>5.843333</td>\n",
       "      <td>3.054000</td>\n",
       "      <td>3.758667</td>\n",
       "      <td>1.198667</td>\n",
       "    </tr>\n",
       "    <tr>\n",
       "      <th>std</th>\n",
       "      <td>0.828066</td>\n",
       "      <td>0.433594</td>\n",
       "      <td>1.764420</td>\n",
       "      <td>0.763161</td>\n",
       "    </tr>\n",
       "    <tr>\n",
       "      <th>min</th>\n",
       "      <td>4.300000</td>\n",
       "      <td>2.000000</td>\n",
       "      <td>1.000000</td>\n",
       "      <td>0.100000</td>\n",
       "    </tr>\n",
       "    <tr>\n",
       "      <th>25%</th>\n",
       "      <td>5.100000</td>\n",
       "      <td>2.800000</td>\n",
       "      <td>1.600000</td>\n",
       "      <td>0.300000</td>\n",
       "    </tr>\n",
       "    <tr>\n",
       "      <th>50%</th>\n",
       "      <td>5.800000</td>\n",
       "      <td>3.000000</td>\n",
       "      <td>4.350000</td>\n",
       "      <td>1.300000</td>\n",
       "    </tr>\n",
       "    <tr>\n",
       "      <th>75%</th>\n",
       "      <td>6.400000</td>\n",
       "      <td>3.300000</td>\n",
       "      <td>5.100000</td>\n",
       "      <td>1.800000</td>\n",
       "    </tr>\n",
       "    <tr>\n",
       "      <th>max</th>\n",
       "      <td>7.900000</td>\n",
       "      <td>4.400000</td>\n",
       "      <td>6.900000</td>\n",
       "      <td>2.500000</td>\n",
       "    </tr>\n",
       "  </tbody>\n",
       "</table>\n",
       "</div>"
      ],
      "text/plain": [
       "       sepal length (cm)  sepal width (cm)  petal length (cm)  \\\n",
       "count         150.000000        150.000000         150.000000   \n",
       "mean            5.843333          3.054000           3.758667   \n",
       "std             0.828066          0.433594           1.764420   \n",
       "min             4.300000          2.000000           1.000000   \n",
       "25%             5.100000          2.800000           1.600000   \n",
       "50%             5.800000          3.000000           4.350000   \n",
       "75%             6.400000          3.300000           5.100000   \n",
       "max             7.900000          4.400000           6.900000   \n",
       "\n",
       "       petal width (cm)  \n",
       "count        150.000000  \n",
       "mean           1.198667  \n",
       "std            0.763161  \n",
       "min            0.100000  \n",
       "25%            0.300000  \n",
       "50%            1.300000  \n",
       "75%            1.800000  \n",
       "max            2.500000  "
      ]
     },
     "execution_count": 11,
     "metadata": {},
     "output_type": "execute_result"
    }
   ],
   "source": [
    "X.describe()"
   ]
  },
  {
   "cell_type": "markdown",
   "metadata": {},
   "source": [
    "Below there are the names of the classes for the further use"
   ]
  },
  {
   "cell_type": "code",
   "execution_count": 12,
   "metadata": {},
   "outputs": [],
   "source": [
    "class_labels = [\"setosa\", \"versicolour\", \"virginica\"]"
   ]
  },
  {
   "cell_type": "markdown",
   "metadata": {},
   "source": [
    "All the features here are continiuos numerical features"
   ]
  },
  {
   "cell_type": "markdown",
   "metadata": {},
   "source": [
    "Let's also take a look into correlation matrix of features"
   ]
  },
  {
   "cell_type": "code",
   "execution_count": 13,
   "metadata": {},
   "outputs": [
    {
     "data": {
      "image/png": "[encoded data removed]",
      "text/plain": [
       "<Figure size 1296x1296 with 2 Axes>"
      ]
     },
     "metadata": {},
     "output_type": "display_data"
    }
   ],
   "source": [
    "# compute the correlation matrix\n",
    "corr = X.corr()\n",
    "\n",
    "# generate a mask for the lower triangle\n",
    "mask = np.zeros_like(corr, dtype=np.bool)\n",
    "mask[np.triu_indices_from(mask)] = True\n",
    "\n",
    "# set up the matplotlib figure\n",
    "f, ax = plt.subplots(figsize=(18, 18))\n",
    "\n",
    "# generate a custom diverging colormap\n",
    "cmap = sns.diverging_palette(220, 10, as_cmap=True)\n",
    "\n",
    "# draw the heatmap with the mask and correct aspect ratio\n",
    "sns.heatmap(corr, mask=mask, cmap=cmap, vmax=.3,\n",
    "            square=True, \n",
    "            linewidths=.5, cbar_kws={\"shrink\": .5}, ax=ax);"
   ]
  },
  {
   "cell_type": "markdown",
   "metadata": {},
   "source": [
    "Sometimes it's worth to take a look into paiwise features distributions. In some cases it becomes obvious how to separate classes and build a classifier"
   ]
  },
  {
   "cell_type": "code",
   "execution_count": 14,
   "metadata": {},
   "outputs": [
    {
     "data": {
      "image/png": "[encoded data removed]",
      "text/plain": [
       "<Figure size 1262.8x1152 with 20 Axes>"
      ]
     },
     "metadata": {},
     "output_type": "display_data"
    }
   ],
   "source": [
    "sns.pairplot(sns.load_dataset(\"iris\"), hue=\"species\", size=4);"
   ]
  },
  {
   "cell_type": "markdown",
   "metadata": {},
   "source": [
    "As one can observe from this graph, one class (setosa) separates almost with no error. Other two are also almost linearly separable.\n",
    "\n",
    "Therefore we anticipate very high classification quality."
   ]
  },
  {
   "cell_type": "markdown",
   "metadata": {},
   "source": [
    "# Data preprocessing"
   ]
  },
  {
   "cell_type": "markdown",
   "metadata": {},
   "source": [
    "Here the scale of the features is almost the same for all the features thus there is no need to do rescaling. So we only need to do train/test splitting"
   ]
  },
  {
   "cell_type": "code",
   "execution_count": 18,
   "metadata": {},
   "outputs": [],
   "source": [
    "X_train, X_test, y_train, y_test = train_test_split(X, y, test_size=0.2, random_state=42)"
   ]
  },
  {
   "cell_type": "markdown",
   "metadata": {},
   "source": [
    "# SkLearn Logistic Regression"
   ]
  },
  {
   "cell_type": "markdown",
   "metadata": {},
   "source": [
    "## Train using SkLearn Logistic Regression"
   ]
  },
  {
   "cell_type": "code",
   "execution_count": 119,
   "metadata": {},
   "outputs": [],
   "source": [
    "from sklearn.datasets import load_iris\n",
    "from sklearn.linear_model import LogisticRegression\n",
    "X, y = load_iris(return_X_y=True)\n",
    "clf = LogisticRegression(random_state=0, solver='lbfgs',\n",
    "                         multi_class='multinomial').fit(X_train, y_train)\n",
    "clf.predict(X_test[:2, :])\n",
    "\n",
    "clf.predict_proba(X_test[:2, :]) \n",
    "\n",
    "trainAcc = clf.score(X_train, y_train)\n",
    "testAcc = clf.score(X_test, y_test)"
   ]
  },
  {
   "cell_type": "markdown",
   "metadata": {},
   "source": [
    "## Table of results"
   ]
  },
  {
   "cell_type": "markdown",
   "metadata": {},
   "source": [
    "It is important to track results of different experiments for the sake of further comparison."
   ]
  },
  {
   "cell_type": "code",
   "execution_count": 120,
   "metadata": {},
   "outputs": [
    {
     "data": {
      "text/html": [
       "<div>\n",
       "<style scoped>\n",
       "    .dataframe tbody tr th:only-of-type {\n",
       "        vertical-align: middle;\n",
       "    }\n",
       "\n",
       "    .dataframe tbody tr th {\n",
       "        vertical-align: top;\n",
       "    }\n",
       "\n",
       "    .dataframe thead th {\n",
       "        text-align: right;\n",
       "    }\n",
       "</style>\n",
       "<table border=\"1\" class=\"dataframe\">\n",
       "  <thead>\n",
       "    <tr style=\"text-align: right;\">\n",
       "      <th></th>\n",
       "      <th>Accuracy Train</th>\n",
       "      <th>Accuracy Test</th>\n",
       "    </tr>\n",
       "  </thead>\n",
       "  <tbody>\n",
       "    <tr>\n",
       "      <th>SKLearn LR</th>\n",
       "      <td>0.975</td>\n",
       "      <td>1.0</td>\n",
       "    </tr>\n",
       "  </tbody>\n",
       "</table>\n",
       "</div>"
      ],
      "text/plain": [
       "            Accuracy Train  Accuracy Test\n",
       "SKLearn LR           0.975            1.0"
      ]
     },
     "execution_count": 120,
     "metadata": {},
     "output_type": "execute_result"
    }
   ],
   "source": [
    "results = pd.DataFrame(columns=[\"Accuracy Train\", \"Accuracy Test\"])\n",
    "\n",
    "results = results.append(pd.DataFrame(\n",
    "        [[np.round(clf.score(X_train, y_train), 3), np.round(clf.score(X_test, y_test), 3)]], \n",
    "        columns=[\"Accuracy Train\", \"Accuracy Test\"], \n",
    "        index=[\"SKLearn LR\"]))\n",
    "results"
   ]
  },
  {
   "cell_type": "markdown",
   "metadata": {},
   "source": [
    "# Keras Logistic Regression"
   ]
  },
  {
   "cell_type": "markdown",
   "metadata": {},
   "source": [
    "Multinomial Logistic Regression model can be seen as a neural network with no hidden layer and with *softmax* activation function. Here we introduce Keras as a means to create logistic regression models before progressing to more complicatated neural networks. \n",
    "\n",
    "## Sequential API for specifying NN architectures\n",
    "\n",
    "The sequential API allows you to create models layer-by-layer for most problems. It is limited in that it does not allow you to create models that share layers or have multiple inputs or outputs.\n",
    "\n",
    "The functional API in Keras is an alternate way of creating models that offers a lot more flexibility, including creating more complex models. This presented below in a later section.\n",
    "\n",
    "The Sequential model API is a way of creating deep learning models where an instance of the Sequential class  is created and model layers are created and added to it. We can think of the Sequential class as a canvas where we get to add layers to subsequently.\n",
    "\n",
    "For example, the layers can be defined and passed to the Sequential as an array (of layers: an input layer with a four inputs, a hidden layer with  10 neurons, and an output layer with 3 neurons:\n",
    "\n",
    "`from keras.models import Sequential\n",
    "from keras.layers import Dense\n",
    "model = Sequential([Dense(10, input_dim=4), Dense(3)])`\n",
    "\n",
    "Layers can also be added piecewise:\n",
    "\n",
    "\n",
    "`from keras.models import Sequential\n",
    "from keras.layers import Dense\n",
    "model = Sequential()\n",
    "model.add(Dense(2, input_dim=1))\n",
    "model.add(Dense(1))`\n",
    "\n",
    "The Sequential model API is great for developing deep learning models in most situations, but it also has some limitations.\n",
    "\n",
    "For example, it is not straightforward to define models that may have multiple different input sources, produce multiple output destinations or models that re-use layers."
   ]
  },
  {
   "cell_type": "markdown",
   "metadata": {},
   "source": [
    "## Logistic Regression via Keras\n",
    "The Keras library provides wrapper classes to allow you to use neural network models developed with Keras in scikit-learn.\n",
    "\n",
    "There is a [KerasClassifier](https://keras.io/scikit-learn-api/) class in Keras that can be used as an Estimator in scikit-learn, the base type of model in the library. The KerasClassifier takes the name of a function as an argument. This function must return the constructed neural network model, ready for training.\n",
    "\n",
    "Below is a function that will create a baseline neural network for the iris classification problem. It creates a simple fully connected network (multinomial logistic regression model with a `categorical_crossentropy` loss.\n",
    "\n",
    "Recall that the Iris dataset has 4 input features per sample. Thus we have 4 units in the input layer. Our problem has 3 classes and therefore we should have 3 output units. \n",
    "\n",
    "The network topology of this simple one-layer neural network can be summarized as:\n",
    "* `4 inputs  --> 3 output classes`\n",
    "\n",
    "Note that we use a `softmax` activation function in the output layer. This is to ensure the output values are in the range of 0 and 1 and may be used as predicted probabilities.\n",
    "\n",
    "Finally, the network uses the efficient Adam gradient descent optimization algorithm with a logarithmic loss function, which is called `categorical_crossentropy` in Keras."
   ]
  },
  {
   "cell_type": "code",
   "execution_count": 173,
   "metadata": {},
   "outputs": [
    {
     "name": "stdout",
     "output_type": "stream",
     "text": [
      "_________________________________________________________________\n",
      "Layer (type)                 Output Shape              Param #   \n",
      "=================================================================\n",
      "dense_86 (Dense)             (None, 3)                 15        \n",
      "=================================================================\n",
      "Total params: 15\n",
      "Trainable params: 15\n",
      "Non-trainable params: 0\n",
      "_________________________________________________________________\n",
      "None\n"
     ]
    }
   ],
   "source": [
    "from keras.models import Sequential\n",
    "from keras.layers import Dense\n",
    "from sklearn.datasets import load_iris\n",
    "from keras import regularizers\n",
    "\n",
    "iris = load_iris()\n",
    "X = pd.DataFrame(iris.data, columns=iris.feature_names)\n",
    "y = iris.target\n",
    "X_train, X_test, y_train, y_test = train_test_split(X.values, label_binarize(y, classes=[0, 1, 2]), \n",
    "                                                    test_size=0.2, random_state=42)\n",
    "\n",
    "# 4-8-3 Network architecture\n",
    "# Layers can also be added piecewise:\n",
    "model = Sequential()\n",
    "model.add(Dense(8, input_dim=4, activation='relu'))\n",
    "model.add(Dense(3, activation='softmax'))\n",
    "\n",
    "# LOGISTIC REGRESSION:\n",
    "# 4-3 Network architecture\n",
    "# Layers can also be added piecewise: \n",
    "model = Sequential()\n",
    "model.add(Dense(3, input_dim=4, activation='softmax'))\n",
    "\n",
    "\n",
    "# LOGISTIC REGRESSION with L2 Regularization\n",
    "# 4-3 Network architecture\n",
    "# Layers can also be added piecewise: \n",
    "model = Sequential()\n",
    "model.add(Dense(3, input_dim=4, activation='softmax',\n",
    "               kernel_regularizer=regularizers.l2(0.01))) #\n",
    "\n",
    "\n",
    "# Compile model  \n",
    "model.compile(loss='categorical_crossentropy', optimizer='adam', metrics=['accuracy'])\n",
    "\n",
    "# summarize layers\n",
    "print(model.summary())\n",
    "# plot graph\n",
    "plot_model(model, to_file='multilayer_perceptron_graph.png')\n"
   ]
  },
  {
   "cell_type": "markdown",
   "metadata": {},
   "source": [
    "A plot of the model graph is also created and saved to file.\n",
    "\n",
    "<img src='multilayer_perceptron_graph.png' alt=\"Drawing\" style=\"width: =150px;\"/> "
   ]
  },
  {
   "cell_type": "markdown",
   "metadata": {},
   "source": [
    "## Fitting"
   ]
  },
  {
   "cell_type": "code",
   "execution_count": 165,
   "metadata": {},
   "outputs": [
    {
     "name": "stdout",
     "output_type": "stream",
     "text": [
      "Train on 120 samples, validate on 30 samples\n",
      "Epoch 1/100\n",
      "120/120 [==============================] - 1s 9ms/step - loss: 1.3273 - acc: 0.3417 - val_loss: 1.3465 - val_acc: 0.3333\n",
      "Epoch 2/100\n",
      "120/120 [==============================] - 0s 82us/step - loss: 1.2769 - acc: 0.3500 - val_loss: 1.2964 - val_acc: 0.3333\n",
      "Epoch 3/100\n",
      "120/120 [==============================] - 0s 81us/step - loss: 1.2303 - acc: 0.3500 - val_loss: 1.2488 - val_acc: 0.3333\n",
      "Epoch 4/100\n",
      "120/120 [==============================] - 0s 113us/step - loss: 1.1863 - acc: 0.3500 - val_loss: 1.2031 - val_acc: 0.3333\n",
      "Epoch 5/100\n",
      "120/120 [==============================] - 0s 106us/step - loss: 1.1408 - acc: 0.3583 - val_loss: 1.1605 - val_acc: 0.3667\n",
      "Epoch 6/100\n",
      "120/120 [==============================] - 0s 99us/step - loss: 1.1029 - acc: 0.3583 - val_loss: 1.1194 - val_acc: 0.4000\n",
      "Epoch 7/100\n",
      "120/120 [==============================] - 0s 90us/step - loss: 1.0639 - acc: 0.3667 - val_loss: 1.0806 - val_acc: 0.4000\n",
      "Epoch 8/100\n",
      "120/120 [==============================] - 0s 111us/step - loss: 1.0281 - acc: 0.3667 - val_loss: 1.0435 - val_acc: 0.4333\n",
      "Epoch 9/100\n",
      "120/120 [==============================] - 0s 90us/step - loss: 0.9932 - acc: 0.3667 - val_loss: 1.0080 - val_acc: 0.4333\n",
      "Epoch 10/100\n",
      "120/120 [==============================] - 0s 80us/step - loss: 0.9615 - acc: 0.3833 - val_loss: 0.9741 - val_acc: 0.4333\n",
      "Epoch 11/100\n",
      "120/120 [==============================] - 0s 80us/step - loss: 0.9300 - acc: 0.4000 - val_loss: 0.9415 - val_acc: 0.4667\n",
      "Epoch 12/100\n",
      "120/120 [==============================] - 0s 94us/step - loss: 0.9002 - acc: 0.4167 - val_loss: 0.9105 - val_acc: 0.4667\n",
      "Epoch 13/100\n",
      "120/120 [==============================] - 0s 101us/step - loss: 0.8731 - acc: 0.4167 - val_loss: 0.8805 - val_acc: 0.4667\n",
      "Epoch 14/100\n",
      "120/120 [==============================] - 0s 98us/step - loss: 0.8487 - acc: 0.4417 - val_loss: 0.8507 - val_acc: 0.4667\n",
      "Epoch 15/100\n",
      "120/120 [==============================] - 0s 80us/step - loss: 0.8223 - acc: 0.4667 - val_loss: 0.8231 - val_acc: 0.4667\n",
      "Epoch 16/100\n",
      "120/120 [==============================] - 0s 85us/step - loss: 0.7979 - acc: 0.5083 - val_loss: 0.7975 - val_acc: 0.5000\n",
      "Epoch 17/100\n",
      "120/120 [==============================] - 0s 108us/step - loss: 0.7758 - acc: 0.5250 - val_loss: 0.7732 - val_acc: 0.5333\n",
      "Epoch 18/100\n",
      "120/120 [==============================] - 0s 99us/step - loss: 0.7562 - acc: 0.5500 - val_loss: 0.7493 - val_acc: 0.5333\n",
      "Epoch 19/100\n",
      "120/120 [==============================] - 0s 84us/step - loss: 0.7355 - acc: 0.5583 - val_loss: 0.7276 - val_acc: 0.5333\n",
      "Epoch 20/100\n",
      "120/120 [==============================] - 0s 82us/step - loss: 0.7170 - acc: 0.5667 - val_loss: 0.7075 - val_acc: 0.5333\n",
      "Epoch 21/100\n",
      "120/120 [==============================] - 0s 85us/step - loss: 0.7007 - acc: 0.5833 - val_loss: 0.6886 - val_acc: 0.5667\n",
      "Epoch 22/100\n",
      "120/120 [==============================] - 0s 115us/step - loss: 0.6844 - acc: 0.6000 - val_loss: 0.6709 - val_acc: 0.6000\n",
      "Epoch 23/100\n",
      "120/120 [==============================] - 0s 83us/step - loss: 0.6690 - acc: 0.6167 - val_loss: 0.6547 - val_acc: 0.6000\n",
      "Epoch 24/100\n",
      "120/120 [==============================] - 0s 86us/step - loss: 0.6562 - acc: 0.6333 - val_loss: 0.6394 - val_acc: 0.6667\n",
      "Epoch 25/100\n",
      "120/120 [==============================] - 0s 82us/step - loss: 0.6426 - acc: 0.6500 - val_loss: 0.6261 - val_acc: 0.7000\n",
      "Epoch 26/100\n",
      "120/120 [==============================] - 0s 99us/step - loss: 0.6308 - acc: 0.6667 - val_loss: 0.6134 - val_acc: 0.7333\n",
      "Epoch 27/100\n",
      "120/120 [==============================] - 0s 93us/step - loss: 0.6199 - acc: 0.6750 - val_loss: 0.6012 - val_acc: 0.7667\n",
      "Epoch 28/100\n",
      "120/120 [==============================] - 0s 94us/step - loss: 0.6099 - acc: 0.7083 - val_loss: 0.5897 - val_acc: 0.8000\n",
      "Epoch 29/100\n",
      "120/120 [==============================] - 0s 78us/step - loss: 0.6010 - acc: 0.7083 - val_loss: 0.5790 - val_acc: 0.8333\n",
      "Epoch 30/100\n",
      "120/120 [==============================] - 0s 91us/step - loss: 0.5916 - acc: 0.7167 - val_loss: 0.5696 - val_acc: 0.8333\n",
      "Epoch 31/100\n",
      "120/120 [==============================] - 0s 109us/step - loss: 0.5838 - acc: 0.7500 - val_loss: 0.5607 - val_acc: 0.8333\n",
      "Epoch 32/100\n",
      "120/120 [==============================] - 0s 87us/step - loss: 0.5770 - acc: 0.7500 - val_loss: 0.5523 - val_acc: 0.8333\n",
      "Epoch 33/100\n",
      "120/120 [==============================] - 0s 103us/step - loss: 0.5699 - acc: 0.7667 - val_loss: 0.5452 - val_acc: 0.8333\n",
      "Epoch 34/100\n",
      "120/120 [==============================] - 0s 103us/step - loss: 0.5635 - acc: 0.7667 - val_loss: 0.5385 - val_acc: 0.8333\n",
      "Epoch 35/100\n",
      "120/120 [==============================] - 0s 104us/step - loss: 0.5577 - acc: 0.7833 - val_loss: 0.5321 - val_acc: 0.8333\n",
      "Epoch 36/100\n",
      "120/120 [==============================] - 0s 137us/step - loss: 0.5523 - acc: 0.7833 - val_loss: 0.5267 - val_acc: 0.8333\n",
      "Epoch 37/100\n",
      "120/120 [==============================] - 0s 104us/step - loss: 0.5472 - acc: 0.7833 - val_loss: 0.5213 - val_acc: 0.8333\n",
      "Epoch 38/100\n",
      "120/120 [==============================] - 0s 99us/step - loss: 0.5428 - acc: 0.7917 - val_loss: 0.5162 - val_acc: 0.8333\n",
      "Epoch 39/100\n",
      "120/120 [==============================] - 0s 107us/step - loss: 0.5389 - acc: 0.7917 - val_loss: 0.5110 - val_acc: 0.8333\n",
      "Epoch 40/100\n",
      "120/120 [==============================] - 0s 99us/step - loss: 0.5343 - acc: 0.7917 - val_loss: 0.5068 - val_acc: 0.8333\n",
      "Epoch 41/100\n",
      "120/120 [==============================] - 0s 94us/step - loss: 0.5306 - acc: 0.7917 - val_loss: 0.5030 - val_acc: 0.8000\n",
      "Epoch 42/100\n",
      "120/120 [==============================] - 0s 147us/step - loss: 0.5273 - acc: 0.8000 - val_loss: 0.4994 - val_acc: 0.8000\n",
      "Epoch 43/100\n",
      "120/120 [==============================] - 0s 118us/step - loss: 0.5239 - acc: 0.8167 - val_loss: 0.4962 - val_acc: 0.8000\n",
      "Epoch 44/100\n",
      "120/120 [==============================] - 0s 134us/step - loss: 0.5211 - acc: 0.8250 - val_loss: 0.4930 - val_acc: 0.8000\n",
      "Epoch 45/100\n",
      "120/120 [==============================] - 0s 151us/step - loss: 0.5182 - acc: 0.8250 - val_loss: 0.4905 - val_acc: 0.8000\n",
      "Epoch 46/100\n",
      "120/120 [==============================] - 0s 176us/step - loss: 0.5153 - acc: 0.8250 - val_loss: 0.4880 - val_acc: 0.8000\n",
      "Epoch 47/100\n",
      "120/120 [==============================] - 0s 109us/step - loss: 0.5128 - acc: 0.8250 - val_loss: 0.4855 - val_acc: 0.8000\n",
      "Epoch 48/100\n",
      "120/120 [==============================] - 0s 124us/step - loss: 0.5104 - acc: 0.8333 - val_loss: 0.4832 - val_acc: 0.8000\n",
      "Epoch 49/100\n",
      "120/120 [==============================] - 0s 96us/step - loss: 0.5082 - acc: 0.8417 - val_loss: 0.4809 - val_acc: 0.8000\n",
      "Epoch 50/100\n",
      "120/120 [==============================] - 0s 121us/step - loss: 0.5061 - acc: 0.8417 - val_loss: 0.4790 - val_acc: 0.8000\n",
      "Epoch 51/100\n",
      "120/120 [==============================] - 0s 113us/step - loss: 0.5043 - acc: 0.8417 - val_loss: 0.4773 - val_acc: 0.8000\n",
      "Epoch 52/100\n",
      "120/120 [==============================] - 0s 154us/step - loss: 0.5022 - acc: 0.8417 - val_loss: 0.4755 - val_acc: 0.8000\n",
      "Epoch 53/100\n",
      "120/120 [==============================] - 0s 164us/step - loss: 0.5005 - acc: 0.8417 - val_loss: 0.4738 - val_acc: 0.8000\n",
      "Epoch 54/100\n",
      "120/120 [==============================] - 0s 127us/step - loss: 0.4988 - acc: 0.8417 - val_loss: 0.4723 - val_acc: 0.8000\n",
      "Epoch 55/100\n",
      "120/120 [==============================] - 0s 112us/step - loss: 0.4971 - acc: 0.8500 - val_loss: 0.4707 - val_acc: 0.8000\n",
      "Epoch 56/100\n",
      "120/120 [==============================] - 0s 145us/step - loss: 0.4956 - acc: 0.8500 - val_loss: 0.4693 - val_acc: 0.8000\n",
      "Epoch 57/100\n",
      "120/120 [==============================] - 0s 137us/step - loss: 0.4941 - acc: 0.8500 - val_loss: 0.4678 - val_acc: 0.8000\n",
      "Epoch 58/100\n",
      "120/120 [==============================] - 0s 123us/step - loss: 0.4930 - acc: 0.8417 - val_loss: 0.4661 - val_acc: 0.8000\n",
      "Epoch 59/100\n",
      "120/120 [==============================] - 0s 126us/step - loss: 0.4917 - acc: 0.8417 - val_loss: 0.4646 - val_acc: 0.8000\n",
      "Epoch 60/100\n",
      "120/120 [==============================] - 0s 118us/step - loss: 0.4902 - acc: 0.8417 - val_loss: 0.4635 - val_acc: 0.8000\n",
      "Epoch 61/100\n"
     ]
    },
    {
     "name": "stdout",
     "output_type": "stream",
     "text": [
      "120/120 [==============================] - 0s 93us/step - loss: 0.4891 - acc: 0.8417 - val_loss: 0.4627 - val_acc: 0.8000\n",
      "Epoch 62/100\n",
      "120/120 [==============================] - ETA: 0s - loss: 0.4494 - acc: 0.875 - 0s 127us/step - loss: 0.4879 - acc: 0.8417 - val_loss: 0.4620 - val_acc: 0.8000\n",
      "Epoch 63/100\n",
      "120/120 [==============================] - 0s 89us/step - loss: 0.4868 - acc: 0.8417 - val_loss: 0.4610 - val_acc: 0.8000\n",
      "Epoch 64/100\n",
      "120/120 [==============================] - 0s 148us/step - loss: 0.4858 - acc: 0.8417 - val_loss: 0.4600 - val_acc: 0.8000\n",
      "Epoch 65/100\n",
      "120/120 [==============================] - 0s 109us/step - loss: 0.4848 - acc: 0.8417 - val_loss: 0.4593 - val_acc: 0.8000\n",
      "Epoch 66/100\n",
      "120/120 [==============================] - 0s 132us/step - loss: 0.4839 - acc: 0.8500 - val_loss: 0.4588 - val_acc: 0.8000\n",
      "Epoch 67/100\n",
      "120/120 [==============================] - 0s 155us/step - loss: 0.4830 - acc: 0.8500 - val_loss: 0.4581 - val_acc: 0.8000\n",
      "Epoch 68/100\n",
      "120/120 [==============================] - 0s 99us/step - loss: 0.4822 - acc: 0.8500 - val_loss: 0.4569 - val_acc: 0.8000\n",
      "Epoch 69/100\n",
      "120/120 [==============================] - 0s 114us/step - loss: 0.4813 - acc: 0.8500 - val_loss: 0.4563 - val_acc: 0.8000\n",
      "Epoch 70/100\n",
      "120/120 [==============================] - 0s 87us/step - loss: 0.4804 - acc: 0.8500 - val_loss: 0.4554 - val_acc: 0.8000\n",
      "Epoch 71/100\n",
      "120/120 [==============================] - 0s 113us/step - loss: 0.4796 - acc: 0.8500 - val_loss: 0.4547 - val_acc: 0.8000\n",
      "Epoch 72/100\n",
      "120/120 [==============================] - 0s 104us/step - loss: 0.4789 - acc: 0.8500 - val_loss: 0.4539 - val_acc: 0.8000\n",
      "Epoch 73/100\n",
      "120/120 [==============================] - 0s 117us/step - loss: 0.4785 - acc: 0.8500 - val_loss: 0.4529 - val_acc: 0.8000\n",
      "Epoch 74/100\n",
      "120/120 [==============================] - 0s 99us/step - loss: 0.4774 - acc: 0.8500 - val_loss: 0.4523 - val_acc: 0.8000\n",
      "Epoch 75/100\n",
      "120/120 [==============================] - 0s 105us/step - loss: 0.4768 - acc: 0.8500 - val_loss: 0.4519 - val_acc: 0.8000\n",
      "Epoch 76/100\n",
      "120/120 [==============================] - 0s 151us/step - loss: 0.4762 - acc: 0.8500 - val_loss: 0.4513 - val_acc: 0.8000\n",
      "Epoch 77/100\n",
      "120/120 [==============================] - 0s 115us/step - loss: 0.4755 - acc: 0.8500 - val_loss: 0.4505 - val_acc: 0.8000\n",
      "Epoch 78/100\n",
      "120/120 [==============================] - 0s 98us/step - loss: 0.4750 - acc: 0.8500 - val_loss: 0.4498 - val_acc: 0.8000\n",
      "Epoch 79/100\n",
      "120/120 [==============================] - 0s 93us/step - loss: 0.4744 - acc: 0.8417 - val_loss: 0.4489 - val_acc: 0.8333\n",
      "Epoch 80/100\n",
      "120/120 [==============================] - 0s 108us/step - loss: 0.4737 - acc: 0.8417 - val_loss: 0.4482 - val_acc: 0.8333\n",
      "Epoch 81/100\n",
      "120/120 [==============================] - 0s 119us/step - loss: 0.4731 - acc: 0.8417 - val_loss: 0.4476 - val_acc: 0.8333\n",
      "Epoch 82/100\n",
      "120/120 [==============================] - 0s 116us/step - loss: 0.4725 - acc: 0.8417 - val_loss: 0.4471 - val_acc: 0.8333\n",
      "Epoch 83/100\n",
      "120/120 [==============================] - 0s 95us/step - loss: 0.4720 - acc: 0.8417 - val_loss: 0.4467 - val_acc: 0.8333\n",
      "Epoch 84/100\n",
      "120/120 [==============================] - 0s 108us/step - loss: 0.4717 - acc: 0.8417 - val_loss: 0.4459 - val_acc: 0.8333\n",
      "Epoch 85/100\n",
      "120/120 [==============================] - 0s 117us/step - loss: 0.4713 - acc: 0.8417 - val_loss: 0.4451 - val_acc: 0.8333\n",
      "Epoch 86/100\n",
      "120/120 [==============================] - 0s 111us/step - loss: 0.4705 - acc: 0.8417 - val_loss: 0.4450 - val_acc: 0.8333\n",
      "Epoch 87/100\n",
      "120/120 [==============================] - 0s 125us/step - loss: 0.4701 - acc: 0.8417 - val_loss: 0.4444 - val_acc: 0.8333\n",
      "Epoch 88/100\n",
      "120/120 [==============================] - 0s 101us/step - loss: 0.4694 - acc: 0.8417 - val_loss: 0.4443 - val_acc: 0.8333\n",
      "Epoch 89/100\n",
      "120/120 [==============================] - 0s 107us/step - loss: 0.4691 - acc: 0.8500 - val_loss: 0.4442 - val_acc: 0.8333\n",
      "Epoch 90/100\n",
      "120/120 [==============================] - 0s 111us/step - loss: 0.4685 - acc: 0.8500 - val_loss: 0.4437 - val_acc: 0.8333\n",
      "Epoch 91/100\n",
      "120/120 [==============================] - 0s 140us/step - loss: 0.4681 - acc: 0.8500 - val_loss: 0.4434 - val_acc: 0.8000\n",
      "Epoch 92/100\n",
      "120/120 [==============================] - 0s 108us/step - loss: 0.4676 - acc: 0.8500 - val_loss: 0.4430 - val_acc: 0.8000\n",
      "Epoch 93/100\n",
      "120/120 [==============================] - 0s 138us/step - loss: 0.4672 - acc: 0.8500 - val_loss: 0.4427 - val_acc: 0.8000\n",
      "Epoch 94/100\n",
      "120/120 [==============================] - 0s 101us/step - loss: 0.4667 - acc: 0.8500 - val_loss: 0.4421 - val_acc: 0.8000\n",
      "Epoch 95/100\n",
      "120/120 [==============================] - 0s 109us/step - loss: 0.4662 - acc: 0.8500 - val_loss: 0.4415 - val_acc: 0.8333\n",
      "Epoch 96/100\n",
      "120/120 [==============================] - 0s 109us/step - loss: 0.4660 - acc: 0.8500 - val_loss: 0.4404 - val_acc: 0.8333\n",
      "Epoch 97/100\n",
      "120/120 [==============================] - 0s 116us/step - loss: 0.4654 - acc: 0.8500 - val_loss: 0.4400 - val_acc: 0.8333\n",
      "Epoch 98/100\n",
      "120/120 [==============================] - 0s 149us/step - loss: 0.4649 - acc: 0.8417 - val_loss: 0.4393 - val_acc: 0.8333\n",
      "Epoch 99/100\n",
      "120/120 [==============================] - 0s 123us/step - loss: 0.4646 - acc: 0.8417 - val_loss: 0.4390 - val_acc: 0.8333\n",
      "Epoch 100/100\n",
      "120/120 [==============================] - 0s 135us/step - loss: 0.4641 - acc: 0.8500 - val_loss: 0.4386 - val_acc: 0.8333\n"
     ]
    }
   ],
   "source": [
    "hist = model.fit(X_train, y_train, \n",
    "                 validation_data=(X_test, y_test), \n",
    "                 epochs=100, verbose=1)"
   ]
  },
  {
   "cell_type": "markdown",
   "metadata": {},
   "source": [
    "Accuracy evolution during training"
   ]
  },
  {
   "cell_type": "code",
   "execution_count": 166,
   "metadata": {},
   "outputs": [
    {
     "data": {
      "image/png": "[encoded data removed]",
      "text/plain": [
       "<Figure size 1440x576 with 2 Axes>"
      ]
     },
     "metadata": {},
     "output_type": "display_data"
    }
   ],
   "source": [
    "plt.figure(figsize=(20, 8))\n",
    "plt.suptitle(\"Keras Logistic Regression\")\n",
    "plt.subplot(121)\n",
    "plt.plot(hist.history[\"loss\"], label=\"Train\")\n",
    "plt.plot(hist.history[\"val_loss\"], label=\"Test\")\n",
    "plt.legend(frameon=\"True\", loc=\"upper left\")\n",
    "plt.xlabel(\"Epoch\")\n",
    "plt.ylabel(\"Loss\")\n",
    "plt.subplot(122)\n",
    "plt.plot(hist.history[\"acc\"], label=\"Train\")\n",
    "plt.plot(hist.history[\"val_acc\"], label=\"Test\")\n",
    "plt.legend(frameon=\"True\", loc=\"upper left\")\n",
    "plt.xlabel(\"Epoch\")\n",
    "plt.ylabel(\"Accuracy\");"
   ]
  },
  {
   "cell_type": "markdown",
   "metadata": {},
   "source": [
    "## Evaluation"
   ]
  },
  {
   "cell_type": "markdown",
   "metadata": {},
   "source": [
    "Predicting both train and test sets to evaluate model"
   ]
  },
  {
   "cell_type": "code",
   "execution_count": 156,
   "metadata": {},
   "outputs": [],
   "source": [
    "preds_test = model.predict(X_test)\n",
    "preds_train = model.predict(X_train)"
   ]
  },
  {
   "cell_type": "markdown",
   "metadata": {},
   "source": [
    "Cast back from OHE to labels"
   ]
  },
  {
   "cell_type": "code",
   "execution_count": 157,
   "metadata": {},
   "outputs": [],
   "source": [
    "y_train = np.argmax(y_train, axis=1)\n",
    "y_test = np.argmax(y_test, axis=1)\n",
    "\n",
    "preds_train = np.argmax(preds_train, axis=1)\n",
    "preds_test = np.argmax(preds_test, axis=1)"
   ]
  },
  {
   "cell_type": "markdown",
   "metadata": {},
   "source": [
    "Accuracy scores"
   ]
  },
  {
   "cell_type": "code",
   "execution_count": 158,
   "metadata": {},
   "outputs": [
    {
     "name": "stdout",
     "output_type": "stream",
     "text": [
      "Train accuracy: 0.692\n",
      "Test accuracy: 0.8\n"
     ]
    }
   ],
   "source": [
    "print(\"Train accuracy:\", np.round(accuracy_score(y_train, preds_train), 3))\n",
    "print(\"Test accuracy:\", np.round(accuracy_score(y_test, preds_test), 3))"
   ]
  },
  {
   "cell_type": "code",
   "execution_count": 159,
   "metadata": {},
   "outputs": [
    {
     "data": {
      "text/html": [
       "<div>\n",
       "<style scoped>\n",
       "    .dataframe tbody tr th:only-of-type {\n",
       "        vertical-align: middle;\n",
       "    }\n",
       "\n",
       "    .dataframe tbody tr th {\n",
       "        vertical-align: top;\n",
       "    }\n",
       "\n",
       "    .dataframe thead th {\n",
       "        text-align: right;\n",
       "    }\n",
       "</style>\n",
       "<table border=\"1\" class=\"dataframe\">\n",
       "  <thead>\n",
       "    <tr style=\"text-align: right;\">\n",
       "      <th></th>\n",
       "      <th>Accuracy Train</th>\n",
       "      <th>Accuracy Test</th>\n",
       "    </tr>\n",
       "  </thead>\n",
       "  <tbody>\n",
       "    <tr>\n",
       "      <th>SKLearn LR</th>\n",
       "      <td>0.975</td>\n",
       "      <td>1.000</td>\n",
       "    </tr>\n",
       "    <tr>\n",
       "      <th>Keras LR</th>\n",
       "      <td>0.933</td>\n",
       "      <td>0.900</td>\n",
       "    </tr>\n",
       "    <tr>\n",
       "      <th>Keras LR</th>\n",
       "      <td>0.950</td>\n",
       "      <td>0.967</td>\n",
       "    </tr>\n",
       "    <tr>\n",
       "      <th>Keras LR Functional API</th>\n",
       "      <td>0.950</td>\n",
       "      <td>0.967</td>\n",
       "    </tr>\n",
       "  </tbody>\n",
       "</table>\n",
       "</div>"
      ],
      "text/plain": [
       "                         Accuracy Train  Accuracy Test\n",
       "SKLearn LR                        0.975          1.000\n",
       "Keras LR                          0.933          0.900\n",
       "Keras LR                          0.950          0.967\n",
       "Keras LR Functional API           0.950          0.967"
      ]
     },
     "execution_count": 159,
     "metadata": {},
     "output_type": "execute_result"
    }
   ],
   "source": [
    "results"
   ]
  },
  {
   "cell_type": "code",
   "execution_count": 162,
   "metadata": {},
   "outputs": [],
   "source": [
    "results = results.append(pd.DataFrame(\n",
    "        [[np.round(accuracy_score(y_train, preds_train), 3), np.round(accuracy_score(y_test, preds_test), 3)]], \n",
    "        columns=[\"Accuracy Train\", \"Accuracy Test\"], \n",
    "        index=[\"Keras LR Sequential API\"]))"
   ]
  },
  {
   "cell_type": "code",
   "execution_count": 163,
   "metadata": {},
   "outputs": [
    {
     "data": {
      "text/html": [
       "<div>\n",
       "<style scoped>\n",
       "    .dataframe tbody tr th:only-of-type {\n",
       "        vertical-align: middle;\n",
       "    }\n",
       "\n",
       "    .dataframe tbody tr th {\n",
       "        vertical-align: top;\n",
       "    }\n",
       "\n",
       "    .dataframe thead th {\n",
       "        text-align: right;\n",
       "    }\n",
       "</style>\n",
       "<table border=\"1\" class=\"dataframe\">\n",
       "  <thead>\n",
       "    <tr style=\"text-align: right;\">\n",
       "      <th></th>\n",
       "      <th>Accuracy Train</th>\n",
       "      <th>Accuracy Test</th>\n",
       "    </tr>\n",
       "  </thead>\n",
       "  <tbody>\n",
       "    <tr>\n",
       "      <th>SKLearn LR</th>\n",
       "      <td>0.975</td>\n",
       "      <td>1.000</td>\n",
       "    </tr>\n",
       "    <tr>\n",
       "      <th>Keras LR</th>\n",
       "      <td>0.933</td>\n",
       "      <td>0.900</td>\n",
       "    </tr>\n",
       "    <tr>\n",
       "      <th>Keras LR</th>\n",
       "      <td>0.950</td>\n",
       "      <td>0.967</td>\n",
       "    </tr>\n",
       "    <tr>\n",
       "      <th>Keras LR Functional API</th>\n",
       "      <td>0.950</td>\n",
       "      <td>0.967</td>\n",
       "    </tr>\n",
       "    <tr>\n",
       "      <th>Keras LR Functional API</th>\n",
       "      <td>0.692</td>\n",
       "      <td>0.800</td>\n",
       "    </tr>\n",
       "    <tr>\n",
       "      <th>Keras LR Sequential API</th>\n",
       "      <td>0.692</td>\n",
       "      <td>0.800</td>\n",
       "    </tr>\n",
       "  </tbody>\n",
       "</table>\n",
       "</div>"
      ],
      "text/plain": [
       "                         Accuracy Train  Accuracy Test\n",
       "SKLearn LR                        0.975          1.000\n",
       "Keras LR                          0.933          0.900\n",
       "Keras LR                          0.950          0.967\n",
       "Keras LR Functional API           0.950          0.967\n",
       "Keras LR Functional API           0.692          0.800\n",
       "Keras LR Sequential API           0.692          0.800"
      ]
     },
     "execution_count": 163,
     "metadata": {},
     "output_type": "execute_result"
    }
   ],
   "source": [
    "results"
   ]
  },
  {
   "cell_type": "markdown",
   "metadata": {},
   "source": [
    "# Wrappers for the Scikit-Learn API via KerasClassifier \n",
    "\n",
    "You can use Sequential Keras models (single-input only) as part of your Scikit-Learn workflow via the wrappers found at keras.wrappers.scikit_learn.py. \n",
    "\n",
    "There are two wrappers available:\n",
    "\n",
    "* `keras.wrappers.scikit_learn.KerasClassifier(build_fn=None, **sk_params)`, which implements the Scikit-Learn classifier interface,\n",
    "\n",
    "* `keras.wrappers.scikit_learn.KerasRegressor(build_fn=None, **sk_params)`, which implements the Scikit-Learn regressor interface.\n",
    "\n",
    "Arguments\n",
    "* `build_fn`: callable function or class instance\n",
    "* `sk_params`: model parameters & fitting parameters\n",
    "\n",
    "For more details see [here](https://keras.io/scikit-learn-api/)"
   ]
  },
  {
   "cell_type": "code",
   "execution_count": 121,
   "metadata": {},
   "outputs": [],
   "source": [
    "import numpy\n",
    "import pandas\n",
    "from keras.models import Sequential\n",
    "from keras.utils import to_categorical\n",
    "from keras.layers import Dense\n",
    "from keras.wrappers.scikit_learn import KerasClassifier\n",
    "from keras.utils import np_utils\n",
    "from sklearn.model_selection import cross_val_score\n",
    "from sklearn.model_selection import KFold\n",
    "from sklearn.preprocessing import LabelEncoder\n",
    "from sklearn.pipeline import Pipeline\n",
    "\n",
    "# fix random seed for reproducibility\n",
    "seed = 7\n",
    "numpy.random.seed(seed)\n",
    "\n",
    "# define baseline model\n",
    "def baseline_model():\n",
    "    # create model\n",
    "    model = Sequential()\n",
    "    model.add(Dense(8, input_dim=4, activation='relu'))\n",
    "    model.add(Dense(3, activation='softmax'))\n",
    "    # Compile model\n",
    "    model.compile(loss='categorical_crossentropy', optimizer='adam', metrics=['accuracy'])\n",
    "    return model"
   ]
  },
  {
   "cell_type": "markdown",
   "metadata": {},
   "source": [
    "We can now create our KerasClassifier for use in scikit-learn with various meta parameters.\n",
    "\n",
    "We can also pass arguments in the construction of the KerasClassifier class that will be passed on to the fit() function internally used to train the neural network. Here, we pass the number of `epochs` as `50` and batch size as 5 to use when training the model. Debugging is also turned off when training by setting `verbose` to 0."
   ]
  },
  {
   "cell_type": "code",
   "execution_count": 122,
   "metadata": {},
   "outputs": [],
   "source": [
    "estimator = KerasClassifier(build_fn=baseline_model, epochs=50, batch_size=5, verbose=0)"
   ]
  },
  {
   "cell_type": "markdown",
   "metadata": {},
   "source": [
    "## Load and prep data for Keras"
   ]
  },
  {
   "cell_type": "markdown",
   "metadata": {},
   "source": [
    "### Encode The Output Variable\n",
    "The output variable contains three different string values.\n",
    "\n",
    "When modeling multi-class classification problems using neural networks, it is good practice to reshape the output attribute from a vector that contains values for each class value to be a matrix with a boolean for each class value and whether or not a given instance has that class value or not.\n",
    "\n",
    "This is called [one hot encoding](https://en.wikipedia.org/wiki/One-hot) or creating dummy variables from a categorical variable.\n",
    "\n",
    "For example, in this problem three class values are Iris-setosa, Iris-versicolor and Iris-virginica. If we had the observations:"
   ]
  },
  {
   "cell_type": "markdown",
   "metadata": {},
   "source": [
    "`Iris-setosa\n",
    "Iris-versicolor\n",
    "Iris-virginica`\n",
    "\n",
    "We can turn this into a one-hot encoded binary matrix for each data instance that would look as follows:\n",
    "\n",
    "|Iris-setosa|Iris-versicolor|Iris-virginica|\n",
    "|---|---|----|\n",
    "|1|\t\t0|\t\t\t0|\n",
    "|0|\t\t1| \t\t\t0|\n",
    "|0| \t\t0| \t\t\t1|"
   ]
  },
  {
   "cell_type": "code",
   "execution_count": 123,
   "metadata": {},
   "outputs": [],
   "source": [
    "from sklearn.datasets import load_iris\n",
    "iris = load_iris()\n",
    "X = pd.DataFrame(iris.data, columns=iris.feature_names)\n",
    "y = iris.target\n",
    "#X_train, X_test, y_train, y_test = train_test_split(X.values, label_binarize(y, classes=[0, 1, 2]), \n",
    "#                                                    test_size=0.2, random_state=42)\n",
    "\n",
    "y = to_categorical(y, num_classes=None)"
   ]
  },
  {
   "cell_type": "markdown",
   "metadata": {},
   "source": [
    "## Evaluate The Model with k-Fold Cross Validation\n",
    "We can now evaluate the neural network model on our training data.\n",
    "\n",
    "The scikit-learn has excellent capability to evaluate models using a suite of techniques. The gold standard for evaluating machine learning models is k-fold cross validation.\n",
    "\n",
    "First we can define the model evaluation procedure. Here, we set the number of folds to be 3 for efficiency purposes (but  10  is an excellent default) and to shuffle the data before partitioning it."
   ]
  },
  {
   "cell_type": "code",
   "execution_count": 124,
   "metadata": {},
   "outputs": [],
   "source": [
    "kfold = KFold(n_splits=3, shuffle=True, random_state=seed)"
   ]
  },
  {
   "cell_type": "markdown",
   "metadata": {},
   "source": [
    "Now we can evaluate our model (estimator) on our dataset (X and dummy_y) using a 10-fold cross-validation procedure (kfold).\n",
    "\n",
    "Evaluating the model only takes approximately 10 seconds and returns an object that describes the evaluation of the 10 constructed models for each of the splits of the dataset."
   ]
  },
  {
   "cell_type": "code",
   "execution_count": 125,
   "metadata": {},
   "outputs": [
    {
     "name": "stdout",
     "output_type": "stream",
     "text": [
      "Baseline: 94.67% (2.49%)\n",
      "CPU times: user 9.45 s, sys: 420 ms, total: 9.87 s\n",
      "Wall time: 8.94 s\n"
     ]
    }
   ],
   "source": [
    "%%time\n",
    "cv_results = cross_val_score(estimator, X, y, cv=kfold)\n",
    "print(\"Baseline: %.2f%% (%.2f%%)\" % (cv_results.mean()*100, cv_results.std()*100))"
   ]
  },
  {
   "cell_type": "markdown",
   "metadata": {},
   "source": [
    "The results are summarized as both the mean and standard deviation of the model accuracy on the dataset. \n",
    "This is a reasonable estimation of the performance of the model on unseen data. \n",
    "It is also within the realm of known top results for this problem. Below are the results after 200 epoches of training for 10-fold cross validation.\n",
    "\n",
    "`Accuracy: 97.33% (4.42%)`\n"
   ]
  },
  {
   "cell_type": "markdown",
   "metadata": {},
   "source": [
    "# Keras Functional API"
   ]
  },
  {
   "cell_type": "markdown",
   "metadata": {},
   "source": [
    "The functional API in Keras is an alternate way of creating models that offers a lot more flexibility, including creating more complex models. This section is largely based on the [this webpage](https://machinelearningmastery.com/keras-functional-api-deep-learning/)\n",
    "\n",
    "The Keras functional API provides a more flexible way for defining models.\n",
    "\n",
    "It specifically allows you to define multiple input or output models as well as models that share layers. More than that, it allows you to define ad hoc acyclic network graphs.\n",
    "\n",
    "Models are defined by creating instances of layers and connecting them directly to each other in pairs, then defining a Model that specifies the layers to act as the input and output to the model.\n",
    "\n",
    "Let’s make this clear with a short example. We can create the input layer as above, then create a hidden layer as a Dense that receives input only from the input layer.\n",
    "\n",
    "`from keras.layers import Input\n",
    "from keras.layers import Dense\n",
    "visible = Input(shape=(2,))\n",
    "hidden = Dense(2)(visible)\n",
    "`\n",
    "\n",
    "Note the (visible) after the creation of the Dense layer that connects the input layer output as the input to the dense hidden layer.\n",
    "\n",
    "It is this way of connecting layers piece by piece that gives the functional API its flexibility. For example, you can see how easy it would be to start defining ad hoc graphs of layers.\n",
    "\n",
    "## Standard Network Models\n",
    "When getting started with the functional API, it is a good idea to see how some standard neural network models are defined.\n",
    "\n",
    "In this section, we will look at defining a simple multilayer Perceptron, convolutional neural network, and recurrent neural network.\n",
    "\n",
    "These examples will provide a foundation for understanding the more elaborate examples later.\n",
    "\n",
    "## Multilayer Perceptron\n",
    "In this section, we define a multilayer Perceptron model for binary classification.\n",
    "\n",
    "The model has 10 inputs, 3 hidden layers with 10, 20, and 10 neurons, and an output layer with 1 output. Rectified linear activation functions are used in each hidden layer and a sigmoid activation function is used in the output layer, for binary classification."
   ]
  },
  {
   "cell_type": "code",
   "execution_count": 139,
   "metadata": {},
   "outputs": [
    {
     "name": "stdout",
     "output_type": "stream",
     "text": [
      "_________________________________________________________________\n",
      "Layer (type)                 Output Shape              Param #   \n",
      "=================================================================\n",
      "input_5 (InputLayer)         (None, 10)                0         \n",
      "_________________________________________________________________\n",
      "dense_69 (Dense)             (None, 10)                110       \n",
      "_________________________________________________________________\n",
      "dense_70 (Dense)             (None, 20)                220       \n",
      "_________________________________________________________________\n",
      "dense_71 (Dense)             (None, 10)                210       \n",
      "_________________________________________________________________\n",
      "dense_72 (Dense)             (None, 1)                 11        \n",
      "=================================================================\n",
      "Total params: 551\n",
      "Trainable params: 551\n",
      "Non-trainable params: 0\n",
      "_________________________________________________________________\n",
      "None\n"
     ]
    }
   ],
   "source": [
    "# Multilayer Perceptron\n",
    "from keras.utils import plot_model\n",
    "from keras.models import Model\n",
    "from keras.layers import Input\n",
    "from keras.layers import Dense\n",
    "visible = Input(shape=(10,))\n",
    "hidden1 = Dense(10, activation='relu')(visible)\n",
    "hidden2 = Dense(20, activation='relu')(hidden1)\n",
    "hidden3 = Dense(10, activation='relu')(hidden2)\n",
    "output = Dense(1, activation='sigmoid')(hidden3)\n",
    "# Model inputs and outputs\n",
    "model = Model(inputs=visible, outputs=output)\n",
    "# summarize layers\n",
    "print(model.summary())\n",
    "# plot graph\n",
    "plot_model(model, to_file='multilayer_perceptron_graph.png')\n"
   ]
  },
  {
   "cell_type": "markdown",
   "metadata": {},
   "source": [
    "A plot of the model graph is also created and saved to file.\n",
    "\n",
    "<img src='multilayer_perceptron_graph.png' alt=\"Drawing\" style=\"width: =150px;\"/> "
   ]
  },
  {
   "cell_type": "markdown",
   "metadata": {},
   "source": [
    "## Use the  Functional API for Iris dataset"
   ]
  },
  {
   "cell_type": "code",
   "execution_count": 141,
   "metadata": {},
   "outputs": [],
   "source": [
    "from sklearn.datasets import load_iris\n",
    "iris = load_iris()\n",
    "X = pd.DataFrame(iris.data, columns=iris.feature_names)\n",
    "y = iris.target\n",
    "X_train, X_test, y_train, y_test = train_test_split(X.values, label_binarize(y, classes=[0, 1, 2]), \n",
    "                                                    test_size=0.2, random_state=42)\n",
    "\n",
    "inp = Input(shape=(4,))\n",
    "out = Dense(3, activation=\"softmax\")(inp)"
   ]
  },
  {
   "cell_type": "markdown",
   "metadata": {},
   "source": [
    "Multinomial Logistic Regression uses softmax activation in multiclass case instead of binary logit function. Also we use crossentropy as a loss function."
   ]
  },
  {
   "cell_type": "code",
   "execution_count": 142,
   "metadata": {},
   "outputs": [],
   "source": [
    "model = Model(inputs=[inp], outputs=[out])\n",
    "model.compile(loss=\"categorical_crossentropy\", optimizer=\"sgd\", metrics=[\"accuracy\"])"
   ]
  },
  {
   "cell_type": "markdown",
   "metadata": {},
   "source": [
    "## Split into train and test set"
   ]
  },
  {
   "cell_type": "code",
   "execution_count": 143,
   "metadata": {},
   "outputs": [],
   "source": [
    "from sklearn.datasets import load_iris\n",
    "iris = load_iris()\n",
    "X = pd.DataFrame(iris.data, columns=iris.feature_names)\n",
    "y = iris.target\n",
    "X_train, X_test, y_train, y_test = train_test_split(X.values, label_binarize(y, classes=[0, 1, 2]), \n",
    "                                                    test_size=0.2, random_state=42)"
   ]
  },
  {
   "cell_type": "markdown",
   "metadata": {},
   "source": [
    "## Fitting"
   ]
  },
  {
   "cell_type": "code",
   "execution_count": 144,
   "metadata": {},
   "outputs": [
    {
     "name": "stdout",
     "output_type": "stream",
     "text": [
      "Train on 120 samples, validate on 30 samples\n",
      "Epoch 1/100\n",
      "120/120 [==============================] - 1s 10ms/step - loss: 4.4796 - acc: 0.3333 - val_loss: 3.2405 - val_acc: 0.3333\n",
      "Epoch 2/100\n",
      "120/120 [==============================] - 0s 85us/step - loss: 2.8351 - acc: 0.3250 - val_loss: 2.0172 - val_acc: 0.1667\n",
      "Epoch 3/100\n",
      "120/120 [==============================] - 0s 79us/step - loss: 1.8927 - acc: 0.0917 - val_loss: 1.4888 - val_acc: 0.0000e+00\n",
      "Epoch 4/100\n",
      "120/120 [==============================] - 0s 107us/step - loss: 1.4627 - acc: 0.0917 - val_loss: 1.2601 - val_acc: 0.1000\n",
      "Epoch 5/100\n",
      "120/120 [==============================] - 0s 82us/step - loss: 1.2499 - acc: 0.1083 - val_loss: 1.1620 - val_acc: 0.1667\n",
      "Epoch 6/100\n",
      "120/120 [==============================] - 0s 89us/step - loss: 1.1605 - acc: 0.0833 - val_loss: 1.1217 - val_acc: 0.1000\n",
      "Epoch 7/100\n",
      "120/120 [==============================] - 0s 115us/step - loss: 1.1034 - acc: 0.0500 - val_loss: 1.0962 - val_acc: 0.1333\n",
      "Epoch 8/100\n",
      "120/120 [==============================] - 0s 128us/step - loss: 1.0737 - acc: 0.1333 - val_loss: 1.0671 - val_acc: 0.1333\n",
      "Epoch 9/100\n",
      "120/120 [==============================] - 0s 128us/step - loss: 1.0538 - acc: 0.1000 - val_loss: 1.0542 - val_acc: 0.2333\n",
      "Epoch 10/100\n",
      "120/120 [==============================] - 0s 119us/step - loss: 1.0228 - acc: 0.2667 - val_loss: 1.0241 - val_acc: 0.2000\n",
      "Epoch 11/100\n",
      "120/120 [==============================] - 0s 139us/step - loss: 0.9983 - acc: 0.3333 - val_loss: 0.9906 - val_acc: 0.1667\n",
      "Epoch 12/100\n",
      "120/120 [==============================] - 0s 121us/step - loss: 0.9736 - acc: 0.2583 - val_loss: 0.9701 - val_acc: 0.2333\n",
      "Epoch 13/100\n",
      "120/120 [==============================] - 0s 111us/step - loss: 0.9546 - acc: 0.3083 - val_loss: 0.9461 - val_acc: 0.2667\n",
      "Epoch 14/100\n",
      "120/120 [==============================] - 0s 143us/step - loss: 0.9363 - acc: 0.3167 - val_loss: 0.9319 - val_acc: 0.3000\n",
      "Epoch 15/100\n",
      "120/120 [==============================] - 0s 126us/step - loss: 0.9196 - acc: 0.3667 - val_loss: 0.9116 - val_acc: 0.3333\n",
      "Epoch 16/100\n",
      "120/120 [==============================] - 0s 122us/step - loss: 0.8993 - acc: 0.3917 - val_loss: 0.8924 - val_acc: 0.5000\n",
      "Epoch 17/100\n",
      "120/120 [==============================] - 0s 140us/step - loss: 0.8898 - acc: 0.3833 - val_loss: 0.8743 - val_acc: 0.5000\n",
      "Epoch 18/100\n",
      "120/120 [==============================] - 0s 112us/step - loss: 0.8720 - acc: 0.3917 - val_loss: 0.8558 - val_acc: 0.5000\n",
      "Epoch 19/100\n",
      "120/120 [==============================] - 0s 128us/step - loss: 0.8519 - acc: 0.3917 - val_loss: 0.8426 - val_acc: 0.4667\n",
      "Epoch 20/100\n",
      "120/120 [==============================] - 0s 108us/step - loss: 0.8437 - acc: 0.3917 - val_loss: 0.8329 - val_acc: 0.5000\n",
      "Epoch 21/100\n",
      "120/120 [==============================] - 0s 130us/step - loss: 0.8317 - acc: 0.4167 - val_loss: 0.8198 - val_acc: 0.5000\n",
      "Epoch 22/100\n",
      "120/120 [==============================] - 0s 110us/step - loss: 0.8131 - acc: 0.3917 - val_loss: 0.8039 - val_acc: 0.5000\n",
      "Epoch 23/100\n",
      "120/120 [==============================] - 0s 118us/step - loss: 0.8043 - acc: 0.4250 - val_loss: 0.7895 - val_acc: 0.5000\n",
      "Epoch 24/100\n",
      "120/120 [==============================] - 0s 149us/step - loss: 0.7930 - acc: 0.4583 - val_loss: 0.7837 - val_acc: 0.5000\n",
      "Epoch 25/100\n",
      "120/120 [==============================] - 0s 112us/step - loss: 0.7814 - acc: 0.4333 - val_loss: 0.7819 - val_acc: 0.5333\n",
      "Epoch 26/100\n",
      "120/120 [==============================] - 0s 143us/step - loss: 0.7713 - acc: 0.4833 - val_loss: 0.7608 - val_acc: 0.5333\n",
      "Epoch 27/100\n",
      "120/120 [==============================] - 0s 148us/step - loss: 0.7576 - acc: 0.4333 - val_loss: 0.7511 - val_acc: 0.5333\n",
      "Epoch 28/100\n",
      "120/120 [==============================] - 0s 143us/step - loss: 0.7522 - acc: 0.4750 - val_loss: 0.7499 - val_acc: 0.5333\n",
      "Epoch 29/100\n",
      "120/120 [==============================] - 0s 109us/step - loss: 0.7410 - acc: 0.4167 - val_loss: 0.7358 - val_acc: 0.5000\n",
      "Epoch 30/100\n",
      "120/120 [==============================] - 0s 106us/step - loss: 0.7348 - acc: 0.4500 - val_loss: 0.7226 - val_acc: 0.5000\n",
      "Epoch 31/100\n",
      "120/120 [==============================] - 0s 138us/step - loss: 0.7237 - acc: 0.4750 - val_loss: 0.7189 - val_acc: 0.5000\n",
      "Epoch 32/100\n",
      "120/120 [==============================] - 0s 120us/step - loss: 0.7235 - acc: 0.4833 - val_loss: 0.7155 - val_acc: 0.5000\n",
      "Epoch 33/100\n",
      "120/120 [==============================] - 0s 90us/step - loss: 0.7125 - acc: 0.4333 - val_loss: 0.7105 - val_acc: 0.5333\n",
      "Epoch 34/100\n",
      "120/120 [==============================] - 0s 123us/step - loss: 0.7065 - acc: 0.4500 - val_loss: 0.7041 - val_acc: 0.5667\n",
      "Epoch 35/100\n",
      "120/120 [==============================] - 0s 101us/step - loss: 0.7062 - acc: 0.4917 - val_loss: 0.7084 - val_acc: 0.6333\n",
      "Epoch 36/100\n",
      "120/120 [==============================] - 0s 135us/step - loss: 0.6949 - acc: 0.5333 - val_loss: 0.6856 - val_acc: 0.5000\n",
      "Epoch 37/100\n",
      "120/120 [==============================] - 0s 118us/step - loss: 0.6847 - acc: 0.4250 - val_loss: 0.6744 - val_acc: 0.5333\n",
      "Epoch 38/100\n",
      "120/120 [==============================] - 0s 130us/step - loss: 0.6774 - acc: 0.4750 - val_loss: 0.6678 - val_acc: 0.5667\n",
      "Epoch 39/100\n",
      "120/120 [==============================] - 0s 130us/step - loss: 0.6771 - acc: 0.5000 - val_loss: 0.6620 - val_acc: 0.5667\n",
      "Epoch 40/100\n",
      "120/120 [==============================] - 0s 82us/step - loss: 0.6661 - acc: 0.5167 - val_loss: 0.6565 - val_acc: 0.6000\n",
      "Epoch 41/100\n",
      "120/120 [==============================] - 0s 142us/step - loss: 0.6633 - acc: 0.5167 - val_loss: 0.6514 - val_acc: 0.5333\n",
      "Epoch 42/100\n",
      "120/120 [==============================] - 0s 140us/step - loss: 0.6600 - acc: 0.5917 - val_loss: 0.6473 - val_acc: 0.5333\n",
      "Epoch 43/100\n",
      "120/120 [==============================] - 0s 140us/step - loss: 0.6493 - acc: 0.5000 - val_loss: 0.6378 - val_acc: 0.6333\n",
      "Epoch 44/100\n",
      "120/120 [==============================] - 0s 131us/step - loss: 0.6504 - acc: 0.6333 - val_loss: 0.6331 - val_acc: 0.6333\n",
      "Epoch 45/100\n",
      "120/120 [==============================] - 0s 133us/step - loss: 0.6489 - acc: 0.5500 - val_loss: 0.6277 - val_acc: 0.6333\n",
      "Epoch 46/100\n",
      "120/120 [==============================] - 0s 81us/step - loss: 0.6414 - acc: 0.5750 - val_loss: 0.6230 - val_acc: 0.6667\n",
      "Epoch 47/100\n",
      "120/120 [==============================] - 0s 108us/step - loss: 0.6329 - acc: 0.5833 - val_loss: 0.6189 - val_acc: 0.6667\n",
      "Epoch 48/100\n",
      "120/120 [==============================] - 0s 99us/step - loss: 0.6284 - acc: 0.5583 - val_loss: 0.6134 - val_acc: 0.7000\n",
      "Epoch 49/100\n",
      "120/120 [==============================] - 0s 78us/step - loss: 0.6220 - acc: 0.6250 - val_loss: 0.6106 - val_acc: 0.6667\n",
      "Epoch 50/100\n",
      "120/120 [==============================] - 0s 108us/step - loss: 0.6219 - acc: 0.5833 - val_loss: 0.6056 - val_acc: 0.7000\n",
      "Epoch 51/100\n",
      "120/120 [==============================] - 0s 101us/step - loss: 0.6146 - acc: 0.6417 - val_loss: 0.6054 - val_acc: 0.7000\n",
      "Epoch 52/100\n",
      "120/120 [==============================] - 0s 93us/step - loss: 0.6127 - acc: 0.6333 - val_loss: 0.5963 - val_acc: 0.7000\n",
      "Epoch 53/100\n",
      "120/120 [==============================] - 0s 122us/step - loss: 0.6081 - acc: 0.6500 - val_loss: 0.6002 - val_acc: 0.6667\n",
      "Epoch 54/100\n",
      "120/120 [==============================] - 0s 110us/step - loss: 0.6049 - acc: 0.6500 - val_loss: 0.6005 - val_acc: 0.6667\n",
      "Epoch 55/100\n",
      "120/120 [==============================] - 0s 112us/step - loss: 0.6035 - acc: 0.6333 - val_loss: 0.5925 - val_acc: 0.7000\n",
      "Epoch 56/100\n",
      "120/120 [==============================] - 0s 89us/step - loss: 0.5975 - acc: 0.6167 - val_loss: 0.5870 - val_acc: 0.7333\n",
      "Epoch 57/100\n",
      "120/120 [==============================] - 0s 104us/step - loss: 0.5945 - acc: 0.6000 - val_loss: 0.5886 - val_acc: 0.7333\n",
      "Epoch 58/100\n",
      "120/120 [==============================] - 0s 116us/step - loss: 0.5921 - acc: 0.6333 - val_loss: 0.5849 - val_acc: 0.7667\n",
      "Epoch 59/100\n",
      "120/120 [==============================] - 0s 85us/step - loss: 0.5887 - acc: 0.7417 - val_loss: 0.5732 - val_acc: 0.7000\n",
      "Epoch 60/100\n",
      "120/120 [==============================] - 0s 127us/step - loss: 0.5850 - acc: 0.6667 - val_loss: 0.5713 - val_acc: 0.7667\n",
      "Epoch 61/100\n"
     ]
    },
    {
     "name": "stdout",
     "output_type": "stream",
     "text": [
      "120/120 [==============================] - 0s 111us/step - loss: 0.5798 - acc: 0.6750 - val_loss: 0.5671 - val_acc: 0.7333\n",
      "Epoch 62/100\n",
      "120/120 [==============================] - 0s 126us/step - loss: 0.5769 - acc: 0.6583 - val_loss: 0.5651 - val_acc: 0.7667\n",
      "Epoch 63/100\n",
      "120/120 [==============================] - 0s 98us/step - loss: 0.5789 - acc: 0.6583 - val_loss: 0.5677 - val_acc: 0.8000\n",
      "Epoch 64/100\n",
      "120/120 [==============================] - 0s 89us/step - loss: 0.5723 - acc: 0.7250 - val_loss: 0.5596 - val_acc: 0.7667\n",
      "Epoch 65/100\n",
      "120/120 [==============================] - 0s 109us/step - loss: 0.5722 - acc: 0.7417 - val_loss: 0.5537 - val_acc: 0.7000\n",
      "Epoch 66/100\n",
      "120/120 [==============================] - 0s 96us/step - loss: 0.5675 - acc: 0.6583 - val_loss: 0.5558 - val_acc: 0.8000\n",
      "Epoch 67/100\n",
      "120/120 [==============================] - 0s 79us/step - loss: 0.5624 - acc: 0.7000 - val_loss: 0.5547 - val_acc: 0.8000\n",
      "Epoch 68/100\n",
      "120/120 [==============================] - 0s 114us/step - loss: 0.5622 - acc: 0.7583 - val_loss: 0.5498 - val_acc: 0.8000\n",
      "Epoch 69/100\n",
      "120/120 [==============================] - 0s 98us/step - loss: 0.5683 - acc: 0.6833 - val_loss: 0.5447 - val_acc: 0.7333\n",
      "Epoch 70/100\n",
      "120/120 [==============================] - 0s 124us/step - loss: 0.5556 - acc: 0.6917 - val_loss: 0.5447 - val_acc: 0.8000\n",
      "Epoch 71/100\n",
      "120/120 [==============================] - 0s 107us/step - loss: 0.5565 - acc: 0.7167 - val_loss: 0.5456 - val_acc: 0.9000\n",
      "Epoch 72/100\n",
      "120/120 [==============================] - 0s 102us/step - loss: 0.5541 - acc: 0.7917 - val_loss: 0.5434 - val_acc: 0.9000\n",
      "Epoch 73/100\n",
      "120/120 [==============================] - 0s 95us/step - loss: 0.5475 - acc: 0.8667 - val_loss: 0.5362 - val_acc: 0.8000\n",
      "Epoch 74/100\n",
      "120/120 [==============================] - 0s 105us/step - loss: 0.5487 - acc: 0.8000 - val_loss: 0.5309 - val_acc: 0.7000\n",
      "Epoch 75/100\n",
      "120/120 [==============================] - 0s 101us/step - loss: 0.5446 - acc: 0.6667 - val_loss: 0.5303 - val_acc: 0.7333\n",
      "Epoch 76/100\n",
      "120/120 [==============================] - 0s 95us/step - loss: 0.5415 - acc: 0.7083 - val_loss: 0.5291 - val_acc: 0.8000\n",
      "Epoch 77/100\n",
      "120/120 [==============================] - 0s 98us/step - loss: 0.5415 - acc: 0.7500 - val_loss: 0.5266 - val_acc: 0.8000\n",
      "Epoch 78/100\n",
      "120/120 [==============================] - 0s 97us/step - loss: 0.5375 - acc: 0.7333 - val_loss: 0.5245 - val_acc: 0.8000\n",
      "Epoch 79/100\n",
      "120/120 [==============================] - 0s 101us/step - loss: 0.5365 - acc: 0.7417 - val_loss: 0.5228 - val_acc: 0.8000\n",
      "Epoch 80/100\n",
      "120/120 [==============================] - 0s 118us/step - loss: 0.5319 - acc: 0.7750 - val_loss: 0.5221 - val_acc: 0.8333\n",
      "Epoch 81/100\n",
      "120/120 [==============================] - 0s 100us/step - loss: 0.5322 - acc: 0.8000 - val_loss: 0.5207 - val_acc: 0.8333\n",
      "Epoch 82/100\n",
      "120/120 [==============================] - 0s 89us/step - loss: 0.5367 - acc: 0.8500 - val_loss: 0.5135 - val_acc: 0.7000\n",
      "Epoch 83/100\n",
      "120/120 [==============================] - 0s 122us/step - loss: 0.5292 - acc: 0.6667 - val_loss: 0.5143 - val_acc: 0.8333\n",
      "Epoch 84/100\n",
      "120/120 [==============================] - 0s 125us/step - loss: 0.5256 - acc: 0.7917 - val_loss: 0.5120 - val_acc: 0.8000\n",
      "Epoch 85/100\n",
      "120/120 [==============================] - 0s 134us/step - loss: 0.5226 - acc: 0.7917 - val_loss: 0.5108 - val_acc: 0.8333\n",
      "Epoch 86/100\n",
      "120/120 [==============================] - 0s 122us/step - loss: 0.5224 - acc: 0.7667 - val_loss: 0.5116 - val_acc: 0.9333\n",
      "Epoch 87/100\n",
      "120/120 [==============================] - 0s 135us/step - loss: 0.5241 - acc: 0.8417 - val_loss: 0.5061 - val_acc: 0.8333\n",
      "Epoch 88/100\n",
      "120/120 [==============================] - 0s 156us/step - loss: 0.5189 - acc: 0.8333 - val_loss: 0.5041 - val_acc: 0.8333\n",
      "Epoch 89/100\n",
      "120/120 [==============================] - 0s 92us/step - loss: 0.5159 - acc: 0.7750 - val_loss: 0.5056 - val_acc: 0.9000\n",
      "Epoch 90/100\n",
      "120/120 [==============================] - 0s 97us/step - loss: 0.5168 - acc: 0.8167 - val_loss: 0.5039 - val_acc: 0.9333\n",
      "Epoch 91/100\n",
      "120/120 [==============================] - 0s 108us/step - loss: 0.5110 - acc: 0.9333 - val_loss: 0.4997 - val_acc: 0.8667\n",
      "Epoch 92/100\n",
      "120/120 [==============================] - 0s 94us/step - loss: 0.5103 - acc: 0.9000 - val_loss: 0.4966 - val_acc: 0.8000\n",
      "Epoch 93/100\n",
      "120/120 [==============================] - 0s 106us/step - loss: 0.5185 - acc: 0.7667 - val_loss: 0.4945 - val_acc: 0.7667\n",
      "Epoch 94/100\n",
      "120/120 [==============================] - 0s 159us/step - loss: 0.5064 - acc: 0.8417 - val_loss: 0.4933 - val_acc: 0.8333\n",
      "Epoch 95/100\n",
      "120/120 [==============================] - 0s 108us/step - loss: 0.5102 - acc: 0.7833 - val_loss: 0.4922 - val_acc: 0.8667\n",
      "Epoch 96/100\n",
      "120/120 [==============================] - 0s 111us/step - loss: 0.5059 - acc: 0.7417 - val_loss: 0.4969 - val_acc: 0.9667\n",
      "Epoch 97/100\n",
      "120/120 [==============================] - 0s 116us/step - loss: 0.5042 - acc: 0.9000 - val_loss: 0.4924 - val_acc: 0.9667\n",
      "Epoch 98/100\n",
      "120/120 [==============================] - 0s 71us/step - loss: 0.5012 - acc: 0.8667 - val_loss: 0.4928 - val_acc: 0.9667\n",
      "Epoch 99/100\n",
      "120/120 [==============================] - 0s 94us/step - loss: 0.4991 - acc: 0.8667 - val_loss: 0.4891 - val_acc: 0.9667\n",
      "Epoch 100/100\n",
      "120/120 [==============================] - 0s 80us/step - loss: 0.4976 - acc: 0.8833 - val_loss: 0.4871 - val_acc: 0.9667\n"
     ]
    }
   ],
   "source": [
    "hist = model.fit(X_train, y_train, \n",
    "                 validation_data=(X_test, y_test), \n",
    "                 epochs=100, verbose=1)"
   ]
  },
  {
   "cell_type": "markdown",
   "metadata": {},
   "source": [
    "Accuracy evolution during training"
   ]
  },
  {
   "cell_type": "code",
   "execution_count": 145,
   "metadata": {},
   "outputs": [
    {
     "data": {
      "image/png": "[encoded data removed]",
      "text/plain": [
       "<Figure size 1440x576 with 2 Axes>"
      ]
     },
     "metadata": {},
     "output_type": "display_data"
    }
   ],
   "source": [
    "plt.figure(figsize=(20, 8))\n",
    "plt.suptitle(\"Keras Logistic Regression\")\n",
    "plt.subplot(121)\n",
    "plt.plot(hist.history[\"loss\"], label=\"Train\")\n",
    "plt.plot(hist.history[\"val_loss\"], label=\"Test\")\n",
    "plt.legend(frameon=\"True\", loc=\"upper left\")\n",
    "plt.xlabel(\"Epoch\")\n",
    "plt.ylabel(\"Loss\")\n",
    "plt.subplot(122)\n",
    "plt.plot(hist.history[\"acc\"], label=\"Train\")\n",
    "plt.plot(hist.history[\"val_acc\"], label=\"Test\")\n",
    "plt.legend(frameon=\"True\", loc=\"upper left\")\n",
    "plt.xlabel(\"Epoch\")\n",
    "plt.ylabel(\"Accuracy\");"
   ]
  },
  {
   "cell_type": "markdown",
   "metadata": {},
   "source": [
    "## Evaluation"
   ]
  },
  {
   "cell_type": "markdown",
   "metadata": {},
   "source": [
    "Predicting both train and test sets to evaluate model"
   ]
  },
  {
   "cell_type": "code",
   "execution_count": 146,
   "metadata": {},
   "outputs": [],
   "source": [
    "preds_test = model.predict(X_test)\n",
    "preds_train = model.predict(X_train)"
   ]
  },
  {
   "cell_type": "markdown",
   "metadata": {},
   "source": [
    "Cast back from OHE to labels"
   ]
  },
  {
   "cell_type": "code",
   "execution_count": 147,
   "metadata": {},
   "outputs": [],
   "source": [
    "y_train = np.argmax(y_train, axis=1)\n",
    "y_test = np.argmax(y_test, axis=1)\n",
    "\n",
    "preds_train = np.argmax(preds_train, axis=1)\n",
    "preds_test = np.argmax(preds_test, axis=1)"
   ]
  },
  {
   "cell_type": "markdown",
   "metadata": {},
   "source": [
    "Accuracy scores"
   ]
  },
  {
   "cell_type": "code",
   "execution_count": 148,
   "metadata": {},
   "outputs": [
    {
     "name": "stdout",
     "output_type": "stream",
     "text": [
      "Train accuracy: 0.95\n",
      "Test accuracy: 0.967\n"
     ]
    }
   ],
   "source": [
    "print(\"Train accuracy:\", np.round(accuracy_score(y_train, preds_train), 3))\n",
    "print(\"Test accuracy:\", np.round(accuracy_score(y_test, preds_test), 3))"
   ]
  },
  {
   "cell_type": "code",
   "execution_count": 149,
   "metadata": {},
   "outputs": [
    {
     "data": {
      "text/html": [
       "<div>\n",
       "<style scoped>\n",
       "    .dataframe tbody tr th:only-of-type {\n",
       "        vertical-align: middle;\n",
       "    }\n",
       "\n",
       "    .dataframe tbody tr th {\n",
       "        vertical-align: top;\n",
       "    }\n",
       "\n",
       "    .dataframe thead th {\n",
       "        text-align: right;\n",
       "    }\n",
       "</style>\n",
       "<table border=\"1\" class=\"dataframe\">\n",
       "  <thead>\n",
       "    <tr style=\"text-align: right;\">\n",
       "      <th></th>\n",
       "      <th>Accuracy Train</th>\n",
       "      <th>Accuracy Test</th>\n",
       "    </tr>\n",
       "  </thead>\n",
       "  <tbody>\n",
       "    <tr>\n",
       "      <th>SKLearn LR</th>\n",
       "      <td>0.975</td>\n",
       "      <td>1.0</td>\n",
       "    </tr>\n",
       "    <tr>\n",
       "      <th>Keras LR</th>\n",
       "      <td>0.933</td>\n",
       "      <td>0.9</td>\n",
       "    </tr>\n",
       "  </tbody>\n",
       "</table>\n",
       "</div>"
      ],
      "text/plain": [
       "            Accuracy Train  Accuracy Test\n",
       "SKLearn LR           0.975            1.0\n",
       "Keras LR             0.933            0.9"
      ]
     },
     "execution_count": 149,
     "metadata": {},
     "output_type": "execute_result"
    }
   ],
   "source": [
    "results"
   ]
  },
  {
   "cell_type": "code",
   "execution_count": 151,
   "metadata": {},
   "outputs": [],
   "source": [
    "results = results.append(pd.DataFrame(\n",
    "        [[np.round(accuracy_score(y_train, preds_train), 3), np.round(accuracy_score(y_test, preds_test), 3)]], \n",
    "        columns=[\"Accuracy Train\", \"Accuracy Test\"], \n",
    "        index=[\"Keras LR Functional API\"]))"
   ]
  },
  {
   "cell_type": "code",
   "execution_count": 152,
   "metadata": {},
   "outputs": [
    {
     "data": {
      "text/html": [
       "<div>\n",
       "<style scoped>\n",
       "    .dataframe tbody tr th:only-of-type {\n",
       "        vertical-align: middle;\n",
       "    }\n",
       "\n",
       "    .dataframe tbody tr th {\n",
       "        vertical-align: top;\n",
       "    }\n",
       "\n",
       "    .dataframe thead th {\n",
       "        text-align: right;\n",
       "    }\n",
       "</style>\n",
       "<table border=\"1\" class=\"dataframe\">\n",
       "  <thead>\n",
       "    <tr style=\"text-align: right;\">\n",
       "      <th></th>\n",
       "      <th>Accuracy Train</th>\n",
       "      <th>Accuracy Test</th>\n",
       "    </tr>\n",
       "  </thead>\n",
       "  <tbody>\n",
       "    <tr>\n",
       "      <th>SKLearn LR</th>\n",
       "      <td>0.975</td>\n",
       "      <td>1.000</td>\n",
       "    </tr>\n",
       "    <tr>\n",
       "      <th>Keras LR</th>\n",
       "      <td>0.933</td>\n",
       "      <td>0.900</td>\n",
       "    </tr>\n",
       "    <tr>\n",
       "      <th>Keras LR</th>\n",
       "      <td>0.950</td>\n",
       "      <td>0.967</td>\n",
       "    </tr>\n",
       "    <tr>\n",
       "      <th>Keras LR Functional API</th>\n",
       "      <td>0.950</td>\n",
       "      <td>0.967</td>\n",
       "    </tr>\n",
       "  </tbody>\n",
       "</table>\n",
       "</div>"
      ],
      "text/plain": [
       "                         Accuracy Train  Accuracy Test\n",
       "SKLearn LR                        0.975          1.000\n",
       "Keras LR                          0.933          0.900\n",
       "Keras LR                          0.950          0.967\n",
       "Keras LR Functional API           0.950          0.967"
      ]
     },
     "execution_count": 152,
     "metadata": {},
     "output_type": "execute_result"
    }
   ],
   "source": [
    "results"
   ]
  },
  {
   "cell_type": "markdown",
   "metadata": {},
   "source": [
    "Confusion matrices"
   ]
  },
  {
   "cell_type": "code",
   "execution_count": 137,
   "metadata": {},
   "outputs": [],
   "source": [
    "cm_train = confusion_matrix(y_train, preds_train).astype(np.float32)\n",
    "cm_train /= cm_train.sum(axis=1)[:, np.newaxis]\n",
    "\n",
    "cm_test = confusion_matrix(y_test, preds_test).astype(np.float32)\n",
    "cm_test /= cm_test.sum(axis=1)[:, np.newaxis]"
   ]
  },
  {
   "cell_type": "markdown",
   "metadata": {},
   "source": [
    "Visualize them"
   ]
  },
  {
   "cell_type": "code",
   "execution_count": 138,
   "metadata": {},
   "outputs": [
    {
     "data": {
      "image/png": "[encoded data removed]",
      "text/plain": [
       "<Figure size 1440x576 with 4 Axes>"
      ]
     },
     "metadata": {},
     "output_type": "display_data"
    }
   ],
   "source": [
    "plt.figure(figsize=(20, 8))\n",
    "\n",
    "plt.subplot(121)\n",
    "g = sns.heatmap(cm_train, vmin=0, vmax=1, annot=True, cmap=\"Reds\")\n",
    "plt.xlabel(\"Predicted\", fontsize=14)\n",
    "plt.ylabel(\"True\", fontsize=14)\n",
    "g.set(xticklabels=class_labels, yticklabels=class_labels)\n",
    "plt.title(\"Train\", fontsize=14)\n",
    "\n",
    "plt.subplot(122)\n",
    "g = sns.heatmap(cm_test, vmin=0, vmax=1, annot=True, cmap=\"Reds\")\n",
    "plt.xlabel(\"Predicted\", fontsize=14)\n",
    "plt.ylabel(\"True\", fontsize=14)\n",
    "g.set(xticklabels=class_labels, yticklabels=class_labels)\n",
    "plt.title(\"Test\", fontsize=14);"
   ]
  },
  {
   "cell_type": "markdown",
   "metadata": {},
   "source": [
    "# Keras MLP (TASK)"
   ]
  },
  {
   "cell_type": "markdown",
   "metadata": {},
   "source": [
    "Iris dataset has 4 features per sample. Thus we have 4 units in the input layer. Our problem has 3 classes and therefore we should have 3 output units.\n",
    "\n",
    "Now let's add one more hidden layer with $20$ unit between input and output and $\\text{tanh}$ activation function.\n",
    "\n",
    "The syntax is the following (Keras API):\n",
    "\n",
    "$\\text{<name> = <Layer>(<args>)(<name of layer to connect to>)}$"
   ]
  },
  {
   "cell_type": "code",
   "execution_count": 27,
   "metadata": {},
   "outputs": [],
   "source": [
    "inp = Input(shape=(4,))\n",
    "# add Dense layer called \"hidden\" with 20 neurons and \"relu\" activation and connect it to the \"inp\" layer\n",
    "hidden = Dense(20, activation=\"relu\")(inp)\n",
    "out = Dense(3, activation=\"softmax\")(hidden)"
   ]
  },
  {
   "cell_type": "markdown",
   "metadata": {},
   "source": [
    "MLP"
   ]
  },
  {
   "cell_type": "code",
   "execution_count": 28,
   "metadata": {},
   "outputs": [],
   "source": [
    "model = Model(inputs=[inp], outputs=[out])\n",
    "model.compile(loss=\"categorical_crossentropy\", optimizer=\"adam\", metrics=[\"accuracy\"])"
   ]
  },
  {
   "cell_type": "markdown",
   "metadata": {},
   "source": [
    "Model description"
   ]
  },
  {
   "cell_type": "code",
   "execution_count": 29,
   "metadata": {},
   "outputs": [
    {
     "name": "stdout",
     "output_type": "stream",
     "text": [
      "_________________________________________________________________\n",
      "Layer (type)                 Output Shape              Param #   \n",
      "=================================================================\n",
      "input_2 (InputLayer)         (None, 4)                 0         \n",
      "_________________________________________________________________\n",
      "dense_2 (Dense)              (None, 20)                100       \n",
      "_________________________________________________________________\n",
      "dense_3 (Dense)              (None, 3)                 63        \n",
      "=================================================================\n",
      "Total params: 163\n",
      "Trainable params: 163\n",
      "Non-trainable params: 0\n",
      "_________________________________________________________________\n"
     ]
    }
   ],
   "source": [
    "model.summary()"
   ]
  },
  {
   "cell_type": "code",
   "execution_count": 30,
   "metadata": {},
   "outputs": [
    {
     "data": {
      "image/svg+xml": [
       "<svg height=\"232pt\" viewBox=\"0.00 0.00 261.68 231.80\" width=\"262pt\" xmlns=\"http://www.w3.org/2000/svg\" xmlns:xlink=\"http://www.w3.org/1999/xlink\">\n",
       "<g class=\"graph\" id=\"graph0\" transform=\"scale(1 1) rotate(0) translate(4 227.8)\">\n",
       "<title>G</title>\n",
       "<polygon fill=\"#ffffff\" points=\"-4,4 -4,-227.8 257.6796,-227.8 257.6796,4 -4,4\" stroke=\"transparent\"/>\n",
       "<!-- 139860914920864 -->\n",
       "<g class=\"node\" id=\"node1\">\n",
       "<title>139860914920864</title>\n",
       "<polygon fill=\"none\" points=\"0,-173.7 0,-223.3 253.6796,-223.3 253.6796,-173.7 0,-173.7\" stroke=\"#000000\"/>\n",
       "<text fill=\"#000000\" font-family=\"Times,serif\" font-size=\"14.00\" text-anchor=\"middle\" x=\"64.1827\" y=\"-194.3\">input_2: InputLayer</text>\n",
       "<polyline fill=\"none\" points=\"128.3654,-173.7 128.3654,-223.3 \" stroke=\"#000000\"/>\n",
       "<text fill=\"#000000\" font-family=\"Times,serif\" font-size=\"14.00\" text-anchor=\"middle\" x=\"156.2013\" y=\"-206.7\">input:</text>\n",
       "<polyline fill=\"none\" points=\"128.3654,-198.5 184.0372,-198.5 \" stroke=\"#000000\"/>\n",
       "<text fill=\"#000000\" font-family=\"Times,serif\" font-size=\"14.00\" text-anchor=\"middle\" x=\"156.2013\" y=\"-181.9\">output:</text>\n",
       "<polyline fill=\"none\" points=\"184.0372,-173.7 184.0372,-223.3 \" stroke=\"#000000\"/>\n",
       "<text fill=\"#000000\" font-family=\"Times,serif\" font-size=\"14.00\" text-anchor=\"middle\" x=\"218.8584\" y=\"-206.7\">(None, 4)</text>\n",
       "<polyline fill=\"none\" points=\"184.0372,-198.5 253.6796,-198.5 \" stroke=\"#000000\"/>\n",
       "<text fill=\"#000000\" font-family=\"Times,serif\" font-size=\"14.00\" text-anchor=\"middle\" x=\"218.8584\" y=\"-181.9\">(None, 4)</text>\n",
       "</g>\n",
       "<!-- 139860914920808 -->\n",
       "<g class=\"node\" id=\"node2\">\n",
       "<title>139860914920808</title>\n",
       "<polygon fill=\"none\" points=\"8.5603,-87.1 8.5603,-136.7 245.1193,-136.7 245.1193,-87.1 8.5603,-87.1\" stroke=\"#000000\"/>\n",
       "<text fill=\"#000000\" font-family=\"Times,serif\" font-size=\"14.00\" text-anchor=\"middle\" x=\"60.6827\" y=\"-107.7\">dense_2: Dense</text>\n",
       "<polyline fill=\"none\" points=\"112.8051,-87.1 112.8051,-136.7 \" stroke=\"#000000\"/>\n",
       "<text fill=\"#000000\" font-family=\"Times,serif\" font-size=\"14.00\" text-anchor=\"middle\" x=\"140.641\" y=\"-120.1\">input:</text>\n",
       "<polyline fill=\"none\" points=\"112.8051,-111.9 168.4769,-111.9 \" stroke=\"#000000\"/>\n",
       "<text fill=\"#000000\" font-family=\"Times,serif\" font-size=\"14.00\" text-anchor=\"middle\" x=\"140.641\" y=\"-95.3\">output:</text>\n",
       "<polyline fill=\"none\" points=\"168.4769,-87.1 168.4769,-136.7 \" stroke=\"#000000\"/>\n",
       "<text fill=\"#000000\" font-family=\"Times,serif\" font-size=\"14.00\" text-anchor=\"middle\" x=\"206.2981\" y=\"-120.1\">(None, 4)</text>\n",
       "<polyline fill=\"none\" points=\"168.4769,-111.9 245.1193,-111.9 \" stroke=\"#000000\"/>\n",
       "<text fill=\"#000000\" font-family=\"Times,serif\" font-size=\"14.00\" text-anchor=\"middle\" x=\"206.7981\" y=\"-95.3\">(None, 20)</text>\n",
       "</g>\n",
       "<!-- 139860914920864&#45;&gt;139860914920808 -->\n",
       "<g class=\"edge\" id=\"edge1\">\n",
       "<title>139860914920864-&gt;139860914920808</title>\n",
       "<path d=\"M126.8398,-173.4517C126.8398,-165.1937 126.8398,-155.8517 126.8398,-146.9864\" fill=\"none\" stroke=\"#000000\"/>\n",
       "<polygon fill=\"#000000\" points=\"130.3399,-146.892 126.8398,-136.892 123.3399,-146.892 130.3399,-146.892\" stroke=\"#000000\"/>\n",
       "</g>\n",
       "<!-- 139860914566312 -->\n",
       "<g class=\"node\" id=\"node3\">\n",
       "<title>139860914566312</title>\n",
       "<polygon fill=\"none\" points=\"8.5603,-.5 8.5603,-50.1 245.1193,-50.1 245.1193,-.5 8.5603,-.5\" stroke=\"#000000\"/>\n",
       "<text fill=\"#000000\" font-family=\"Times,serif\" font-size=\"14.00\" text-anchor=\"middle\" x=\"60.6827\" y=\"-21.1\">dense_3: Dense</text>\n",
       "<polyline fill=\"none\" points=\"112.8051,-.5 112.8051,-50.1 \" stroke=\"#000000\"/>\n",
       "<text fill=\"#000000\" font-family=\"Times,serif\" font-size=\"14.00\" text-anchor=\"middle\" x=\"140.641\" y=\"-33.5\">input:</text>\n",
       "<polyline fill=\"none\" points=\"112.8051,-25.3 168.4769,-25.3 \" stroke=\"#000000\"/>\n",
       "<text fill=\"#000000\" font-family=\"Times,serif\" font-size=\"14.00\" text-anchor=\"middle\" x=\"140.641\" y=\"-8.7\">output:</text>\n",
       "<polyline fill=\"none\" points=\"168.4769,-.5 168.4769,-50.1 \" stroke=\"#000000\"/>\n",
       "<text fill=\"#000000\" font-family=\"Times,serif\" font-size=\"14.00\" text-anchor=\"middle\" x=\"206.7981\" y=\"-33.5\">(None, 20)</text>\n",
       "<polyline fill=\"none\" points=\"168.4769,-25.3 245.1193,-25.3 \" stroke=\"#000000\"/>\n",
       "<text fill=\"#000000\" font-family=\"Times,serif\" font-size=\"14.00\" text-anchor=\"middle\" x=\"206.2981\" y=\"-8.7\">(None, 3)</text>\n",
       "</g>\n",
       "<!-- 139860914920808&#45;&gt;139860914566312 -->\n",
       "<g class=\"edge\" id=\"edge2\">\n",
       "<title>139860914920808-&gt;139860914566312</title>\n",
       "<path d=\"M126.8398,-86.8517C126.8398,-78.5937 126.8398,-69.2517 126.8398,-60.3864\" fill=\"none\" stroke=\"#000000\"/>\n",
       "<polygon fill=\"#000000\" points=\"130.3399,-60.292 126.8398,-50.292 123.3399,-60.292 130.3399,-60.292\" stroke=\"#000000\"/>\n",
       "</g>\n",
       "</g>\n",
       "</svg>"
      ],
      "text/plain": [
       "<IPython.core.display.SVG object>"
      ]
     },
     "metadata": {},
     "output_type": "display_data"
    }
   ],
   "source": [
    "arch_pic = SVG(model_to_dot(model, show_shapes=True).create(prog='dot', format='svg'))\n",
    "display(arch_pic)"
   ]
  },
  {
   "cell_type": "markdown",
   "metadata": {},
   "source": [
    "Split into train and test set"
   ]
  },
  {
   "cell_type": "code",
   "execution_count": 31,
   "metadata": {},
   "outputs": [],
   "source": [
    "X_train, X_test, y_train, y_test = train_test_split(X.values, label_binarize(y, classes=[0, 1, 2]), \n",
    "                                                    test_size=0.2, random_state=42)"
   ]
  },
  {
   "cell_type": "markdown",
   "metadata": {},
   "source": [
    "## Fitting"
   ]
  },
  {
   "cell_type": "code",
   "execution_count": 32,
   "metadata": {},
   "outputs": [
    {
     "name": "stdout",
     "output_type": "stream",
     "text": [
      "CPU times: user 7.06 s, sys: 9.17 s, total: 16.2 s\n",
      "Wall time: 5.45 s\n"
     ]
    }
   ],
   "source": [
    "%%time\n",
    "hist = model.fit(X_train, y_train, \n",
    "                 validation_data=(X_test, y_test), \n",
    "                 epochs=500, verbose=0)"
   ]
  },
  {
   "cell_type": "markdown",
   "metadata": {},
   "source": [
    "Accuracy evolution during training"
   ]
  },
  {
   "cell_type": "code",
   "execution_count": 33,
   "metadata": {},
   "outputs": [
    {
     "data": {
      "image/png": "[encoded data removed]",
      "text/plain": [
       "<Figure size 1440x576 with 2 Axes>"
      ]
     },
     "metadata": {},
     "output_type": "display_data"
    }
   ],
   "source": [
    "plt.figure(figsize=(20, 8))\n",
    "plt.suptitle(\"Keras Logistic Regression\")\n",
    "plt.subplot(121)\n",
    "plt.plot(hist.history[\"loss\"], label=\"Train\")\n",
    "plt.plot(hist.history[\"val_loss\"], label=\"Test\")\n",
    "plt.legend(frameon=\"True\", loc=\"upper left\")\n",
    "plt.xlabel(\"Epoch\")\n",
    "plt.ylabel(\"Loss\")\n",
    "plt.subplot(122)\n",
    "plt.plot(hist.history[\"acc\"], label=\"Train\")\n",
    "plt.plot(hist.history[\"val_acc\"], label=\"Test\")\n",
    "plt.legend(frameon=\"True\", loc=\"upper left\")\n",
    "plt.xlabel(\"Epoch\")\n",
    "plt.ylabel(\"Accuracy\");"
   ]
  },
  {
   "cell_type": "markdown",
   "metadata": {},
   "source": [
    "## Insight into network weights"
   ]
  },
  {
   "cell_type": "markdown",
   "metadata": {},
   "source": [
    "Let's look how weights look like"
   ]
  },
  {
   "cell_type": "code",
   "execution_count": 34,
   "metadata": {},
   "outputs": [],
   "source": [
    "weigths = model.get_weights()"
   ]
  },
  {
   "cell_type": "markdown",
   "metadata": {},
   "source": [
    "We have the following number of parameter matrices"
   ]
  },
  {
   "cell_type": "code",
   "execution_count": 35,
   "metadata": {},
   "outputs": [
    {
     "data": {
      "text/plain": [
       "4"
      ]
     },
     "execution_count": 35,
     "metadata": {},
     "output_type": "execute_result"
    }
   ],
   "source": [
    "len(weigths)"
   ]
  },
  {
   "cell_type": "markdown",
   "metadata": {},
   "source": [
    "They are:\n",
    "* $\\text{weigths[0]} = \\text{W}^{1}$ is a weight matrix between input and hidden layer; should have $(4;20)$ shape because we have dimension of input 4 and hidden dimension 20\n",
    "* $\\text{weigths[1]} = \\mathbf{b}^{1}$ is a bias vector for hidden layer; should have $(20,)$ shape because we have 20 as a  dimension of a hidden layer\n",
    "* $\\text{weigths[2]} = \\text{W}^{2}$ is a weight matrix between hidden and output layer; should have $(20; 3)$ shape because we have hidden dimension 20 and dimension of output 3\n",
    "* $\\text{weigths[3]} = \\mathbf{b}^{2}$ is a bias vector for output layer; should have $(3,)$ shape because we have 3 as an output dimension"
   ]
  },
  {
   "cell_type": "code",
   "execution_count": 36,
   "metadata": {},
   "outputs": [
    {
     "name": "stdout",
     "output_type": "stream",
     "text": [
      "(4, 20)\n",
      "(20,)\n",
      "(20, 3)\n",
      "(3,)\n"
     ]
    }
   ],
   "source": [
    "print(weigths[0].shape)\n",
    "print(weigths[1].shape)\n",
    "print(weigths[2].shape)\n",
    "print(weigths[3].shape)"
   ]
  },
  {
   "cell_type": "markdown",
   "metadata": {},
   "source": [
    "Example of weight matrix and bias vector"
   ]
  },
  {
   "cell_type": "code",
   "execution_count": 37,
   "metadata": {},
   "outputs": [
    {
     "name": "stdout",
     "output_type": "stream",
     "text": [
      "W^1:\n",
      "[[-0.3315072   0.55916023  0.1119839  -0.31466293  0.14344098  0.24295385\n",
      "  -0.26802886 -0.31907737 -0.16886687  0.64102477 -0.1311084  -0.22562766\n",
      "  -0.39465082  0.29668638 -0.38079032  0.4624085   0.05934906 -0.12228438\n",
      "  -0.08088009 -0.4338343 ]\n",
      " [-0.16312099  0.39187008 -0.1032449   0.20457315 -0.15975925 -0.750241\n",
      "  -0.3648317  -0.11682165 -0.23350203  0.53720766  0.20001769  0.22068405\n",
      "   0.2345674  -0.7343571  -0.25579706  0.6955055   0.668377   -0.12099181\n",
      "  -0.10472859 -0.28781104]\n",
      " [ 0.10028577 -0.36603987 -0.27574492 -0.17580795 -0.22801997  0.91597474\n",
      "   0.4498365  -0.4012617   0.3061167  -0.61560583 -0.493783   -0.1148777\n",
      "  -0.32339597  0.7642896   0.57608163 -0.5170718   0.10566019  0.7325139\n",
      "   0.4565086  -0.17384148]\n",
      " [-0.11678874 -0.38650173 -0.06446838  0.37421143  0.13194092  1.1989498\n",
      "  -0.39984286 -0.33082616 -0.3919984  -0.6303798  -0.18035805  0.20892334\n",
      "  -0.14652514  0.94848686  0.897124   -0.9548156  -0.19486621  1.0679363\n",
      "   0.9210948  -0.48018408]]\n",
      "\n",
      "b^1:\n",
      "[ 0.          0.5344133   0.          0.         -0.02497602 -0.37541866\n",
      "  0.          0.          0.          0.48989218  0.          0.\n",
      "  0.         -0.35217658 -0.4737161   0.5983914   0.39654848 -0.38830534\n",
      " -0.42833704  0.        ]\n"
     ]
    }
   ],
   "source": [
    "print(\"W^1:\")\n",
    "print(weigths[0])\n",
    "print(\"\\nb^1:\")\n",
    "print(weigths[1])"
   ]
  },
  {
   "cell_type": "markdown",
   "metadata": {},
   "source": [
    "## Evaluation"
   ]
  },
  {
   "cell_type": "markdown",
   "metadata": {},
   "source": [
    "Predicting both train and test sets to evaluate model"
   ]
  },
  {
   "cell_type": "code",
   "execution_count": 38,
   "metadata": {},
   "outputs": [],
   "source": [
    "preds_test = model.predict(X_test)\n",
    "preds_train = model.predict(X_train)"
   ]
  },
  {
   "cell_type": "markdown",
   "metadata": {},
   "source": [
    "Cast back from OHE to labels"
   ]
  },
  {
   "cell_type": "code",
   "execution_count": 39,
   "metadata": {},
   "outputs": [],
   "source": [
    "y_train = np.argmax(y_train, axis=1)\n",
    "y_test = np.argmax(y_test, axis=1)\n",
    "\n",
    "preds_train = np.argmax(preds_train, axis=1)\n",
    "preds_test = np.argmax(preds_test, axis=1)"
   ]
  },
  {
   "cell_type": "markdown",
   "metadata": {},
   "source": [
    "Accuracy scores"
   ]
  },
  {
   "cell_type": "code",
   "execution_count": 40,
   "metadata": {},
   "outputs": [
    {
     "name": "stdout",
     "output_type": "stream",
     "text": [
      "Train accuracy: 0.967\n",
      "Test accuracy: 1.0\n"
     ]
    }
   ],
   "source": [
    "print(\"Train accuracy:\", np.round(accuracy_score(y_train, preds_train), 3))\n",
    "print(\"Test accuracy:\", np.round(accuracy_score(y_test, preds_test), 3))"
   ]
  },
  {
   "cell_type": "code",
   "execution_count": 41,
   "metadata": {},
   "outputs": [],
   "source": [
    "results = results.append(pd.DataFrame(\n",
    "        [np.round(accuracy_score(y_train, preds_train), 3), np.round(accuracy_score(y_test, preds_test), 3)], \n",
    "        columns=[\"Accuracy\"], \n",
    "        index=[\"Keras MLP Train\", \"Keras MLP Test\"]))"
   ]
  },
  {
   "cell_type": "code",
   "execution_count": 42,
   "metadata": {},
   "outputs": [
    {
     "data": {
      "text/html": [
       "<div>\n",
       "<style scoped>\n",
       "    .dataframe tbody tr th:only-of-type {\n",
       "        vertical-align: middle;\n",
       "    }\n",
       "\n",
       "    .dataframe tbody tr th {\n",
       "        vertical-align: top;\n",
       "    }\n",
       "\n",
       "    .dataframe thead th {\n",
       "        text-align: right;\n",
       "    }\n",
       "</style>\n",
       "<table border=\"1\" class=\"dataframe\">\n",
       "  <thead>\n",
       "    <tr style=\"text-align: right;\">\n",
       "      <th></th>\n",
       "      <th>Accuracy</th>\n",
       "    </tr>\n",
       "  </thead>\n",
       "  <tbody>\n",
       "    <tr>\n",
       "      <th>Keras LR Train</th>\n",
       "      <td>0.967</td>\n",
       "    </tr>\n",
       "    <tr>\n",
       "      <th>Keras LR Test</th>\n",
       "      <td>1.000</td>\n",
       "    </tr>\n",
       "    <tr>\n",
       "      <th>Keras MLP Train</th>\n",
       "      <td>0.967</td>\n",
       "    </tr>\n",
       "    <tr>\n",
       "      <th>Keras MLP Test</th>\n",
       "      <td>1.000</td>\n",
       "    </tr>\n",
       "  </tbody>\n",
       "</table>\n",
       "</div>"
      ],
      "text/plain": [
       "                 Accuracy\n",
       "Keras LR Train      0.967\n",
       "Keras LR Test       1.000\n",
       "Keras MLP Train     0.967\n",
       "Keras MLP Test      1.000"
      ]
     },
     "execution_count": 42,
     "metadata": {},
     "output_type": "execute_result"
    }
   ],
   "source": [
    "results"
   ]
  },
  {
   "cell_type": "markdown",
   "metadata": {},
   "source": [
    "Confusion matrices"
   ]
  },
  {
   "cell_type": "code",
   "execution_count": 43,
   "metadata": {},
   "outputs": [],
   "source": [
    "cm_train = confusion_matrix(y_train, preds_train).astype(np.float32)\n",
    "cm_train /= cm_train.sum(axis=1)[:, np.newaxis]\n",
    "\n",
    "cm_test = confusion_matrix(y_test, preds_test).astype(np.float32)\n",
    "cm_test /= cm_test.sum(axis=1)[:, np.newaxis]"
   ]
  },
  {
   "cell_type": "markdown",
   "metadata": {},
   "source": [
    "Visualize them"
   ]
  },
  {
   "cell_type": "code",
   "execution_count": 44,
   "metadata": {},
   "outputs": [
    {
     "data": {
      "image/png": "[encoded data removed]",
      "text/plain": [
       "<Figure size 1440x576 with 4 Axes>"
      ]
     },
     "metadata": {},
     "output_type": "display_data"
    }
   ],
   "source": [
    "plt.figure(figsize=(20, 8))\n",
    "\n",
    "plt.subplot(121)\n",
    "g = sns.heatmap(cm_train, vmin=0, vmax=1, annot=True, cmap=\"Reds\")\n",
    "plt.xlabel(\"Predicted\", fontsize=14)\n",
    "plt.ylabel(\"True\", fontsize=14)\n",
    "g.set(xticklabels=class_labels, yticklabels=class_labels)\n",
    "plt.title(\"Train\", fontsize=14)\n",
    "\n",
    "plt.subplot(122)\n",
    "g = sns.heatmap(cm_test, vmin=0, vmax=1, annot=True, cmap=\"Reds\")\n",
    "plt.xlabel(\"Predicted\", fontsize=14)\n",
    "plt.ylabel(\"True\", fontsize=14)\n",
    "g.set(xticklabels=class_labels, yticklabels=class_labels)\n",
    "plt.title(\"Test\", fontsize=14);"
   ]
  },
  {
   "cell_type": "markdown",
   "metadata": {},
   "source": [
    "# Comparison"
   ]
  },
  {
   "cell_type": "code",
   "execution_count": 45,
   "metadata": {},
   "outputs": [
    {
     "data": {
      "text/html": [
       "<div>\n",
       "<style scoped>\n",
       "    .dataframe tbody tr th:only-of-type {\n",
       "        vertical-align: middle;\n",
       "    }\n",
       "\n",
       "    .dataframe tbody tr th {\n",
       "        vertical-align: top;\n",
       "    }\n",
       "\n",
       "    .dataframe thead th {\n",
       "        text-align: right;\n",
       "    }\n",
       "</style>\n",
       "<table border=\"1\" class=\"dataframe\">\n",
       "  <thead>\n",
       "    <tr style=\"text-align: right;\">\n",
       "      <th></th>\n",
       "      <th>Accuracy</th>\n",
       "    </tr>\n",
       "  </thead>\n",
       "  <tbody>\n",
       "    <tr>\n",
       "      <th>Keras LR Train</th>\n",
       "      <td>0.967</td>\n",
       "    </tr>\n",
       "    <tr>\n",
       "      <th>Keras LR Test</th>\n",
       "      <td>1.000</td>\n",
       "    </tr>\n",
       "    <tr>\n",
       "      <th>Keras MLP Train</th>\n",
       "      <td>0.967</td>\n",
       "    </tr>\n",
       "    <tr>\n",
       "      <th>Keras MLP Test</th>\n",
       "      <td>1.000</td>\n",
       "    </tr>\n",
       "  </tbody>\n",
       "</table>\n",
       "</div>"
      ],
      "text/plain": [
       "                 Accuracy\n",
       "Keras LR Train      0.967\n",
       "Keras LR Test       1.000\n",
       "Keras MLP Train     0.967\n",
       "Keras MLP Test      1.000"
      ]
     },
     "execution_count": 45,
     "metadata": {},
     "output_type": "execute_result"
    }
   ],
   "source": [
    "results"
   ]
  },
  {
   "cell_type": "code",
   "execution_count": null,
   "metadata": {},
   "outputs": [],
   "source": []
  }
 ],
 "metadata": {
  "anaconda-cloud": {},
  "kernelspec": {
   "display_name": "Python 3",
   "language": "python",
   "name": "python3"
  },
  "language_info": {
   "codemirror_mode": {
    "name": "ipython",
    "version": 3
   },
   "file_extension": ".py",
   "mimetype": "text/x-python",
   "name": "python",
   "nbconvert_exporter": "python",
   "pygments_lexer": "ipython3",
   "version": "3.6.5"
  },
  "toc": {
   "base_numbering": 1,
   "nav_menu": {
    "height": "300px",
    "width": "252px"
   },
   "number_sections": true,
   "sideBar": true,
   "skip_h1_title": false,
   "title_cell": "Table of Contents",
   "title_sidebar": "Contents",
   "toc_cell": true,
   "toc_position": {
    "height": "704px",
    "left": "0px",
    "right": "1388px",
    "top": "106px",
    "width": "212px"
   },
   "toc_section_display": "block",
   "toc_window_display": true
  },
  "varInspector": {
   "cols": {
    "lenName": 16,
    "lenType": 16,
    "lenVar": 40
   },
   "kernels_config": {
    "python": {
     "delete_cmd_postfix": "",
     "delete_cmd_prefix": "del ",
     "library": "var_list.py",
     "varRefreshCmd": "print(var_dic_list())"
    },
    "r": {
     "delete_cmd_postfix": ") ",
     "delete_cmd_prefix": "rm(",
     "library": "var_list.r",
     "varRefreshCmd": "cat(var_dic_list()) "
    }
   },
   "types_to_exclude": [
    "module",
    "function",
    "builtin_function_or_method",
    "instance",
    "_Feature"
   ],
   "window_display": false
  }
 },
 "nbformat": 4,
 "nbformat_minor": 2
}
