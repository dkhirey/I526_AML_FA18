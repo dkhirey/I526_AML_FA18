{
 "cells": [
  {
   "cell_type": "markdown",
   "metadata": {
    "toc": "true"
   },
   "source": [
    "<h1>Table of Contents<span class=\"tocSkip\"></span></h1>\n",
    "<div class=\"toc\"><ul class=\"toc-item\"><li><span><a href=\"#Boston-House-Prices\" data-toc-modified-id=\"Boston-House-Prices-1\"><span class=\"toc-item-num\">1&nbsp;&nbsp;</span>Boston House Prices</a></span></li><li><span><a href=\"#Preparation\" data-toc-modified-id=\"Preparation-2\"><span class=\"toc-item-num\">2&nbsp;&nbsp;</span>Preparation</a></span></li><li><span><a href=\"#Reading-data\" data-toc-modified-id=\"Reading-data-3\"><span class=\"toc-item-num\">3&nbsp;&nbsp;</span>Reading data</a></span></li><li><span><a href=\"#Data-preprocessing\" data-toc-modified-id=\"Data-preprocessing-4\"><span class=\"toc-item-num\">4&nbsp;&nbsp;</span>Data preprocessing</a></span><ul class=\"toc-item\"><li><span><a href=\"#Splitting\" data-toc-modified-id=\"Splitting-4.1\"><span class=\"toc-item-num\">4.1&nbsp;&nbsp;</span>Splitting</a></span></li><li><span><a href=\"#Scaling\" data-toc-modified-id=\"Scaling-4.2\"><span class=\"toc-item-num\">4.2&nbsp;&nbsp;</span>Scaling</a></span></li></ul></li><li><span><a href=\"#Evaluation-tool\" data-toc-modified-id=\"Evaluation-tool-5\"><span class=\"toc-item-num\">5&nbsp;&nbsp;</span>Evaluation tool</a></span></li><li><span><a href=\"#Keras-Linear-Regression\" data-toc-modified-id=\"Keras-Linear-Regression-6\"><span class=\"toc-item-num\">6&nbsp;&nbsp;</span>Keras Linear Regression</a></span><ul class=\"toc-item\"><li><span><a href=\"#Linear-REGRESSION-via-Keras-sequential-API\" data-toc-modified-id=\"Linear-REGRESSION-via-Keras-sequential-API-6.1\"><span class=\"toc-item-num\">6.1&nbsp;&nbsp;</span>Linear REGRESSION via Keras sequential API</a></span></li><li><span><a href=\"#Linear-REGRESSION-via-Keras-functional-API\" data-toc-modified-id=\"Linear-REGRESSION-via-Keras-functional-API-6.2\"><span class=\"toc-item-num\">6.2&nbsp;&nbsp;</span>Linear REGRESSION via Keras functional API</a></span></li><li><span><a href=\"#Fitting\" data-toc-modified-id=\"Fitting-6.3\"><span class=\"toc-item-num\">6.3&nbsp;&nbsp;</span>Fitting</a></span></li><li><span><a href=\"#Evaluation\" data-toc-modified-id=\"Evaluation-6.4\"><span class=\"toc-item-num\">6.4&nbsp;&nbsp;</span>Evaluation</a></span></li></ul></li><li><span><a href=\"#Keras-MLP-(TASK)\" data-toc-modified-id=\"Keras-MLP-(TASK)-7\"><span class=\"toc-item-num\">7&nbsp;&nbsp;</span>Keras MLP (TASK)</a></span><ul class=\"toc-item\"><li><span><a href=\"#Fitting\" data-toc-modified-id=\"Fitting-7.1\"><span class=\"toc-item-num\">7.1&nbsp;&nbsp;</span>Fitting</a></span></li><li><span><a href=\"#Insight-into-network-weights\" data-toc-modified-id=\"Insight-into-network-weights-7.2\"><span class=\"toc-item-num\">7.2&nbsp;&nbsp;</span>Insight into network weights</a></span></li><li><span><a href=\"#Evaluation\" data-toc-modified-id=\"Evaluation-7.3\"><span class=\"toc-item-num\">7.3&nbsp;&nbsp;</span>Evaluation</a></span></li></ul></li></ul></div>"
   ]
  },
  {
   "cell_type": "markdown",
   "metadata": {},
   "source": [
    "# Boston House Prices"
   ]
  },
  {
   "cell_type": "markdown",
   "metadata": {},
   "source": [
    "In this notebook we're going to build a basic predictive regression model for estimating the house prices in thousands of $ given some housing factors such as crime rate in neighborhood, number of schools % lower status of the population etc."
   ]
  },
  {
   "cell_type": "markdown",
   "metadata": {},
   "source": [
    "# Preparation"
   ]
  },
  {
   "cell_type": "markdown",
   "metadata": {},
   "source": [
    "Import required libraries"
   ]
  },
  {
   "cell_type": "code",
   "execution_count": 1,
   "metadata": {
    "ExecuteTime": {
     "end_time": "2018-11-28T22:34:11.038210Z",
     "start_time": "2018-11-28T22:34:11.012701Z"
    }
   },
   "outputs": [
    {
     "name": "stderr",
     "output_type": "stream",
     "text": [
      "/opt/conda/lib/python3.6/site-packages/h5py/__init__.py:36: FutureWarning: Conversion of the second argument of issubdtype from `float` to `np.floating` is deprecated. In future, it will be treated as `np.float64 == np.dtype(float).type`.\n",
      "  from ._conv import register_converters as _register_converters\n",
      "Using TensorFlow backend.\n"
     ]
    }
   ],
   "source": [
    "import numpy as np\n",
    "import pandas as pd\n",
    "\n",
    "from sklearn.datasets import load_boston\n",
    "from sklearn.model_selection import train_test_split\n",
    "from sklearn.preprocessing import MinMaxScaler\n",
    "from sklearn.metrics import mean_absolute_error, mean_squared_error\n",
    "\n",
    "from keras.layers import Dense, Input\n",
    "from keras.models import Model\n",
    "from keras.utils.vis_utils import model_to_dot\n",
    "\n",
    "import matplotlib\n",
    "import matplotlib.pyplot as plt\n",
    "import seaborn as sns\n",
    "\n",
    "%matplotlib inline\n",
    "\n",
    "from IPython.display import SVG, display"
   ]
  },
  {
   "cell_type": "markdown",
   "metadata": {},
   "source": [
    "Set style for plotting"
   ]
  },
  {
   "cell_type": "code",
   "execution_count": 2,
   "metadata": {
    "ExecuteTime": {
     "end_time": "2018-11-28T22:33:18.282879Z",
     "start_time": "2018-11-28T22:33:16.868Z"
    }
   },
   "outputs": [],
   "source": [
    "sns.set(style=\"whitegrid\", font_scale=1.3)\n",
    "matplotlib.rcParams[\"legend.framealpha\"] = 1\n",
    "matplotlib.rcParams[\"legend.frameon\"] = True"
   ]
  },
  {
   "cell_type": "markdown",
   "metadata": {},
   "source": [
    "Fix random seed for reproducibility"
   ]
  },
  {
   "cell_type": "code",
   "execution_count": 3,
   "metadata": {
    "ExecuteTime": {
     "end_time": "2018-11-28T22:33:18.292358Z",
     "start_time": "2018-11-28T22:33:17.864Z"
    }
   },
   "outputs": [],
   "source": [
    "np.random.seed(42)"
   ]
  },
  {
   "cell_type": "markdown",
   "metadata": {},
   "source": [
    "# Reading data"
   ]
  },
  {
   "cell_type": "markdown",
   "metadata": {},
   "source": [
    "Boston dataset is extremely common in machine learning experiments thus it is embedded in sklearn."
   ]
  },
  {
   "cell_type": "code",
   "execution_count": 4,
   "metadata": {
    "ExecuteTime": {
     "end_time": "2018-11-28T22:33:21.414530Z",
     "start_time": "2018-11-28T22:33:21.396288Z"
    }
   },
   "outputs": [],
   "source": [
    "boston = load_boston()"
   ]
  },
  {
   "cell_type": "markdown",
   "metadata": {},
   "source": [
    "Detailed description of dataset and features"
   ]
  },
  {
   "cell_type": "code",
   "execution_count": 5,
   "metadata": {
    "ExecuteTime": {
     "end_time": "2018-11-28T22:33:21.955345Z",
     "start_time": "2018-11-28T22:33:21.951204Z"
    }
   },
   "outputs": [
    {
     "name": "stdout",
     "output_type": "stream",
     "text": [
      "Boston House Prices dataset\n",
      "===========================\n",
      "\n",
      "Notes\n",
      "------\n",
      "Data Set Characteristics:  \n",
      "\n",
      "    :Number of Instances: 506 \n",
      "\n",
      "    :Number of Attributes: 13 numeric/categorical predictive\n",
      "    \n",
      "    :Median Value (attribute 14) is usually the target\n",
      "\n",
      "    :Attribute Information (in order):\n",
      "        - CRIM     per capita crime rate by town\n",
      "        - ZN       proportion of residential land zoned for lots over 25,000 sq.ft.\n",
      "        - INDUS    proportion of non-retail business acres per town\n",
      "        - CHAS     Charles River dummy variable (= 1 if tract bounds river; 0 otherwise)\n",
      "        - NOX      nitric oxides concentration (parts per 10 million)\n",
      "        - RM       average number of rooms per dwelling\n",
      "        - AGE      proportion of owner-occupied units built prior to 1940\n",
      "        - DIS      weighted distances to five Boston employment centres\n",
      "        - RAD      index of accessibility to radial highways\n",
      "        - TAX      full-value property-tax rate per $10,000\n",
      "        - PTRATIO  pupil-teacher ratio by town\n",
      "        - B        1000(Bk - 0.63)^2 where Bk is the proportion of blacks by town\n",
      "        - LSTAT    % lower status of the population\n",
      "        - MEDV     Median value of owner-occupied homes in $1000's\n",
      "\n",
      "    :Missing Attribute Values: None\n",
      "\n",
      "    :Creator: Harrison, D. and Rubinfeld, D.L.\n",
      "\n",
      "This is a copy of UCI ML housing dataset.\n",
      "http://archive.ics.uci.edu/ml/datasets/Housing\n",
      "\n",
      "\n",
      "This dataset was taken from the StatLib library which is maintained at Carnegie Mellon University.\n",
      "\n",
      "The Boston house-price data of Harrison, D. and Rubinfeld, D.L. 'Hedonic\n",
      "prices and the demand for clean air', J. Environ. Economics & Management,\n",
      "vol.5, 81-102, 1978.   Used in Belsley, Kuh & Welsch, 'Regression diagnostics\n",
      "...', Wiley, 1980.   N.B. Various transformations are used in the table on\n",
      "pages 244-261 of the latter.\n",
      "\n",
      "The Boston house-price data has been used in many machine learning papers that address regression\n",
      "problems.   \n",
      "     \n",
      "**References**\n",
      "\n",
      "   - Belsley, Kuh & Welsch, 'Regression diagnostics: Identifying Influential Data and Sources of Collinearity', Wiley, 1980. 244-261.\n",
      "   - Quinlan,R. (1993). Combining Instance-Based and Model-Based Learning. In Proceedings on the Tenth International Conference of Machine Learning, 236-243, University of Massachusetts, Amherst. Morgan Kaufmann.\n",
      "   - many more! (see http://archive.ics.uci.edu/ml/datasets/Housing)\n",
      "\n"
     ]
    }
   ],
   "source": [
    "print(boston.DESCR)"
   ]
  },
  {
   "cell_type": "markdown",
   "metadata": {},
   "source": [
    "Create pandas dataframe with objects in rows and features in columns"
   ]
  },
  {
   "cell_type": "code",
   "execution_count": 6,
   "metadata": {
    "ExecuteTime": {
     "end_time": "2018-11-28T22:33:23.569695Z",
     "start_time": "2018-11-28T22:33:23.559276Z"
    }
   },
   "outputs": [],
   "source": [
    "X = pd.DataFrame(boston.data, columns=boston.feature_names)\n",
    "y = boston.target"
   ]
  },
  {
   "cell_type": "code",
   "execution_count": 7,
   "metadata": {
    "ExecuteTime": {
     "end_time": "2018-11-28T22:33:24.041661Z",
     "start_time": "2018-11-28T22:33:23.996671Z"
    }
   },
   "outputs": [
    {
     "data": {
      "text/html": [
       "<div>\n",
       "<style scoped>\n",
       "    .dataframe tbody tr th:only-of-type {\n",
       "        vertical-align: middle;\n",
       "    }\n",
       "\n",
       "    .dataframe tbody tr th {\n",
       "        vertical-align: top;\n",
       "    }\n",
       "\n",
       "    .dataframe thead th {\n",
       "        text-align: right;\n",
       "    }\n",
       "</style>\n",
       "<table border=\"1\" class=\"dataframe\">\n",
       "  <thead>\n",
       "    <tr style=\"text-align: right;\">\n",
       "      <th></th>\n",
       "      <th>CRIM</th>\n",
       "      <th>ZN</th>\n",
       "      <th>INDUS</th>\n",
       "      <th>CHAS</th>\n",
       "      <th>NOX</th>\n",
       "      <th>RM</th>\n",
       "      <th>AGE</th>\n",
       "      <th>DIS</th>\n",
       "      <th>RAD</th>\n",
       "      <th>TAX</th>\n",
       "      <th>PTRATIO</th>\n",
       "      <th>B</th>\n",
       "      <th>LSTAT</th>\n",
       "    </tr>\n",
       "  </thead>\n",
       "  <tbody>\n",
       "    <tr>\n",
       "      <th>0</th>\n",
       "      <td>0.00632</td>\n",
       "      <td>18.0</td>\n",
       "      <td>2.31</td>\n",
       "      <td>0.0</td>\n",
       "      <td>0.538</td>\n",
       "      <td>6.575</td>\n",
       "      <td>65.2</td>\n",
       "      <td>4.0900</td>\n",
       "      <td>1.0</td>\n",
       "      <td>296.0</td>\n",
       "      <td>15.3</td>\n",
       "      <td>396.90</td>\n",
       "      <td>4.98</td>\n",
       "    </tr>\n",
       "    <tr>\n",
       "      <th>1</th>\n",
       "      <td>0.02731</td>\n",
       "      <td>0.0</td>\n",
       "      <td>7.07</td>\n",
       "      <td>0.0</td>\n",
       "      <td>0.469</td>\n",
       "      <td>6.421</td>\n",
       "      <td>78.9</td>\n",
       "      <td>4.9671</td>\n",
       "      <td>2.0</td>\n",
       "      <td>242.0</td>\n",
       "      <td>17.8</td>\n",
       "      <td>396.90</td>\n",
       "      <td>9.14</td>\n",
       "    </tr>\n",
       "    <tr>\n",
       "      <th>2</th>\n",
       "      <td>0.02729</td>\n",
       "      <td>0.0</td>\n",
       "      <td>7.07</td>\n",
       "      <td>0.0</td>\n",
       "      <td>0.469</td>\n",
       "      <td>7.185</td>\n",
       "      <td>61.1</td>\n",
       "      <td>4.9671</td>\n",
       "      <td>2.0</td>\n",
       "      <td>242.0</td>\n",
       "      <td>17.8</td>\n",
       "      <td>392.83</td>\n",
       "      <td>4.03</td>\n",
       "    </tr>\n",
       "    <tr>\n",
       "      <th>3</th>\n",
       "      <td>0.03237</td>\n",
       "      <td>0.0</td>\n",
       "      <td>2.18</td>\n",
       "      <td>0.0</td>\n",
       "      <td>0.458</td>\n",
       "      <td>6.998</td>\n",
       "      <td>45.8</td>\n",
       "      <td>6.0622</td>\n",
       "      <td>3.0</td>\n",
       "      <td>222.0</td>\n",
       "      <td>18.7</td>\n",
       "      <td>394.63</td>\n",
       "      <td>2.94</td>\n",
       "    </tr>\n",
       "    <tr>\n",
       "      <th>4</th>\n",
       "      <td>0.06905</td>\n",
       "      <td>0.0</td>\n",
       "      <td>2.18</td>\n",
       "      <td>0.0</td>\n",
       "      <td>0.458</td>\n",
       "      <td>7.147</td>\n",
       "      <td>54.2</td>\n",
       "      <td>6.0622</td>\n",
       "      <td>3.0</td>\n",
       "      <td>222.0</td>\n",
       "      <td>18.7</td>\n",
       "      <td>396.90</td>\n",
       "      <td>5.33</td>\n",
       "    </tr>\n",
       "  </tbody>\n",
       "</table>\n",
       "</div>"
      ],
      "text/plain": [
       "      CRIM    ZN  INDUS  CHAS    NOX     RM   AGE     DIS  RAD    TAX  \\\n",
       "0  0.00632  18.0   2.31   0.0  0.538  6.575  65.2  4.0900  1.0  296.0   \n",
       "1  0.02731   0.0   7.07   0.0  0.469  6.421  78.9  4.9671  2.0  242.0   \n",
       "2  0.02729   0.0   7.07   0.0  0.469  7.185  61.1  4.9671  2.0  242.0   \n",
       "3  0.03237   0.0   2.18   0.0  0.458  6.998  45.8  6.0622  3.0  222.0   \n",
       "4  0.06905   0.0   2.18   0.0  0.458  7.147  54.2  6.0622  3.0  222.0   \n",
       "\n",
       "   PTRATIO       B  LSTAT  \n",
       "0     15.3  396.90   4.98  \n",
       "1     17.8  396.90   9.14  \n",
       "2     17.8  392.83   4.03  \n",
       "3     18.7  394.63   2.94  \n",
       "4     18.7  396.90   5.33  "
      ]
     },
     "execution_count": 7,
     "metadata": {},
     "output_type": "execute_result"
    }
   ],
   "source": [
    "X.head()"
   ]
  },
  {
   "cell_type": "code",
   "execution_count": 8,
   "metadata": {
    "ExecuteTime": {
     "end_time": "2018-11-28T22:33:24.727886Z",
     "start_time": "2018-11-28T22:33:24.616558Z"
    }
   },
   "outputs": [
    {
     "data": {
      "text/html": [
       "<div>\n",
       "<style scoped>\n",
       "    .dataframe tbody tr th:only-of-type {\n",
       "        vertical-align: middle;\n",
       "    }\n",
       "\n",
       "    .dataframe tbody tr th {\n",
       "        vertical-align: top;\n",
       "    }\n",
       "\n",
       "    .dataframe thead th {\n",
       "        text-align: right;\n",
       "    }\n",
       "</style>\n",
       "<table border=\"1\" class=\"dataframe\">\n",
       "  <thead>\n",
       "    <tr style=\"text-align: right;\">\n",
       "      <th></th>\n",
       "      <th>CRIM</th>\n",
       "      <th>ZN</th>\n",
       "      <th>INDUS</th>\n",
       "      <th>CHAS</th>\n",
       "      <th>NOX</th>\n",
       "      <th>RM</th>\n",
       "      <th>AGE</th>\n",
       "      <th>DIS</th>\n",
       "      <th>RAD</th>\n",
       "      <th>TAX</th>\n",
       "      <th>PTRATIO</th>\n",
       "      <th>B</th>\n",
       "      <th>LSTAT</th>\n",
       "    </tr>\n",
       "  </thead>\n",
       "  <tbody>\n",
       "    <tr>\n",
       "      <th>count</th>\n",
       "      <td>506.000000</td>\n",
       "      <td>506.000000</td>\n",
       "      <td>506.000000</td>\n",
       "      <td>506.000000</td>\n",
       "      <td>506.000000</td>\n",
       "      <td>506.000000</td>\n",
       "      <td>506.000000</td>\n",
       "      <td>506.000000</td>\n",
       "      <td>506.000000</td>\n",
       "      <td>506.000000</td>\n",
       "      <td>506.000000</td>\n",
       "      <td>506.000000</td>\n",
       "      <td>506.000000</td>\n",
       "    </tr>\n",
       "    <tr>\n",
       "      <th>mean</th>\n",
       "      <td>3.593761</td>\n",
       "      <td>11.363636</td>\n",
       "      <td>11.136779</td>\n",
       "      <td>0.069170</td>\n",
       "      <td>0.554695</td>\n",
       "      <td>6.284634</td>\n",
       "      <td>68.574901</td>\n",
       "      <td>3.795043</td>\n",
       "      <td>9.549407</td>\n",
       "      <td>408.237154</td>\n",
       "      <td>18.455534</td>\n",
       "      <td>356.674032</td>\n",
       "      <td>12.653063</td>\n",
       "    </tr>\n",
       "    <tr>\n",
       "      <th>std</th>\n",
       "      <td>8.596783</td>\n",
       "      <td>23.322453</td>\n",
       "      <td>6.860353</td>\n",
       "      <td>0.253994</td>\n",
       "      <td>0.115878</td>\n",
       "      <td>0.702617</td>\n",
       "      <td>28.148861</td>\n",
       "      <td>2.105710</td>\n",
       "      <td>8.707259</td>\n",
       "      <td>168.537116</td>\n",
       "      <td>2.164946</td>\n",
       "      <td>91.294864</td>\n",
       "      <td>7.141062</td>\n",
       "    </tr>\n",
       "    <tr>\n",
       "      <th>min</th>\n",
       "      <td>0.006320</td>\n",
       "      <td>0.000000</td>\n",
       "      <td>0.460000</td>\n",
       "      <td>0.000000</td>\n",
       "      <td>0.385000</td>\n",
       "      <td>3.561000</td>\n",
       "      <td>2.900000</td>\n",
       "      <td>1.129600</td>\n",
       "      <td>1.000000</td>\n",
       "      <td>187.000000</td>\n",
       "      <td>12.600000</td>\n",
       "      <td>0.320000</td>\n",
       "      <td>1.730000</td>\n",
       "    </tr>\n",
       "    <tr>\n",
       "      <th>25%</th>\n",
       "      <td>0.082045</td>\n",
       "      <td>0.000000</td>\n",
       "      <td>5.190000</td>\n",
       "      <td>0.000000</td>\n",
       "      <td>0.449000</td>\n",
       "      <td>5.885500</td>\n",
       "      <td>45.025000</td>\n",
       "      <td>2.100175</td>\n",
       "      <td>4.000000</td>\n",
       "      <td>279.000000</td>\n",
       "      <td>17.400000</td>\n",
       "      <td>375.377500</td>\n",
       "      <td>6.950000</td>\n",
       "    </tr>\n",
       "    <tr>\n",
       "      <th>50%</th>\n",
       "      <td>0.256510</td>\n",
       "      <td>0.000000</td>\n",
       "      <td>9.690000</td>\n",
       "      <td>0.000000</td>\n",
       "      <td>0.538000</td>\n",
       "      <td>6.208500</td>\n",
       "      <td>77.500000</td>\n",
       "      <td>3.207450</td>\n",
       "      <td>5.000000</td>\n",
       "      <td>330.000000</td>\n",
       "      <td>19.050000</td>\n",
       "      <td>391.440000</td>\n",
       "      <td>11.360000</td>\n",
       "    </tr>\n",
       "    <tr>\n",
       "      <th>75%</th>\n",
       "      <td>3.647423</td>\n",
       "      <td>12.500000</td>\n",
       "      <td>18.100000</td>\n",
       "      <td>0.000000</td>\n",
       "      <td>0.624000</td>\n",
       "      <td>6.623500</td>\n",
       "      <td>94.075000</td>\n",
       "      <td>5.188425</td>\n",
       "      <td>24.000000</td>\n",
       "      <td>666.000000</td>\n",
       "      <td>20.200000</td>\n",
       "      <td>396.225000</td>\n",
       "      <td>16.955000</td>\n",
       "    </tr>\n",
       "    <tr>\n",
       "      <th>max</th>\n",
       "      <td>88.976200</td>\n",
       "      <td>100.000000</td>\n",
       "      <td>27.740000</td>\n",
       "      <td>1.000000</td>\n",
       "      <td>0.871000</td>\n",
       "      <td>8.780000</td>\n",
       "      <td>100.000000</td>\n",
       "      <td>12.126500</td>\n",
       "      <td>24.000000</td>\n",
       "      <td>711.000000</td>\n",
       "      <td>22.000000</td>\n",
       "      <td>396.900000</td>\n",
       "      <td>37.970000</td>\n",
       "    </tr>\n",
       "  </tbody>\n",
       "</table>\n",
       "</div>"
      ],
      "text/plain": [
       "             CRIM          ZN       INDUS        CHAS         NOX          RM  \\\n",
       "count  506.000000  506.000000  506.000000  506.000000  506.000000  506.000000   \n",
       "mean     3.593761   11.363636   11.136779    0.069170    0.554695    6.284634   \n",
       "std      8.596783   23.322453    6.860353    0.253994    0.115878    0.702617   \n",
       "min      0.006320    0.000000    0.460000    0.000000    0.385000    3.561000   \n",
       "25%      0.082045    0.000000    5.190000    0.000000    0.449000    5.885500   \n",
       "50%      0.256510    0.000000    9.690000    0.000000    0.538000    6.208500   \n",
       "75%      3.647423   12.500000   18.100000    0.000000    0.624000    6.623500   \n",
       "max     88.976200  100.000000   27.740000    1.000000    0.871000    8.780000   \n",
       "\n",
       "              AGE         DIS         RAD         TAX     PTRATIO           B  \\\n",
       "count  506.000000  506.000000  506.000000  506.000000  506.000000  506.000000   \n",
       "mean    68.574901    3.795043    9.549407  408.237154   18.455534  356.674032   \n",
       "std     28.148861    2.105710    8.707259  168.537116    2.164946   91.294864   \n",
       "min      2.900000    1.129600    1.000000  187.000000   12.600000    0.320000   \n",
       "25%     45.025000    2.100175    4.000000  279.000000   17.400000  375.377500   \n",
       "50%     77.500000    3.207450    5.000000  330.000000   19.050000  391.440000   \n",
       "75%     94.075000    5.188425   24.000000  666.000000   20.200000  396.225000   \n",
       "max    100.000000   12.126500   24.000000  711.000000   22.000000  396.900000   \n",
       "\n",
       "            LSTAT  \n",
       "count  506.000000  \n",
       "mean    12.653063  \n",
       "std      7.141062  \n",
       "min      1.730000  \n",
       "25%      6.950000  \n",
       "50%     11.360000  \n",
       "75%     16.955000  \n",
       "max     37.970000  "
      ]
     },
     "execution_count": 8,
     "metadata": {},
     "output_type": "execute_result"
    }
   ],
   "source": [
    "X.describe()"
   ]
  },
  {
   "cell_type": "markdown",
   "metadata": {},
   "source": [
    "Note that some of the features are categorical and some are continuous."
   ]
  },
  {
   "cell_type": "markdown",
   "metadata": {},
   "source": [
    "Let's also take a look into correlation matrix of features"
   ]
  },
  {
   "cell_type": "code",
   "execution_count": 9,
   "metadata": {},
   "outputs": [
    {
     "data": {
      "image/png": "[encoded data removed]",
      "text/plain": [
       "<Figure size 1296x1296 with 2 Axes>"
      ]
     },
     "metadata": {},
     "output_type": "display_data"
    }
   ],
   "source": [
    "# compute the correlation matrix\n",
    "corr = X.corr()\n",
    "\n",
    "# generate a mask for the lower triangle\n",
    "mask = np.zeros_like(corr, dtype=np.bool)\n",
    "mask[np.triu_indices_from(mask)] = True\n",
    "\n",
    "# set up the matplotlib figure\n",
    "f, ax = plt.subplots(figsize=(18, 18))\n",
    "\n",
    "# generate a custom diverging colormap\n",
    "cmap = sns.diverging_palette(220, 10, as_cmap=True)\n",
    "\n",
    "# draw the heatmap with the mask and correct aspect ratio\n",
    "sns.heatmap(corr, mask=mask, cmap=cmap, vmax=.3,\n",
    "            square=True, \n",
    "            linewidths=.5, cbar_kws={\"shrink\": .5}, ax=ax);"
   ]
  },
  {
   "cell_type": "markdown",
   "metadata": {},
   "source": [
    "# Data preprocessing"
   ]
  },
  {
   "cell_type": "markdown",
   "metadata": {},
   "source": [
    "## Splitting"
   ]
  },
  {
   "cell_type": "markdown",
   "metadata": {},
   "source": [
    "Let's split our data to train and test set in fraction of $\\frac{4}{1}$"
   ]
  },
  {
   "cell_type": "code",
   "execution_count": 10,
   "metadata": {
    "ExecuteTime": {
     "end_time": "2018-11-28T22:33:46.357377Z",
     "start_time": "2018-11-28T22:33:46.344447Z"
    }
   },
   "outputs": [],
   "source": [
    "X_train, X_test, y_train, y_test = train_test_split(X, y, test_size=0.2, random_state=42)"
   ]
  },
  {
   "cell_type": "markdown",
   "metadata": {},
   "source": [
    "There are lots of feature, let's visualize two of them"
   ]
  },
  {
   "cell_type": "code",
   "execution_count": 11,
   "metadata": {},
   "outputs": [
    {
     "data": {
      "image/png": "[encoded data removed]",
      "text/plain": [
       "<Figure size 1296x576 with 2 Axes>"
      ]
     },
     "metadata": {},
     "output_type": "display_data"
    }
   ],
   "source": [
    "plt.figure(figsize=(18, 8))\n",
    "plt.subplot(121)\n",
    "plt.scatter(X_train.RM, y_train, label=\"Train\")\n",
    "plt.scatter(X_test.RM, y_test, c=\"r\", label=\"Test\")\n",
    "plt.xlabel(\"Average number of rooms per dwelling\")\n",
    "plt.ylabel(\"Price, $\")\n",
    "plt.legend(loc=\"lower right\", frameon=True)\n",
    "plt.subplot(122)\n",
    "plt.scatter(X_train.RAD, y_train, label=\"Train\")\n",
    "plt.scatter(X_test.RAD, y_test, c=\"r\", label=\"Test\")\n",
    "plt.xlabel(\"Index of accessibility to radial highways\")\n",
    "plt.ylabel(\"Price, $\")\n",
    "plt.legend(loc=\"lower right\");"
   ]
  },
  {
   "cell_type": "markdown",
   "metadata": {},
   "source": [
    "## Scaling"
   ]
  },
  {
   "cell_type": "markdown",
   "metadata": {},
   "source": [
    "Let's also do normalization to the range of $(0; 1)$ to make our data insensitive to the scale of features"
   ]
  },
  {
   "cell_type": "code",
   "execution_count": 12,
   "metadata": {
    "ExecuteTime": {
     "end_time": "2018-11-28T22:33:49.926210Z",
     "start_time": "2018-11-28T22:33:49.921539Z"
    }
   },
   "outputs": [],
   "source": [
    "scaler = MinMaxScaler()"
   ]
  },
  {
   "cell_type": "markdown",
   "metadata": {},
   "source": [
    "Note that we're going to learn normalization constants only on training set. That's done because the assumption is that test set is unreachable during training."
   ]
  },
  {
   "cell_type": "code",
   "execution_count": 13,
   "metadata": {
    "ExecuteTime": {
     "end_time": "2018-11-28T22:33:50.649656Z",
     "start_time": "2018-11-28T22:33:50.641127Z"
    }
   },
   "outputs": [],
   "source": [
    "X_train = scaler.fit_transform(X_train)"
   ]
  },
  {
   "cell_type": "markdown",
   "metadata": {},
   "source": [
    "Transform test set with the same constants"
   ]
  },
  {
   "cell_type": "code",
   "execution_count": 14,
   "metadata": {
    "ExecuteTime": {
     "end_time": "2018-11-28T22:33:52.257273Z",
     "start_time": "2018-11-28T22:33:52.253165Z"
    }
   },
   "outputs": [],
   "source": [
    "X_test = scaler.transform(X_test)"
   ]
  },
  {
   "cell_type": "markdown",
   "metadata": {},
   "source": [
    "# Evaluation tool"
   ]
  },
  {
   "cell_type": "markdown",
   "metadata": {},
   "source": [
    "There is no MAPE implementation in sklearn (because this metric is undefined when real value is zero). Below one can find my own implementation"
   ]
  },
  {
   "cell_type": "code",
   "execution_count": 15,
   "metadata": {
    "ExecuteTime": {
     "end_time": "2018-11-28T22:33:56.272220Z",
     "start_time": "2018-11-28T22:33:56.265712Z"
    }
   },
   "outputs": [],
   "source": [
    "def mean_absolute_percentage_error(y_true, y_pred): \n",
    "    \"\"\"\n",
    "    Use of this metric is not recommended because can cause division by zero\n",
    "    See other regression metrics on sklearn docs:\n",
    "      http://scikit-learn.org/stable/modules/classes.html#regression-metrics\n",
    "    Use like any other metric\n",
    "    >>> y_true = [3, -0.5, 2, 7]; y_pred = [2.5, -0.3, 2, 8]\n",
    "    >>> mean_absolute_percentage_error(y_true, y_pred)\n",
    "    Out[]: 24.791666666666668\n",
    "    \"\"\"\n",
    "\n",
    "    return np.mean(np.abs((y_true.ravel() - y_pred.ravel()) / y_true.ravel())) * 100"
   ]
  },
  {
   "cell_type": "markdown",
   "metadata": {},
   "source": [
    "Let's evaluate our model according to three different metrics:\n",
    "* MAE (Mean Absolute Error)\n",
    "* RMSE (Root Mean Squared Error)\n",
    "* MAPE (Mean Absolute Percentage Error)"
   ]
  },
  {
   "cell_type": "code",
   "execution_count": 16,
   "metadata": {
    "ExecuteTime": {
     "end_time": "2018-11-28T22:33:57.063827Z",
     "start_time": "2018-11-28T22:33:57.059417Z"
    }
   },
   "outputs": [],
   "source": [
    "metrics = [mean_absolute_error, \n",
    "           lambda y_true, y_pred: mean_squared_error(y_true, y_pred) ** 0.5, \n",
    "           mean_absolute_percentage_error]\n",
    "metrics_names = [\"MAE\", \n",
    "                 \"RMSE\", \n",
    "                 \"MAPE\"]"
   ]
  },
  {
   "cell_type": "markdown",
   "metadata": {},
   "source": [
    "Also we want to check quality on both train and test sets"
   ]
  },
  {
   "cell_type": "code",
   "execution_count": 17,
   "metadata": {
    "ExecuteTime": {
     "end_time": "2018-11-28T22:33:58.999493Z",
     "start_time": "2018-11-28T22:33:58.996212Z"
    }
   },
   "outputs": [],
   "source": [
    "samples = [(X_train, y_train), \n",
    "           (X_test, y_test)]\n",
    "models_names = [\"Sklearn\"]"
   ]
  },
  {
   "cell_type": "markdown",
   "metadata": {},
   "source": [
    "Let's do it in loop"
   ]
  },
  {
   "cell_type": "code",
   "execution_count": 18,
   "metadata": {
    "ExecuteTime": {
     "end_time": "2018-11-28T22:34:01.665111Z",
     "start_time": "2018-11-28T22:34:01.657808Z"
    }
   },
   "outputs": [],
   "source": [
    "def evaluate(models, metrics, samples, metrics_names, models_names):\n",
    "    results = np.zeros((len(samples) * len(models), len(metrics)))\n",
    "    samples_names = []\n",
    "    for m in models_names:\n",
    "        samples_names.extend([m + \" Train\", m + \" Test\"])\n",
    "    for m_num, model in enumerate(models):\n",
    "        for row, sample in enumerate(samples):\n",
    "            for col, metric in enumerate(metrics):\n",
    "                results[row + m_num * 2, col] = metric(sample[1], model.predict(sample[0]))\n",
    "    results = pd.DataFrame(results, columns=metrics_names, index=samples_names)\n",
    "    return results"
   ]
  },
  {
   "cell_type": "markdown",
   "metadata": {},
   "source": [
    "# Keras Linear Regression"
   ]
  },
  {
   "cell_type": "markdown",
   "metadata": {},
   "source": [
    "Linear Regression model can be seen as a neural network without hidden layer and any activation function"
   ]
  },
  {
   "cell_type": "markdown",
   "metadata": {},
   "source": [
    "Number of features in Boston dataset is 13. Thus the input layer has 13 units. We want to predict only one value - price of the house. Therefore output layer has only one unit."
   ]
  },
  {
   "cell_type": "markdown",
   "metadata": {},
   "source": [
    "## Linear REGRESSION via Keras sequential API"
   ]
  },
  {
   "cell_type": "code",
   "execution_count": 21,
   "metadata": {},
   "outputs": [],
   "source": [
    "# Linear REGRESSION:\n",
    "# 4-1 Network architecture\n",
    "# Layers can also be added piecewise: \n",
    "from keras.models import Sequential\n",
    "model = Sequential()\n",
    "model.add(Dense(1, input_dim=13)) #identity activation function, i.e., no  activation='softmax'))\n",
    "\n"
   ]
  },
  {
   "cell_type": "markdown",
   "metadata": {},
   "source": [
    "## Linear REGRESSION via Keras functional API"
   ]
  },
  {
   "cell_type": "code",
   "execution_count": 19,
   "metadata": {},
   "outputs": [],
   "source": [
    "inp = Input(shape=(13,))\n",
    "out = Dense(1)(inp)\n",
    "model = Model(inputs=[inp], outputs=[out])\n"
   ]
  },
  {
   "cell_type": "markdown",
   "metadata": {},
   "source": [
    "Usual Linear Regression is done by means of solving Ordinary Least Square Error problem which means that one should use squared (mse) loss.\n",
    "\n",
    "Here we also choose the simplest optimizer - usual stohastic gradient descent."
   ]
  },
  {
   "cell_type": "code",
   "execution_count": 23,
   "metadata": {},
   "outputs": [],
   "source": [
    "model.compile(loss=\"mse\", optimizer=\"sgd\", metrics=[\"mae\"])"
   ]
  },
  {
   "cell_type": "markdown",
   "metadata": {},
   "source": [
    "## Fitting"
   ]
  },
  {
   "cell_type": "code",
   "execution_count": 24,
   "metadata": {},
   "outputs": [],
   "source": [
    "hist = model.fit(X_train, y_train, \n",
    "                       validation_data=(X_test, y_test), \n",
    "                       epochs=300, verbose=0)"
   ]
  },
  {
   "cell_type": "markdown",
   "metadata": {},
   "source": [
    "Mean Absolute Error (MAE) evolution during training"
   ]
  },
  {
   "cell_type": "code",
   "execution_count": 25,
   "metadata": {},
   "outputs": [
    {
     "data": {
      "image/png": "[encoded data removed]",
      "text/plain": [
       "<Figure size 720x576 with 1 Axes>"
      ]
     },
     "metadata": {},
     "output_type": "display_data"
    }
   ],
   "source": [
    "plt.figure(figsize=(10, 8))\n",
    "plt.plot(hist.history[\"mean_absolute_error\"], label=\"Train\")\n",
    "plt.plot(hist.history[\"val_mean_absolute_error\"], label=\"Test\")\n",
    "plt.legend(frameon=True)\n",
    "plt.xlabel(\"Epoch\");"
   ]
  },
  {
   "cell_type": "markdown",
   "metadata": {},
   "source": [
    "## Evaluation"
   ]
  },
  {
   "cell_type": "code",
   "execution_count": 27,
   "metadata": {},
   "outputs": [],
   "source": [
    "models = [model]\n",
    "models_names = [\"Keras\"]"
   ]
  },
  {
   "cell_type": "code",
   "execution_count": 28,
   "metadata": {},
   "outputs": [
    {
     "data": {
      "text/html": [
       "<div>\n",
       "<style scoped>\n",
       "    .dataframe tbody tr th:only-of-type {\n",
       "        vertical-align: middle;\n",
       "    }\n",
       "\n",
       "    .dataframe tbody tr th {\n",
       "        vertical-align: top;\n",
       "    }\n",
       "\n",
       "    .dataframe thead th {\n",
       "        text-align: right;\n",
       "    }\n",
       "</style>\n",
       "<table border=\"1\" class=\"dataframe\">\n",
       "  <thead>\n",
       "    <tr style=\"text-align: right;\">\n",
       "      <th></th>\n",
       "      <th>MAE</th>\n",
       "      <th>RMSE</th>\n",
       "      <th>MAPE</th>\n",
       "    </tr>\n",
       "  </thead>\n",
       "  <tbody>\n",
       "    <tr>\n",
       "      <th>Keras Train</th>\n",
       "      <td>3.332054</td>\n",
       "      <td>4.846018</td>\n",
       "      <td>16.720700</td>\n",
       "    </tr>\n",
       "    <tr>\n",
       "      <th>Keras Test</th>\n",
       "      <td>3.184362</td>\n",
       "      <td>5.193936</td>\n",
       "      <td>17.179494</td>\n",
       "    </tr>\n",
       "  </tbody>\n",
       "</table>\n",
       "</div>"
      ],
      "text/plain": [
       "                  MAE      RMSE       MAPE\n",
       "Keras Train  3.332054  4.846018  16.720700\n",
       "Keras Test   3.184362  5.193936  17.179494"
      ]
     },
     "execution_count": 28,
     "metadata": {},
     "output_type": "execute_result"
    }
   ],
   "source": [
    "evaluate(models, metrics, samples, metrics_names, models_names)"
   ]
  },
  {
   "cell_type": "markdown",
   "metadata": {},
   "source": [
    "# Keras MLP (TASK)"
   ]
  },
  {
   "cell_type": "markdown",
   "metadata": {},
   "source": [
    "Number of features in Boston dataset is 13. Thus the input layer has 13 units. We want to predict only one value - price of the house. Therefore output layer has only one unit.\n",
    "\n",
    "Now let's add one more hidden layer with $20$ unit between input and output and $\\text{tanh}$ activation function.\n",
    "\n",
    "The syntax is the following (Keras API):\n",
    "\n",
    "$\\text{<name> = <Layer>(<args>)(<name of layer to connect to>)}$"
   ]
  },
  {
   "cell_type": "code",
   "execution_count": 29,
   "metadata": {
    "ExecuteTime": {
     "end_time": "2018-11-28T22:33:33.841131Z",
     "start_time": "2018-11-28T22:33:33.828165Z"
    }
   },
   "outputs": [],
   "source": [
    "inp = Input(shape=(13,))\n",
    "# add Dense layer called \"hidden\" with 20 neurons and \"relu\" activation and connect it to the \"inp\" layer\n",
    "# Relu = Rectified Linear Unit\n",
    "hidden = Dense(20, activation=\"relu\")(inp)\n",
    "out = Dense(1, activation=\"linear\")(hidden)\n",
    "#out = Dense(1, activation=\"linear\")(inp)"
   ]
  },
  {
   "cell_type": "markdown",
   "metadata": {},
   "source": [
    "MLP"
   ]
  },
  {
   "cell_type": "code",
   "execution_count": 30,
   "metadata": {},
   "outputs": [],
   "source": [
    "model_mlp = Model(inputs=[inp], outputs=[out])\n",
    "model_mlp.compile(loss=\"mse\", optimizer=\"sgd\", metrics=[\"mae\"])"
   ]
  },
  {
   "cell_type": "markdown",
   "metadata": {},
   "source": [
    "Model description"
   ]
  },
  {
   "cell_type": "code",
   "execution_count": 31,
   "metadata": {},
   "outputs": [
    {
     "name": "stdout",
     "output_type": "stream",
     "text": [
      "_________________________________________________________________\n",
      "Layer (type)                 Output Shape              Param #   \n",
      "=================================================================\n",
      "input_1 (InputLayer)         (None, 13)                0         \n",
      "_________________________________________________________________\n",
      "dense_3 (Dense)              (None, 20)                280       \n",
      "_________________________________________________________________\n",
      "dense_4 (Dense)              (None, 1)                 21        \n",
      "=================================================================\n",
      "Total params: 301\n",
      "Trainable params: 301\n",
      "Non-trainable params: 0\n",
      "_________________________________________________________________\n"
     ]
    }
   ],
   "source": [
    "model_mlp.summary()"
   ]
  },
  {
   "cell_type": "code",
   "execution_count": 32,
   "metadata": {},
   "outputs": [
    {
     "data": {
      "image/svg+xml": [
       "<svg height=\"221pt\" viewBox=\"0.00 0.00 328.00 221.00\" width=\"328pt\" xmlns=\"http://www.w3.org/2000/svg\" xmlns:xlink=\"http://www.w3.org/1999/xlink\">\n",
       "<g class=\"graph\" id=\"graph0\" transform=\"scale(1 1) rotate(0) translate(4 217)\">\n",
       "<title>G</title>\n",
       "<polygon fill=\"white\" points=\"-4,4 -4,-217 324,-217 324,4 -4,4\" stroke=\"none\"/>\n",
       "<!-- 139853247662176 -->\n",
       "<g class=\"node\" id=\"node1\"><title>139853247662176</title>\n",
       "<polygon fill=\"none\" points=\"0,-166.5 0,-212.5 320,-212.5 320,-166.5 0,-166.5\" stroke=\"black\"/>\n",
       "<text font-family=\"Times,serif\" font-size=\"14.00\" text-anchor=\"middle\" x=\"80\" y=\"-185.8\">input_1: InputLayer</text>\n",
       "<polyline fill=\"none\" points=\"160,-166.5 160,-212.5 \" stroke=\"black\"/>\n",
       "<text font-family=\"Times,serif\" font-size=\"14.00\" text-anchor=\"middle\" x=\"194\" y=\"-197.3\">input:</text>\n",
       "<polyline fill=\"none\" points=\"160,-189.5 228,-189.5 \" stroke=\"black\"/>\n",
       "<text font-family=\"Times,serif\" font-size=\"14.00\" text-anchor=\"middle\" x=\"194\" y=\"-174.3\">output:</text>\n",
       "<polyline fill=\"none\" points=\"228,-166.5 228,-212.5 \" stroke=\"black\"/>\n",
       "<text font-family=\"Times,serif\" font-size=\"14.00\" text-anchor=\"middle\" x=\"274\" y=\"-197.3\">(None, 13)</text>\n",
       "<polyline fill=\"none\" points=\"228,-189.5 320,-189.5 \" stroke=\"black\"/>\n",
       "<text font-family=\"Times,serif\" font-size=\"14.00\" text-anchor=\"middle\" x=\"274\" y=\"-174.3\">(None, 13)</text>\n",
       "</g>\n",
       "<!-- 139853247662400 -->\n",
       "<g class=\"node\" id=\"node2\"><title>139853247662400</title>\n",
       "<polygon fill=\"none\" points=\"16,-83.5 16,-129.5 304,-129.5 304,-83.5 16,-83.5\" stroke=\"black\"/>\n",
       "<text font-family=\"Times,serif\" font-size=\"14.00\" text-anchor=\"middle\" x=\"80\" y=\"-102.8\">dense_3: Dense</text>\n",
       "<polyline fill=\"none\" points=\"144,-83.5 144,-129.5 \" stroke=\"black\"/>\n",
       "<text font-family=\"Times,serif\" font-size=\"14.00\" text-anchor=\"middle\" x=\"178\" y=\"-114.3\">input:</text>\n",
       "<polyline fill=\"none\" points=\"144,-106.5 212,-106.5 \" stroke=\"black\"/>\n",
       "<text font-family=\"Times,serif\" font-size=\"14.00\" text-anchor=\"middle\" x=\"178\" y=\"-91.3\">output:</text>\n",
       "<polyline fill=\"none\" points=\"212,-83.5 212,-129.5 \" stroke=\"black\"/>\n",
       "<text font-family=\"Times,serif\" font-size=\"14.00\" text-anchor=\"middle\" x=\"258\" y=\"-114.3\">(None, 13)</text>\n",
       "<polyline fill=\"none\" points=\"212,-106.5 304,-106.5 \" stroke=\"black\"/>\n",
       "<text font-family=\"Times,serif\" font-size=\"14.00\" text-anchor=\"middle\" x=\"258\" y=\"-91.3\">(None, 20)</text>\n",
       "</g>\n",
       "<!-- 139853247662176&#45;&gt;139853247662400 -->\n",
       "<g class=\"edge\" id=\"edge1\"><title>139853247662176-&gt;139853247662400</title>\n",
       "<path d=\"M160,-166.366C160,-158.152 160,-148.658 160,-139.725\" fill=\"none\" stroke=\"black\"/>\n",
       "<polygon fill=\"black\" points=\"163.5,-139.607 160,-129.607 156.5,-139.607 163.5,-139.607\" stroke=\"black\"/>\n",
       "</g>\n",
       "<!-- 139853247663912 -->\n",
       "<g class=\"node\" id=\"node3\"><title>139853247663912</title>\n",
       "<polygon fill=\"none\" points=\"16,-0.5 16,-46.5 304,-46.5 304,-0.5 16,-0.5\" stroke=\"black\"/>\n",
       "<text font-family=\"Times,serif\" font-size=\"14.00\" text-anchor=\"middle\" x=\"80\" y=\"-19.8\">dense_4: Dense</text>\n",
       "<polyline fill=\"none\" points=\"144,-0.5 144,-46.5 \" stroke=\"black\"/>\n",
       "<text font-family=\"Times,serif\" font-size=\"14.00\" text-anchor=\"middle\" x=\"178\" y=\"-31.3\">input:</text>\n",
       "<polyline fill=\"none\" points=\"144,-23.5 212,-23.5 \" stroke=\"black\"/>\n",
       "<text font-family=\"Times,serif\" font-size=\"14.00\" text-anchor=\"middle\" x=\"178\" y=\"-8.3\">output:</text>\n",
       "<polyline fill=\"none\" points=\"212,-0.5 212,-46.5 \" stroke=\"black\"/>\n",
       "<text font-family=\"Times,serif\" font-size=\"14.00\" text-anchor=\"middle\" x=\"258\" y=\"-31.3\">(None, 20)</text>\n",
       "<polyline fill=\"none\" points=\"212,-23.5 304,-23.5 \" stroke=\"black\"/>\n",
       "<text font-family=\"Times,serif\" font-size=\"14.00\" text-anchor=\"middle\" x=\"258\" y=\"-8.3\">(None, 1)</text>\n",
       "</g>\n",
       "<!-- 139853247662400&#45;&gt;139853247663912 -->\n",
       "<g class=\"edge\" id=\"edge2\"><title>139853247662400-&gt;139853247663912</title>\n",
       "<path d=\"M160,-83.3664C160,-75.1516 160,-65.6579 160,-56.7252\" fill=\"none\" stroke=\"black\"/>\n",
       "<polygon fill=\"black\" points=\"163.5,-56.6068 160,-46.6068 156.5,-56.6069 163.5,-56.6068\" stroke=\"black\"/>\n",
       "</g>\n",
       "</g>\n",
       "</svg>"
      ],
      "text/plain": [
       "<IPython.core.display.SVG object>"
      ]
     },
     "metadata": {},
     "output_type": "display_data"
    }
   ],
   "source": [
    "arch_pic = SVG(model_to_dot(model_mlp, show_shapes=True).create(prog='dot', format='svg'))\n",
    "display(arch_pic)"
   ]
  },
  {
   "cell_type": "markdown",
   "metadata": {},
   "source": [
    "## Fitting"
   ]
  },
  {
   "cell_type": "code",
   "execution_count": 33,
   "metadata": {},
   "outputs": [
    {
     "name": "stdout",
     "output_type": "stream",
     "text": [
      "Train on 404 samples, validate on 102 samples\n",
      "Epoch 1/300\n",
      " - 0s - loss: 228.4897 - mean_absolute_error: 11.4942 - val_loss: 70.5037 - val_mean_absolute_error: 6.4221\n",
      "Epoch 2/300\n",
      " - 0s - loss: 67.3978 - mean_absolute_error: 5.9740 - val_loss: 46.3554 - val_mean_absolute_error: 4.3889\n",
      "Epoch 3/300\n",
      " - 0s - loss: 49.8213 - mean_absolute_error: 5.1612 - val_loss: 38.3258 - val_mean_absolute_error: 4.2524\n",
      "Epoch 4/300\n",
      " - 0s - loss: 42.5045 - mean_absolute_error: 4.7033 - val_loss: 39.3729 - val_mean_absolute_error: 4.9279\n",
      "Epoch 5/300\n",
      " - 0s - loss: 36.2716 - mean_absolute_error: 4.3128 - val_loss: 49.8840 - val_mean_absolute_error: 6.0539\n",
      "Epoch 6/300\n",
      " - 0s - loss: 46.8584 - mean_absolute_error: 5.3830 - val_loss: 30.5523 - val_mean_absolute_error: 4.0220\n",
      "Epoch 7/300\n",
      " - 0s - loss: 33.6665 - mean_absolute_error: 4.2154 - val_loss: 73.9745 - val_mean_absolute_error: 7.0143\n",
      "Epoch 8/300\n",
      " - 0s - loss: 62.7692 - mean_absolute_error: 6.1326 - val_loss: 43.3725 - val_mean_absolute_error: 5.5164\n",
      "Epoch 9/300\n",
      " - 0s - loss: 32.7903 - mean_absolute_error: 4.1394 - val_loss: 49.5541 - val_mean_absolute_error: 5.2880\n",
      "Epoch 10/300\n",
      " - 0s - loss: 27.4230 - mean_absolute_error: 3.7450 - val_loss: 37.3811 - val_mean_absolute_error: 4.1763\n",
      "Epoch 11/300\n",
      " - 0s - loss: 31.6868 - mean_absolute_error: 4.2263 - val_loss: 24.2740 - val_mean_absolute_error: 2.9649\n",
      "Epoch 12/300\n",
      " - 0s - loss: 31.3404 - mean_absolute_error: 4.1282 - val_loss: 23.8450 - val_mean_absolute_error: 3.2989\n",
      "Epoch 13/300\n",
      " - 0s - loss: 41.8250 - mean_absolute_error: 4.6311 - val_loss: 22.9449 - val_mean_absolute_error: 2.7351\n",
      "Epoch 14/300\n",
      " - 0s - loss: 28.1600 - mean_absolute_error: 3.7500 - val_loss: 37.4001 - val_mean_absolute_error: 4.3815\n",
      "Epoch 15/300\n",
      " - 0s - loss: 30.4947 - mean_absolute_error: 4.0109 - val_loss: 49.6997 - val_mean_absolute_error: 5.5376\n",
      "Epoch 16/300\n",
      " - 0s - loss: 29.1571 - mean_absolute_error: 4.1120 - val_loss: 26.9589 - val_mean_absolute_error: 3.2457\n",
      "Epoch 17/300\n",
      " - 0s - loss: 25.0583 - mean_absolute_error: 3.5544 - val_loss: 32.8915 - val_mean_absolute_error: 4.6577\n",
      "Epoch 18/300\n",
      " - 0s - loss: 23.0012 - mean_absolute_error: 3.3303 - val_loss: 21.4604 - val_mean_absolute_error: 2.7904\n",
      "Epoch 19/300\n",
      " - 0s - loss: 25.2036 - mean_absolute_error: 3.5860 - val_loss: 27.8156 - val_mean_absolute_error: 3.3758\n",
      "Epoch 20/300\n",
      " - 0s - loss: 26.4908 - mean_absolute_error: 3.7002 - val_loss: 26.6747 - val_mean_absolute_error: 3.9790\n",
      "Epoch 21/300\n",
      " - 0s - loss: 24.1528 - mean_absolute_error: 3.5166 - val_loss: 30.8609 - val_mean_absolute_error: 3.7598\n",
      "Epoch 22/300\n",
      " - 0s - loss: 35.3496 - mean_absolute_error: 4.3977 - val_loss: 48.9897 - val_mean_absolute_error: 5.4842\n",
      "Epoch 23/300\n",
      " - 0s - loss: 23.9381 - mean_absolute_error: 3.4397 - val_loss: 21.2719 - val_mean_absolute_error: 3.0128\n",
      "Epoch 24/300\n",
      " - 0s - loss: 20.5184 - mean_absolute_error: 3.1443 - val_loss: 20.6989 - val_mean_absolute_error: 2.8325\n",
      "Epoch 25/300\n",
      " - 0s - loss: 24.2752 - mean_absolute_error: 3.5341 - val_loss: 22.8253 - val_mean_absolute_error: 2.8406\n",
      "Epoch 26/300\n",
      " - 0s - loss: 27.4830 - mean_absolute_error: 3.6828 - val_loss: 25.5570 - val_mean_absolute_error: 3.1287\n",
      "Epoch 27/300\n",
      " - 0s - loss: 28.8365 - mean_absolute_error: 3.9009 - val_loss: 20.7879 - val_mean_absolute_error: 2.7555\n",
      "Epoch 28/300\n",
      " - 0s - loss: 20.1278 - mean_absolute_error: 3.0937 - val_loss: 20.4176 - val_mean_absolute_error: 2.8662\n",
      "Epoch 29/300\n",
      " - 0s - loss: 22.9744 - mean_absolute_error: 3.3030 - val_loss: 22.0818 - val_mean_absolute_error: 3.3170\n",
      "Epoch 30/300\n",
      " - 0s - loss: 23.0139 - mean_absolute_error: 3.2338 - val_loss: 20.2535 - val_mean_absolute_error: 2.9128\n",
      "Epoch 31/300\n",
      " - 0s - loss: 19.9523 - mean_absolute_error: 3.1238 - val_loss: 24.1896 - val_mean_absolute_error: 3.0764\n",
      "Epoch 32/300\n",
      " - 0s - loss: 24.6096 - mean_absolute_error: 3.4696 - val_loss: 22.4810 - val_mean_absolute_error: 3.4355\n",
      "Epoch 33/300\n",
      " - 0s - loss: 21.6539 - mean_absolute_error: 3.2825 - val_loss: 21.7557 - val_mean_absolute_error: 3.2994\n",
      "Epoch 34/300\n",
      " - 0s - loss: 20.4224 - mean_absolute_error: 3.1203 - val_loss: 21.9399 - val_mean_absolute_error: 2.8863\n",
      "Epoch 35/300\n",
      " - 0s - loss: 23.1662 - mean_absolute_error: 3.3798 - val_loss: 30.2612 - val_mean_absolute_error: 3.7789\n",
      "Epoch 36/300\n",
      " - 0s - loss: 21.3828 - mean_absolute_error: 3.2209 - val_loss: 62.8390 - val_mean_absolute_error: 7.0309\n",
      "Epoch 37/300\n",
      " - 0s - loss: 25.5665 - mean_absolute_error: 3.6282 - val_loss: 22.3312 - val_mean_absolute_error: 2.9353\n",
      "Epoch 38/300\n",
      " - 0s - loss: 20.0662 - mean_absolute_error: 3.1037 - val_loss: 20.7837 - val_mean_absolute_error: 3.1578\n",
      "Epoch 39/300\n",
      " - 0s - loss: 25.4933 - mean_absolute_error: 3.5089 - val_loss: 19.9954 - val_mean_absolute_error: 2.9847\n",
      "Epoch 40/300\n",
      " - 0s - loss: 17.4061 - mean_absolute_error: 2.8084 - val_loss: 20.9424 - val_mean_absolute_error: 3.1847\n",
      "Epoch 41/300\n",
      " - 0s - loss: 21.9277 - mean_absolute_error: 3.2925 - val_loss: 27.4231 - val_mean_absolute_error: 4.0752\n",
      "Epoch 42/300\n",
      " - 0s - loss: 20.9434 - mean_absolute_error: 3.2337 - val_loss: 19.1567 - val_mean_absolute_error: 2.7568\n",
      "Epoch 43/300\n",
      " - 0s - loss: 17.5752 - mean_absolute_error: 2.8370 - val_loss: 19.5001 - val_mean_absolute_error: 2.8893\n",
      "Epoch 44/300\n",
      " - 0s - loss: 17.9547 - mean_absolute_error: 2.9531 - val_loss: 19.9453 - val_mean_absolute_error: 2.8037\n",
      "Epoch 45/300\n",
      " - 0s - loss: 17.7785 - mean_absolute_error: 2.9154 - val_loss: 22.0849 - val_mean_absolute_error: 3.3850\n",
      "Epoch 46/300\n",
      " - 0s - loss: 21.3350 - mean_absolute_error: 3.2079 - val_loss: 22.6233 - val_mean_absolute_error: 3.5342\n",
      "Epoch 47/300\n",
      " - 0s - loss: 19.2262 - mean_absolute_error: 3.1009 - val_loss: 20.6420 - val_mean_absolute_error: 2.8466\n",
      "Epoch 48/300\n",
      " - 0s - loss: 24.2018 - mean_absolute_error: 3.4601 - val_loss: 19.0410 - val_mean_absolute_error: 2.9402\n",
      "Epoch 49/300\n",
      " - 0s - loss: 18.1378 - mean_absolute_error: 2.9792 - val_loss: 22.6566 - val_mean_absolute_error: 3.4441\n",
      "Epoch 50/300\n",
      " - 0s - loss: 18.3511 - mean_absolute_error: 2.9832 - val_loss: 39.9024 - val_mean_absolute_error: 4.8542\n",
      "Epoch 51/300\n",
      " - 0s - loss: 22.6792 - mean_absolute_error: 3.4046 - val_loss: 18.7620 - val_mean_absolute_error: 2.6892\n",
      "Epoch 52/300\n",
      " - 0s - loss: 22.1355 - mean_absolute_error: 3.3182 - val_loss: 43.5950 - val_mean_absolute_error: 5.1836\n",
      "Epoch 53/300\n",
      " - 0s - loss: 23.2054 - mean_absolute_error: 3.4145 - val_loss: 18.5483 - val_mean_absolute_error: 2.7030\n",
      "Epoch 54/300\n",
      " - 0s - loss: 16.4933 - mean_absolute_error: 2.8569 - val_loss: 18.4374 - val_mean_absolute_error: 2.7178\n",
      "Epoch 55/300\n",
      " - 0s - loss: 17.4563 - mean_absolute_error: 2.9594 - val_loss: 33.8836 - val_mean_absolute_error: 4.2011\n",
      "Epoch 56/300\n",
      " - 0s - loss: 18.2006 - mean_absolute_error: 2.8890 - val_loss: 20.0054 - val_mean_absolute_error: 2.7917\n",
      "Epoch 57/300\n",
      " - 0s - loss: 18.3247 - mean_absolute_error: 2.9242 - val_loss: 19.9077 - val_mean_absolute_error: 3.1561\n",
      "Epoch 58/300\n",
      " - 0s - loss: 20.9571 - mean_absolute_error: 3.2370 - val_loss: 18.3306 - val_mean_absolute_error: 2.8788\n",
      "Epoch 59/300\n",
      " - 0s - loss: 20.2266 - mean_absolute_error: 3.0967 - val_loss: 20.0708 - val_mean_absolute_error: 3.1982\n",
      "Epoch 60/300\n",
      " - 0s - loss: 17.2316 - mean_absolute_error: 2.8334 - val_loss: 18.7740 - val_mean_absolute_error: 2.9545\n",
      "Epoch 61/300\n",
      " - 0s - loss: 20.1378 - mean_absolute_error: 3.2029 - val_loss: 18.2645 - val_mean_absolute_error: 2.5984\n",
      "Epoch 62/300\n",
      " - 0s - loss: 16.0549 - mean_absolute_error: 2.6546 - val_loss: 21.5640 - val_mean_absolute_error: 3.3753\n",
      "Epoch 63/300\n",
      " - 0s - loss: 16.6484 - mean_absolute_error: 2.8034 - val_loss: 17.6741 - val_mean_absolute_error: 2.7147\n",
      "Epoch 64/300\n",
      " - 0s - loss: 16.9640 - mean_absolute_error: 2.8060 - val_loss: 17.3939 - val_mean_absolute_error: 2.6438\n",
      "Epoch 65/300\n",
      " - 0s - loss: 19.3147 - mean_absolute_error: 3.0376 - val_loss: 21.7398 - val_mean_absolute_error: 3.5180\n",
      "Epoch 66/300\n",
      " - 0s - loss: 20.3349 - mean_absolute_error: 3.1167 - val_loss: 25.2788 - val_mean_absolute_error: 3.3959\n",
      "Epoch 67/300\n",
      " - 0s - loss: 22.1898 - mean_absolute_error: 3.3694 - val_loss: 24.0556 - val_mean_absolute_error: 3.2465\n",
      "Epoch 68/300\n",
      " - 0s - loss: 19.2147 - mean_absolute_error: 3.0814 - val_loss: 19.5754 - val_mean_absolute_error: 2.7952\n",
      "Epoch 69/300\n",
      " - 0s - loss: 18.7724 - mean_absolute_error: 2.9931 - val_loss: 27.0190 - val_mean_absolute_error: 4.1302\n"
     ]
    },
    {
     "name": "stdout",
     "output_type": "stream",
     "text": [
      "Epoch 70/300\n",
      " - 0s - loss: 22.0445 - mean_absolute_error: 3.4156 - val_loss: 18.3048 - val_mean_absolute_error: 2.9945\n",
      "Epoch 71/300\n",
      " - 0s - loss: 18.4076 - mean_absolute_error: 3.0863 - val_loss: 17.1563 - val_mean_absolute_error: 2.7134\n",
      "Epoch 72/300\n",
      " - 0s - loss: 15.7303 - mean_absolute_error: 2.6897 - val_loss: 17.1773 - val_mean_absolute_error: 2.5836\n",
      "Epoch 73/300\n",
      " - 0s - loss: 15.7365 - mean_absolute_error: 2.6850 - val_loss: 24.5266 - val_mean_absolute_error: 3.7984\n",
      "Epoch 74/300\n",
      " - 0s - loss: 25.0642 - mean_absolute_error: 3.5868 - val_loss: 21.9770 - val_mean_absolute_error: 3.0140\n",
      "Epoch 75/300\n",
      " - 0s - loss: 16.9770 - mean_absolute_error: 2.8367 - val_loss: 30.9867 - val_mean_absolute_error: 3.9564\n",
      "Epoch 76/300\n",
      " - 0s - loss: 17.6335 - mean_absolute_error: 2.8935 - val_loss: 16.8932 - val_mean_absolute_error: 2.7143\n",
      "Epoch 77/300\n",
      " - 0s - loss: 15.3010 - mean_absolute_error: 2.6578 - val_loss: 17.3716 - val_mean_absolute_error: 2.8498\n",
      "Epoch 78/300\n",
      " - 0s - loss: 15.0235 - mean_absolute_error: 2.6592 - val_loss: 17.2261 - val_mean_absolute_error: 2.7999\n",
      "Epoch 79/300\n",
      " - 0s - loss: 23.0774 - mean_absolute_error: 3.3675 - val_loss: 18.3000 - val_mean_absolute_error: 3.0262\n",
      "Epoch 80/300\n",
      " - 0s - loss: 20.2330 - mean_absolute_error: 3.2131 - val_loss: 23.2813 - val_mean_absolute_error: 3.2529\n",
      "Epoch 81/300\n",
      " - 0s - loss: 16.7274 - mean_absolute_error: 2.8480 - val_loss: 22.1221 - val_mean_absolute_error: 3.0290\n",
      "Epoch 82/300\n",
      " - 0s - loss: 15.3321 - mean_absolute_error: 2.5907 - val_loss: 18.2241 - val_mean_absolute_error: 2.6971\n",
      "Epoch 83/300\n",
      " - 0s - loss: 14.7069 - mean_absolute_error: 2.6855 - val_loss: 16.6164 - val_mean_absolute_error: 2.5528\n",
      "Epoch 84/300\n",
      " - 0s - loss: 16.2742 - mean_absolute_error: 2.8612 - val_loss: 16.9320 - val_mean_absolute_error: 2.6010\n",
      "Epoch 85/300\n",
      " - 0s - loss: 22.1317 - mean_absolute_error: 3.3012 - val_loss: 19.8010 - val_mean_absolute_error: 2.7746\n",
      "Epoch 86/300\n",
      " - 0s - loss: 16.3367 - mean_absolute_error: 2.7513 - val_loss: 17.4559 - val_mean_absolute_error: 2.9177\n",
      "Epoch 87/300\n",
      " - 0s - loss: 14.4845 - mean_absolute_error: 2.6848 - val_loss: 17.8339 - val_mean_absolute_error: 2.7330\n",
      "Epoch 88/300\n",
      " - 0s - loss: 15.3676 - mean_absolute_error: 2.6917 - val_loss: 16.4560 - val_mean_absolute_error: 2.5660\n",
      "Epoch 89/300\n",
      " - 0s - loss: 16.0043 - mean_absolute_error: 2.7493 - val_loss: 17.7613 - val_mean_absolute_error: 2.6934\n",
      "Epoch 90/300\n",
      " - 0s - loss: 17.7163 - mean_absolute_error: 2.9270 - val_loss: 16.6225 - val_mean_absolute_error: 2.5277\n",
      "Epoch 91/300\n",
      " - 0s - loss: 18.2721 - mean_absolute_error: 2.9982 - val_loss: 16.2670 - val_mean_absolute_error: 2.5686\n",
      "Epoch 92/300\n",
      " - 0s - loss: 17.7801 - mean_absolute_error: 2.9432 - val_loss: 18.3302 - val_mean_absolute_error: 3.0462\n",
      "Epoch 93/300\n",
      " - 0s - loss: 14.3504 - mean_absolute_error: 2.5905 - val_loss: 16.2495 - val_mean_absolute_error: 2.5593\n",
      "Epoch 94/300\n",
      " - 0s - loss: 18.2764 - mean_absolute_error: 2.9489 - val_loss: 22.7778 - val_mean_absolute_error: 3.2174\n",
      "Epoch 95/300\n",
      " - 0s - loss: 17.2355 - mean_absolute_error: 2.9160 - val_loss: 22.4185 - val_mean_absolute_error: 3.1128\n",
      "Epoch 96/300\n",
      " - 0s - loss: 16.6310 - mean_absolute_error: 2.8408 - val_loss: 16.0067 - val_mean_absolute_error: 2.6453\n",
      "Epoch 97/300\n",
      " - 0s - loss: 17.9369 - mean_absolute_error: 3.0353 - val_loss: 15.3471 - val_mean_absolute_error: 2.5367\n",
      "Epoch 98/300\n",
      " - 0s - loss: 15.2106 - mean_absolute_error: 2.6324 - val_loss: 48.6462 - val_mean_absolute_error: 5.8459\n",
      "Epoch 99/300\n",
      " - 0s - loss: 17.7564 - mean_absolute_error: 3.0804 - val_loss: 16.9009 - val_mean_absolute_error: 2.5327\n",
      "Epoch 100/300\n",
      " - 0s - loss: 15.4383 - mean_absolute_error: 2.6903 - val_loss: 15.8910 - val_mean_absolute_error: 2.6758\n",
      "Epoch 101/300\n",
      " - 0s - loss: 16.0766 - mean_absolute_error: 2.8398 - val_loss: 14.9827 - val_mean_absolute_error: 2.5089\n",
      "Epoch 102/300\n",
      " - 0s - loss: 14.9500 - mean_absolute_error: 2.6549 - val_loss: 20.6407 - val_mean_absolute_error: 3.4178\n",
      "Epoch 103/300\n",
      " - 0s - loss: 17.1328 - mean_absolute_error: 2.9009 - val_loss: 19.6000 - val_mean_absolute_error: 3.2695\n",
      "Epoch 104/300\n",
      " - 0s - loss: 14.6807 - mean_absolute_error: 2.6322 - val_loss: 16.9948 - val_mean_absolute_error: 2.9096\n",
      "Epoch 105/300\n",
      " - 0s - loss: 14.4763 - mean_absolute_error: 2.6567 - val_loss: 16.6308 - val_mean_absolute_error: 2.5431\n",
      "Epoch 106/300\n",
      " - 0s - loss: 13.4202 - mean_absolute_error: 2.5531 - val_loss: 15.0813 - val_mean_absolute_error: 2.4886\n",
      "Epoch 107/300\n",
      " - 0s - loss: 13.9172 - mean_absolute_error: 2.5638 - val_loss: 14.5746 - val_mean_absolute_error: 2.4825\n",
      "Epoch 108/300\n",
      " - 0s - loss: 13.4284 - mean_absolute_error: 2.5308 - val_loss: 15.6026 - val_mean_absolute_error: 2.6965\n",
      "Epoch 109/300\n",
      " - 0s - loss: 14.8062 - mean_absolute_error: 2.7233 - val_loss: 20.2901 - val_mean_absolute_error: 3.4025\n",
      "Epoch 110/300\n",
      " - 0s - loss: 13.8655 - mean_absolute_error: 2.6229 - val_loss: 15.9699 - val_mean_absolute_error: 2.7748\n",
      "Epoch 111/300\n",
      " - 0s - loss: 13.2267 - mean_absolute_error: 2.5904 - val_loss: 14.4533 - val_mean_absolute_error: 2.4663\n",
      "Epoch 112/300\n",
      " - 0s - loss: 15.2190 - mean_absolute_error: 2.6842 - val_loss: 15.3999 - val_mean_absolute_error: 2.4980\n",
      "Epoch 113/300\n",
      " - 0s - loss: 13.4773 - mean_absolute_error: 2.5670 - val_loss: 14.2530 - val_mean_absolute_error: 2.4181\n",
      "Epoch 114/300\n",
      " - 0s - loss: 13.4324 - mean_absolute_error: 2.5632 - val_loss: 22.2079 - val_mean_absolute_error: 3.5023\n",
      "Epoch 115/300\n",
      " - 0s - loss: 14.9582 - mean_absolute_error: 2.6833 - val_loss: 14.3977 - val_mean_absolute_error: 2.4595\n",
      "Epoch 116/300\n",
      " - 0s - loss: 14.9994 - mean_absolute_error: 2.7223 - val_loss: 16.8427 - val_mean_absolute_error: 2.9372\n",
      "Epoch 117/300\n",
      " - 0s - loss: 15.1681 - mean_absolute_error: 2.8236 - val_loss: 14.6741 - val_mean_absolute_error: 2.6204\n",
      "Epoch 118/300\n",
      " - 0s - loss: 17.0582 - mean_absolute_error: 2.9257 - val_loss: 15.7237 - val_mean_absolute_error: 2.6087\n",
      "Epoch 119/300\n",
      " - 0s - loss: 15.9128 - mean_absolute_error: 2.7883 - val_loss: 26.8319 - val_mean_absolute_error: 4.2014\n",
      "Epoch 120/300\n",
      " - 0s - loss: 18.9911 - mean_absolute_error: 3.1424 - val_loss: 14.5671 - val_mean_absolute_error: 2.5807\n",
      "Epoch 121/300\n",
      " - 0s - loss: 12.5959 - mean_absolute_error: 2.4259 - val_loss: 14.9244 - val_mean_absolute_error: 2.4751\n",
      "Epoch 122/300\n",
      " - 0s - loss: 14.3563 - mean_absolute_error: 2.6043 - val_loss: 21.4773 - val_mean_absolute_error: 3.5542\n",
      "Epoch 123/300\n",
      " - 0s - loss: 14.6125 - mean_absolute_error: 2.6820 - val_loss: 15.3101 - val_mean_absolute_error: 2.6182\n",
      "Epoch 124/300\n",
      " - 0s - loss: 13.6069 - mean_absolute_error: 2.5666 - val_loss: 14.0027 - val_mean_absolute_error: 2.4112\n",
      "Epoch 125/300\n",
      " - 0s - loss: 15.3409 - mean_absolute_error: 2.7129 - val_loss: 15.5449 - val_mean_absolute_error: 2.7826\n",
      "Epoch 126/300\n",
      " - 0s - loss: 13.3143 - mean_absolute_error: 2.4991 - val_loss: 13.3438 - val_mean_absolute_error: 2.3537\n",
      "Epoch 127/300\n",
      " - 0s - loss: 15.1130 - mean_absolute_error: 2.7791 - val_loss: 14.6873 - val_mean_absolute_error: 2.4571\n",
      "Epoch 128/300\n",
      " - 0s - loss: 12.6004 - mean_absolute_error: 2.4756 - val_loss: 13.8050 - val_mean_absolute_error: 2.4529\n",
      "Epoch 129/300\n",
      " - 0s - loss: 13.1632 - mean_absolute_error: 2.5745 - val_loss: 14.4716 - val_mean_absolute_error: 2.5728\n",
      "Epoch 130/300\n",
      " - 0s - loss: 13.1357 - mean_absolute_error: 2.5471 - val_loss: 16.1342 - val_mean_absolute_error: 2.8849\n",
      "Epoch 131/300\n",
      " - 0s - loss: 12.7324 - mean_absolute_error: 2.5386 - val_loss: 13.4722 - val_mean_absolute_error: 2.3785\n",
      "Epoch 132/300\n",
      " - 0s - loss: 11.8542 - mean_absolute_error: 2.3855 - val_loss: 13.7201 - val_mean_absolute_error: 2.4815\n",
      "Epoch 133/300\n",
      " - 0s - loss: 12.8284 - mean_absolute_error: 2.4723 - val_loss: 13.8429 - val_mean_absolute_error: 2.3379\n",
      "Epoch 134/300\n",
      " - 0s - loss: 12.9109 - mean_absolute_error: 2.5450 - val_loss: 13.4730 - val_mean_absolute_error: 2.3778\n",
      "Epoch 135/300\n",
      " - 0s - loss: 13.0812 - mean_absolute_error: 2.5467 - val_loss: 12.9684 - val_mean_absolute_error: 2.3364\n",
      "Epoch 136/300\n",
      " - 0s - loss: 11.4861 - mean_absolute_error: 2.3154 - val_loss: 19.9779 - val_mean_absolute_error: 3.3598\n",
      "Epoch 137/300\n",
      " - 0s - loss: 14.7697 - mean_absolute_error: 2.7582 - val_loss: 12.9140 - val_mean_absolute_error: 2.3326\n",
      "Epoch 138/300\n",
      " - 0s - loss: 14.9019 - mean_absolute_error: 2.7600 - val_loss: 14.6554 - val_mean_absolute_error: 2.6905\n"
     ]
    },
    {
     "name": "stdout",
     "output_type": "stream",
     "text": [
      "Epoch 139/300\n",
      " - 0s - loss: 12.6584 - mean_absolute_error: 2.5087 - val_loss: 12.6333 - val_mean_absolute_error: 2.3086\n",
      "Epoch 140/300\n",
      " - 0s - loss: 14.5427 - mean_absolute_error: 2.7854 - val_loss: 12.9821 - val_mean_absolute_error: 2.3304\n",
      "Epoch 141/300\n",
      " - 0s - loss: 14.5203 - mean_absolute_error: 2.6875 - val_loss: 13.1347 - val_mean_absolute_error: 2.3730\n",
      "Epoch 142/300\n",
      " - 0s - loss: 12.0186 - mean_absolute_error: 2.3330 - val_loss: 13.2883 - val_mean_absolute_error: 2.4506\n",
      "Epoch 143/300\n",
      " - 0s - loss: 11.6639 - mean_absolute_error: 2.3890 - val_loss: 12.4970 - val_mean_absolute_error: 2.3204\n",
      "Epoch 144/300\n",
      " - 0s - loss: 11.9629 - mean_absolute_error: 2.4278 - val_loss: 12.5946 - val_mean_absolute_error: 2.3447\n",
      "Epoch 145/300\n",
      " - 0s - loss: 12.5716 - mean_absolute_error: 2.5026 - val_loss: 23.1707 - val_mean_absolute_error: 3.7700\n",
      "Epoch 146/300\n",
      " - 0s - loss: 15.9335 - mean_absolute_error: 2.8103 - val_loss: 12.7891 - val_mean_absolute_error: 2.3229\n",
      "Epoch 147/300\n",
      " - 0s - loss: 12.2137 - mean_absolute_error: 2.4481 - val_loss: 12.1553 - val_mean_absolute_error: 2.2790\n",
      "Epoch 148/300\n",
      " - 0s - loss: 12.6444 - mean_absolute_error: 2.5700 - val_loss: 16.2599 - val_mean_absolute_error: 2.8783\n",
      "Epoch 149/300\n",
      " - 0s - loss: 10.9096 - mean_absolute_error: 2.3374 - val_loss: 13.9195 - val_mean_absolute_error: 2.6031\n",
      "Epoch 150/300\n",
      " - 0s - loss: 11.1514 - mean_absolute_error: 2.2829 - val_loss: 12.2101 - val_mean_absolute_error: 2.2829\n",
      "Epoch 151/300\n",
      " - 0s - loss: 10.9291 - mean_absolute_error: 2.3133 - val_loss: 13.5079 - val_mean_absolute_error: 2.4827\n",
      "Epoch 152/300\n",
      " - 0s - loss: 11.9693 - mean_absolute_error: 2.4326 - val_loss: 11.9721 - val_mean_absolute_error: 2.2345\n",
      "Epoch 153/300\n",
      " - 0s - loss: 11.3389 - mean_absolute_error: 2.4013 - val_loss: 11.6769 - val_mean_absolute_error: 2.2433\n",
      "Epoch 154/300\n",
      " - 0s - loss: 13.1772 - mean_absolute_error: 2.5869 - val_loss: 18.4444 - val_mean_absolute_error: 3.1359\n",
      "Epoch 155/300\n",
      " - 0s - loss: 11.5346 - mean_absolute_error: 2.4008 - val_loss: 12.0422 - val_mean_absolute_error: 2.2948\n",
      "Epoch 156/300\n",
      " - 0s - loss: 10.8504 - mean_absolute_error: 2.3168 - val_loss: 12.9900 - val_mean_absolute_error: 2.3310\n",
      "Epoch 157/300\n",
      " - 0s - loss: 11.5560 - mean_absolute_error: 2.3911 - val_loss: 13.5743 - val_mean_absolute_error: 2.5326\n",
      "Epoch 158/300\n",
      " - 0s - loss: 13.4702 - mean_absolute_error: 2.5743 - val_loss: 23.3934 - val_mean_absolute_error: 3.8437\n",
      "Epoch 159/300\n",
      " - 0s - loss: 13.6411 - mean_absolute_error: 2.6812 - val_loss: 16.1512 - val_mean_absolute_error: 3.0229\n",
      "Epoch 160/300\n",
      " - 0s - loss: 13.2745 - mean_absolute_error: 2.7102 - val_loss: 13.2677 - val_mean_absolute_error: 2.3186\n",
      "Epoch 161/300\n",
      " - 0s - loss: 11.4245 - mean_absolute_error: 2.4183 - val_loss: 15.0103 - val_mean_absolute_error: 2.6336\n",
      "Epoch 162/300\n",
      " - 0s - loss: 12.4012 - mean_absolute_error: 2.4915 - val_loss: 16.8871 - val_mean_absolute_error: 3.1088\n",
      "Epoch 163/300\n",
      " - 0s - loss: 12.5749 - mean_absolute_error: 2.4989 - val_loss: 11.6437 - val_mean_absolute_error: 2.2064\n",
      "Epoch 164/300\n",
      " - 0s - loss: 10.1832 - mean_absolute_error: 2.2194 - val_loss: 11.5581 - val_mean_absolute_error: 2.2003\n",
      "Epoch 165/300\n",
      " - 0s - loss: 13.0088 - mean_absolute_error: 2.5363 - val_loss: 12.2069 - val_mean_absolute_error: 2.3736\n",
      "Epoch 166/300\n",
      " - 0s - loss: 12.0634 - mean_absolute_error: 2.5229 - val_loss: 15.5197 - val_mean_absolute_error: 2.8149\n",
      "Epoch 167/300\n",
      " - 0s - loss: 14.1790 - mean_absolute_error: 2.6783 - val_loss: 14.5841 - val_mean_absolute_error: 2.8052\n",
      "Epoch 168/300\n",
      " - 0s - loss: 11.1892 - mean_absolute_error: 2.4352 - val_loss: 11.3303 - val_mean_absolute_error: 2.1785\n",
      "Epoch 169/300\n",
      " - 0s - loss: 10.7126 - mean_absolute_error: 2.3357 - val_loss: 12.0937 - val_mean_absolute_error: 2.2644\n",
      "Epoch 170/300\n",
      " - 0s - loss: 11.4048 - mean_absolute_error: 2.4734 - val_loss: 12.9490 - val_mean_absolute_error: 2.5190\n",
      "Epoch 171/300\n",
      " - 0s - loss: 13.2927 - mean_absolute_error: 2.6391 - val_loss: 12.1069 - val_mean_absolute_error: 2.3400\n",
      "Epoch 172/300\n",
      " - 0s - loss: 11.4922 - mean_absolute_error: 2.4007 - val_loss: 11.2164 - val_mean_absolute_error: 2.1404\n",
      "Epoch 173/300\n",
      " - 0s - loss: 11.1046 - mean_absolute_error: 2.3691 - val_loss: 11.2623 - val_mean_absolute_error: 2.1870\n",
      "Epoch 174/300\n",
      " - 0s - loss: 10.7397 - mean_absolute_error: 2.3629 - val_loss: 11.3038 - val_mean_absolute_error: 2.1932\n",
      "Epoch 175/300\n",
      " - 0s - loss: 10.8328 - mean_absolute_error: 2.3400 - val_loss: 16.2290 - val_mean_absolute_error: 3.0853\n",
      "Epoch 176/300\n",
      " - 0s - loss: 13.7543 - mean_absolute_error: 2.6359 - val_loss: 11.2922 - val_mean_absolute_error: 2.2209\n",
      "Epoch 177/300\n",
      " - 0s - loss: 10.9124 - mean_absolute_error: 2.4369 - val_loss: 12.3548 - val_mean_absolute_error: 2.4167\n",
      "Epoch 178/300\n",
      " - 0s - loss: 11.1177 - mean_absolute_error: 2.4308 - val_loss: 14.4729 - val_mean_absolute_error: 2.8578\n",
      "Epoch 179/300\n",
      " - 0s - loss: 10.4051 - mean_absolute_error: 2.3583 - val_loss: 11.2760 - val_mean_absolute_error: 2.1561\n",
      "Epoch 180/300\n",
      " - 0s - loss: 13.2634 - mean_absolute_error: 2.6080 - val_loss: 10.9228 - val_mean_absolute_error: 2.1685\n",
      "Epoch 181/300\n",
      " - 0s - loss: 10.6656 - mean_absolute_error: 2.4056 - val_loss: 20.5004 - val_mean_absolute_error: 3.4246\n",
      "Epoch 182/300\n",
      " - 0s - loss: 12.5013 - mean_absolute_error: 2.5667 - val_loss: 11.2663 - val_mean_absolute_error: 2.0704\n",
      "Epoch 183/300\n",
      " - 0s - loss: 11.3125 - mean_absolute_error: 2.4133 - val_loss: 11.2536 - val_mean_absolute_error: 2.3030\n",
      "Epoch 184/300\n",
      " - 0s - loss: 9.3160 - mean_absolute_error: 2.2035 - val_loss: 11.6328 - val_mean_absolute_error: 2.1129\n",
      "Epoch 185/300\n",
      " - 0s - loss: 11.7520 - mean_absolute_error: 2.5072 - val_loss: 11.3308 - val_mean_absolute_error: 2.1363\n",
      "Epoch 186/300\n",
      " - 0s - loss: 9.8766 - mean_absolute_error: 2.2739 - val_loss: 15.3006 - val_mean_absolute_error: 3.0277\n",
      "Epoch 187/300\n",
      " - 0s - loss: 11.6971 - mean_absolute_error: 2.5010 - val_loss: 12.2026 - val_mean_absolute_error: 2.4867\n",
      "Epoch 188/300\n",
      " - 0s - loss: 10.8704 - mean_absolute_error: 2.4020 - val_loss: 10.3970 - val_mean_absolute_error: 2.1363\n",
      "Epoch 189/300\n",
      " - 0s - loss: 9.4709 - mean_absolute_error: 2.2357 - val_loss: 13.6062 - val_mean_absolute_error: 2.7487\n",
      "Epoch 190/300\n",
      " - 0s - loss: 10.9945 - mean_absolute_error: 2.3895 - val_loss: 12.4796 - val_mean_absolute_error: 2.5623\n",
      "Epoch 191/300\n",
      " - 0s - loss: 9.1985 - mean_absolute_error: 2.2185 - val_loss: 10.3964 - val_mean_absolute_error: 2.1022\n",
      "Epoch 192/300\n",
      " - 0s - loss: 9.2538 - mean_absolute_error: 2.1893 - val_loss: 11.1071 - val_mean_absolute_error: 2.2927\n",
      "Epoch 193/300\n",
      " - 0s - loss: 11.5794 - mean_absolute_error: 2.5310 - val_loss: 10.8754 - val_mean_absolute_error: 2.1907\n",
      "Epoch 194/300\n",
      " - 0s - loss: 9.2841 - mean_absolute_error: 2.1883 - val_loss: 11.8997 - val_mean_absolute_error: 2.4573\n",
      "Epoch 195/300\n",
      " - 0s - loss: 9.1900 - mean_absolute_error: 2.2037 - val_loss: 12.4539 - val_mean_absolute_error: 2.5044\n",
      "Epoch 196/300\n",
      " - 0s - loss: 9.6953 - mean_absolute_error: 2.2592 - val_loss: 10.7931 - val_mean_absolute_error: 2.2282\n",
      "Epoch 197/300\n",
      " - 0s - loss: 9.0702 - mean_absolute_error: 2.1569 - val_loss: 10.9400 - val_mean_absolute_error: 2.2492\n",
      "Epoch 198/300\n",
      " - 0s - loss: 9.4249 - mean_absolute_error: 2.2063 - val_loss: 10.4971 - val_mean_absolute_error: 2.1259\n",
      "Epoch 199/300\n",
      " - 0s - loss: 8.9685 - mean_absolute_error: 2.1434 - val_loss: 10.7553 - val_mean_absolute_error: 2.1436\n",
      "Epoch 200/300\n",
      " - 0s - loss: 9.2438 - mean_absolute_error: 2.1701 - val_loss: 10.4085 - val_mean_absolute_error: 2.1311\n",
      "Epoch 201/300\n",
      " - 0s - loss: 8.5959 - mean_absolute_error: 2.1413 - val_loss: 13.2233 - val_mean_absolute_error: 2.4289\n",
      "Epoch 202/300\n",
      " - 0s - loss: 9.2696 - mean_absolute_error: 2.2642 - val_loss: 10.4077 - val_mean_absolute_error: 2.1867\n",
      "Epoch 203/300\n",
      " - 0s - loss: 9.4345 - mean_absolute_error: 2.2527 - val_loss: 10.2573 - val_mean_absolute_error: 2.1216\n",
      "Epoch 204/300\n",
      " - 0s - loss: 8.8734 - mean_absolute_error: 2.1944 - val_loss: 10.7879 - val_mean_absolute_error: 2.0525\n",
      "Epoch 205/300\n",
      " - 0s - loss: 9.6818 - mean_absolute_error: 2.3359 - val_loss: 10.6099 - val_mean_absolute_error: 2.2290\n",
      "Epoch 206/300\n",
      " - 0s - loss: 8.9059 - mean_absolute_error: 2.1189 - val_loss: 10.5827 - val_mean_absolute_error: 2.0541\n",
      "Epoch 207/300\n",
      " - 0s - loss: 10.8126 - mean_absolute_error: 2.3745 - val_loss: 10.3625 - val_mean_absolute_error: 2.1527\n"
     ]
    },
    {
     "name": "stdout",
     "output_type": "stream",
     "text": [
      "Epoch 208/300\n",
      " - 0s - loss: 8.5868 - mean_absolute_error: 2.1496 - val_loss: 10.5297 - val_mean_absolute_error: 2.0719\n",
      "Epoch 209/300\n",
      " - 0s - loss: 9.4488 - mean_absolute_error: 2.2590 - val_loss: 10.2984 - val_mean_absolute_error: 2.1292\n",
      "Epoch 210/300\n",
      " - 0s - loss: 9.2438 - mean_absolute_error: 2.2300 - val_loss: 10.7473 - val_mean_absolute_error: 2.2149\n",
      "Epoch 211/300\n",
      " - 0s - loss: 10.1667 - mean_absolute_error: 2.3337 - val_loss: 10.1926 - val_mean_absolute_error: 2.1164\n",
      "Epoch 212/300\n",
      " - 0s - loss: 9.3390 - mean_absolute_error: 2.1893 - val_loss: 11.2364 - val_mean_absolute_error: 2.2426\n",
      "Epoch 213/300\n",
      " - 0s - loss: 9.2852 - mean_absolute_error: 2.2075 - val_loss: 10.3968 - val_mean_absolute_error: 2.1251\n",
      "Epoch 214/300\n",
      " - 0s - loss: 9.3930 - mean_absolute_error: 2.2687 - val_loss: 10.9595 - val_mean_absolute_error: 2.2663\n",
      "Epoch 215/300\n",
      " - 0s - loss: 9.2237 - mean_absolute_error: 2.2449 - val_loss: 10.9650 - val_mean_absolute_error: 2.2316\n",
      "Epoch 216/300\n",
      " - 0s - loss: 8.2602 - mean_absolute_error: 2.0676 - val_loss: 10.0690 - val_mean_absolute_error: 2.1280\n",
      "Epoch 217/300\n",
      " - 0s - loss: 9.0121 - mean_absolute_error: 2.2039 - val_loss: 17.2607 - val_mean_absolute_error: 3.3235\n",
      "Epoch 218/300\n",
      " - 0s - loss: 10.9644 - mean_absolute_error: 2.4871 - val_loss: 13.1756 - val_mean_absolute_error: 2.5782\n",
      "Epoch 219/300\n",
      " - 0s - loss: 9.2131 - mean_absolute_error: 2.2043 - val_loss: 13.1381 - val_mean_absolute_error: 2.3836\n",
      "Epoch 220/300\n",
      " - 0s - loss: 8.7230 - mean_absolute_error: 2.1885 - val_loss: 11.4233 - val_mean_absolute_error: 2.3918\n",
      "Epoch 221/300\n",
      " - 0s - loss: 8.1935 - mean_absolute_error: 2.0752 - val_loss: 11.6984 - val_mean_absolute_error: 2.3380\n",
      "Epoch 222/300\n",
      " - 0s - loss: 8.6524 - mean_absolute_error: 2.1917 - val_loss: 10.4682 - val_mean_absolute_error: 2.1679\n",
      "Epoch 223/300\n",
      " - 0s - loss: 9.2537 - mean_absolute_error: 2.2754 - val_loss: 10.5557 - val_mean_absolute_error: 2.2336\n",
      "Epoch 224/300\n",
      " - 0s - loss: 8.5746 - mean_absolute_error: 2.1446 - val_loss: 10.7270 - val_mean_absolute_error: 2.2371\n",
      "Epoch 225/300\n",
      " - 0s - loss: 12.0307 - mean_absolute_error: 2.5546 - val_loss: 10.3548 - val_mean_absolute_error: 2.1500\n",
      "Epoch 226/300\n",
      " - 0s - loss: 10.2904 - mean_absolute_error: 2.3753 - val_loss: 10.1959 - val_mean_absolute_error: 2.1071\n",
      "Epoch 227/300\n",
      " - 0s - loss: 10.1903 - mean_absolute_error: 2.3247 - val_loss: 25.7054 - val_mean_absolute_error: 3.8755\n",
      "Epoch 228/300\n",
      " - 0s - loss: 9.7138 - mean_absolute_error: 2.2935 - val_loss: 10.5084 - val_mean_absolute_error: 2.1985\n",
      "Epoch 229/300\n",
      " - 0s - loss: 8.2380 - mean_absolute_error: 2.0783 - val_loss: 10.5398 - val_mean_absolute_error: 2.1882\n",
      "Epoch 230/300\n",
      " - 0s - loss: 8.6108 - mean_absolute_error: 2.0938 - val_loss: 10.1795 - val_mean_absolute_error: 2.1297\n",
      "Epoch 231/300\n",
      " - 0s - loss: 8.7904 - mean_absolute_error: 2.1559 - val_loss: 10.6474 - val_mean_absolute_error: 2.1653\n",
      "Epoch 232/300\n",
      " - 0s - loss: 11.0177 - mean_absolute_error: 2.4422 - val_loss: 10.3353 - val_mean_absolute_error: 2.1382\n",
      "Epoch 233/300\n",
      " - 0s - loss: 8.3748 - mean_absolute_error: 2.1469 - val_loss: 10.4305 - val_mean_absolute_error: 2.1688\n",
      "Epoch 234/300\n",
      " - 0s - loss: 9.5554 - mean_absolute_error: 2.2411 - val_loss: 13.2040 - val_mean_absolute_error: 2.5754\n",
      "Epoch 235/300\n",
      " - 0s - loss: 8.1399 - mean_absolute_error: 2.1113 - val_loss: 9.8767 - val_mean_absolute_error: 2.0392\n",
      "Epoch 236/300\n",
      " - 0s - loss: 8.4741 - mean_absolute_error: 2.1467 - val_loss: 10.2984 - val_mean_absolute_error: 2.1514\n",
      "Epoch 237/300\n",
      " - 0s - loss: 7.9808 - mean_absolute_error: 2.0741 - val_loss: 10.7909 - val_mean_absolute_error: 2.1373\n",
      "Epoch 238/300\n",
      " - 0s - loss: 8.3450 - mean_absolute_error: 2.0851 - val_loss: 10.5707 - val_mean_absolute_error: 2.1749\n",
      "Epoch 239/300\n",
      " - 0s - loss: 9.0372 - mean_absolute_error: 2.2292 - val_loss: 13.2618 - val_mean_absolute_error: 2.6117\n",
      "Epoch 240/300\n",
      " - 0s - loss: 9.5473 - mean_absolute_error: 2.2820 - val_loss: 11.8815 - val_mean_absolute_error: 2.3863\n",
      "Epoch 241/300\n",
      " - 0s - loss: 8.5196 - mean_absolute_error: 2.1468 - val_loss: 11.2287 - val_mean_absolute_error: 2.3430\n",
      "Epoch 242/300\n",
      " - 0s - loss: 8.4975 - mean_absolute_error: 2.1328 - val_loss: 10.0141 - val_mean_absolute_error: 2.0604\n",
      "Epoch 243/300\n",
      " - 0s - loss: 8.0338 - mean_absolute_error: 2.0651 - val_loss: 10.4971 - val_mean_absolute_error: 2.1359\n",
      "Epoch 244/300\n",
      " - 0s - loss: 8.3312 - mean_absolute_error: 2.0906 - val_loss: 10.1089 - val_mean_absolute_error: 2.0982\n",
      "Epoch 245/300\n",
      " - 0s - loss: 8.1375 - mean_absolute_error: 2.0686 - val_loss: 10.4690 - val_mean_absolute_error: 2.1507\n",
      "Epoch 246/300\n",
      " - 0s - loss: 8.0486 - mean_absolute_error: 2.0801 - val_loss: 11.2180 - val_mean_absolute_error: 2.1999\n",
      "Epoch 247/300\n",
      " - 0s - loss: 8.0132 - mean_absolute_error: 2.0227 - val_loss: 9.9975 - val_mean_absolute_error: 2.0723\n",
      "Epoch 248/300\n",
      " - 0s - loss: 7.7866 - mean_absolute_error: 2.0856 - val_loss: 10.2501 - val_mean_absolute_error: 2.0698\n",
      "Epoch 249/300\n",
      " - 0s - loss: 9.9081 - mean_absolute_error: 2.3023 - val_loss: 10.2126 - val_mean_absolute_error: 2.1149\n",
      "Epoch 250/300\n",
      " - 0s - loss: 8.3899 - mean_absolute_error: 2.1074 - val_loss: 10.3900 - val_mean_absolute_error: 2.0629\n",
      "Epoch 251/300\n",
      " - 0s - loss: 8.7964 - mean_absolute_error: 2.1464 - val_loss: 10.6825 - val_mean_absolute_error: 2.2242\n",
      "Epoch 252/300\n",
      " - 0s - loss: 7.7011 - mean_absolute_error: 2.0384 - val_loss: 10.8866 - val_mean_absolute_error: 2.1984\n",
      "Epoch 253/300\n",
      " - 0s - loss: 9.3449 - mean_absolute_error: 2.2554 - val_loss: 10.7187 - val_mean_absolute_error: 2.1799\n",
      "Epoch 254/300\n",
      " - 0s - loss: 7.7121 - mean_absolute_error: 2.0334 - val_loss: 10.1679 - val_mean_absolute_error: 2.0850\n",
      "Epoch 255/300\n",
      " - 0s - loss: 8.0663 - mean_absolute_error: 2.0698 - val_loss: 14.4601 - val_mean_absolute_error: 2.7287\n",
      "Epoch 256/300\n",
      " - 0s - loss: 11.1365 - mean_absolute_error: 2.4573 - val_loss: 10.4611 - val_mean_absolute_error: 2.1618\n",
      "Epoch 257/300\n",
      " - 0s - loss: 8.6535 - mean_absolute_error: 2.1742 - val_loss: 11.5101 - val_mean_absolute_error: 2.2905\n",
      "Epoch 258/300\n",
      " - 0s - loss: 8.5227 - mean_absolute_error: 2.1432 - val_loss: 10.4024 - val_mean_absolute_error: 2.1423\n",
      "Epoch 259/300\n",
      " - 0s - loss: 8.4308 - mean_absolute_error: 2.1656 - val_loss: 10.5282 - val_mean_absolute_error: 2.1750\n",
      "Epoch 260/300\n",
      " - 0s - loss: 7.6801 - mean_absolute_error: 2.0521 - val_loss: 11.2658 - val_mean_absolute_error: 2.3178\n",
      "Epoch 261/300\n",
      " - 0s - loss: 8.6781 - mean_absolute_error: 2.1258 - val_loss: 12.2749 - val_mean_absolute_error: 2.4257\n",
      "Epoch 262/300\n",
      " - 0s - loss: 11.9706 - mean_absolute_error: 2.5748 - val_loss: 13.0854 - val_mean_absolute_error: 2.5643\n",
      "Epoch 263/300\n",
      " - 0s - loss: 9.9241 - mean_absolute_error: 2.2484 - val_loss: 10.1711 - val_mean_absolute_error: 2.0974\n",
      "Epoch 264/300\n",
      " - 0s - loss: 8.1091 - mean_absolute_error: 2.1411 - val_loss: 10.7810 - val_mean_absolute_error: 2.2041\n",
      "Epoch 265/300\n",
      " - 0s - loss: 7.9503 - mean_absolute_error: 2.0650 - val_loss: 10.5990 - val_mean_absolute_error: 2.1297\n",
      "Epoch 266/300\n",
      " - 0s - loss: 8.3757 - mean_absolute_error: 2.1546 - val_loss: 11.2237 - val_mean_absolute_error: 2.2951\n",
      "Epoch 267/300\n",
      " - 0s - loss: 7.7472 - mean_absolute_error: 2.0343 - val_loss: 10.4469 - val_mean_absolute_error: 2.1732\n",
      "Epoch 268/300\n",
      " - 0s - loss: 7.9637 - mean_absolute_error: 2.0932 - val_loss: 10.7535 - val_mean_absolute_error: 2.1779\n",
      "Epoch 269/300\n",
      " - 0s - loss: 8.1696 - mean_absolute_error: 2.0975 - val_loss: 10.3878 - val_mean_absolute_error: 2.0748\n",
      "Epoch 270/300\n",
      " - 0s - loss: 8.2039 - mean_absolute_error: 2.1147 - val_loss: 16.3113 - val_mean_absolute_error: 2.6813\n",
      "Epoch 271/300\n",
      " - 0s - loss: 8.2511 - mean_absolute_error: 2.0894 - val_loss: 11.1048 - val_mean_absolute_error: 2.3027\n",
      "Epoch 272/300\n",
      " - 0s - loss: 7.8977 - mean_absolute_error: 2.1557 - val_loss: 16.7893 - val_mean_absolute_error: 3.2226\n",
      "Epoch 273/300\n",
      " - 0s - loss: 9.3307 - mean_absolute_error: 2.3320 - val_loss: 10.9835 - val_mean_absolute_error: 2.2094\n",
      "Epoch 274/300\n",
      " - 0s - loss: 8.5454 - mean_absolute_error: 2.1728 - val_loss: 12.2128 - val_mean_absolute_error: 2.5326\n",
      "Epoch 275/300\n",
      " - 0s - loss: 10.4998 - mean_absolute_error: 2.3576 - val_loss: 11.0729 - val_mean_absolute_error: 2.2855\n",
      "Epoch 276/300\n",
      " - 0s - loss: 8.1460 - mean_absolute_error: 2.1463 - val_loss: 10.2919 - val_mean_absolute_error: 2.0778\n"
     ]
    },
    {
     "name": "stdout",
     "output_type": "stream",
     "text": [
      "Epoch 277/300\n",
      " - 0s - loss: 7.6708 - mean_absolute_error: 2.0575 - val_loss: 11.0895 - val_mean_absolute_error: 2.2661\n",
      "Epoch 278/300\n",
      " - 0s - loss: 8.2281 - mean_absolute_error: 2.1834 - val_loss: 12.4398 - val_mean_absolute_error: 2.4891\n",
      "Epoch 279/300\n",
      " - 0s - loss: 7.8113 - mean_absolute_error: 2.0636 - val_loss: 11.2673 - val_mean_absolute_error: 2.3356\n",
      "Epoch 280/300\n",
      " - 0s - loss: 7.9310 - mean_absolute_error: 2.0651 - val_loss: 11.7109 - val_mean_absolute_error: 2.4666\n",
      "Epoch 281/300\n",
      " - 0s - loss: 7.5833 - mean_absolute_error: 2.0793 - val_loss: 11.5531 - val_mean_absolute_error: 2.2611\n",
      "Epoch 282/300\n",
      " - 0s - loss: 8.1989 - mean_absolute_error: 2.1179 - val_loss: 10.3700 - val_mean_absolute_error: 2.0822\n",
      "Epoch 283/300\n",
      " - 0s - loss: 9.2476 - mean_absolute_error: 2.2803 - val_loss: 11.5357 - val_mean_absolute_error: 2.2672\n",
      "Epoch 284/300\n",
      " - 0s - loss: 8.8471 - mean_absolute_error: 2.1676 - val_loss: 10.9503 - val_mean_absolute_error: 2.1842\n",
      "Epoch 285/300\n",
      " - 0s - loss: 9.4990 - mean_absolute_error: 2.3114 - val_loss: 11.0380 - val_mean_absolute_error: 2.3038\n",
      "Epoch 286/300\n",
      " - 0s - loss: 7.7172 - mean_absolute_error: 2.0634 - val_loss: 10.5080 - val_mean_absolute_error: 2.1890\n",
      "Epoch 287/300\n",
      " - 0s - loss: 7.6886 - mean_absolute_error: 2.0752 - val_loss: 10.1338 - val_mean_absolute_error: 2.0753\n",
      "Epoch 288/300\n",
      " - 0s - loss: 7.9448 - mean_absolute_error: 2.0664 - val_loss: 15.6170 - val_mean_absolute_error: 2.7972\n",
      "Epoch 289/300\n",
      " - 0s - loss: 8.3512 - mean_absolute_error: 2.1398 - val_loss: 10.3397 - val_mean_absolute_error: 2.1127\n",
      "Epoch 290/300\n",
      " - 0s - loss: 7.3275 - mean_absolute_error: 1.9927 - val_loss: 11.3455 - val_mean_absolute_error: 2.3521\n",
      "Epoch 291/300\n",
      " - 0s - loss: 7.9232 - mean_absolute_error: 2.0764 - val_loss: 15.7078 - val_mean_absolute_error: 2.7871\n",
      "Epoch 292/300\n",
      " - 0s - loss: 7.4763 - mean_absolute_error: 2.0629 - val_loss: 11.1296 - val_mean_absolute_error: 2.2089\n",
      "Epoch 293/300\n",
      " - 0s - loss: 7.5199 - mean_absolute_error: 2.0168 - val_loss: 10.3825 - val_mean_absolute_error: 2.0901\n",
      "Epoch 294/300\n",
      " - 0s - loss: 7.7517 - mean_absolute_error: 2.0319 - val_loss: 12.2147 - val_mean_absolute_error: 2.3152\n",
      "Epoch 295/300\n",
      " - 0s - loss: 8.0933 - mean_absolute_error: 2.1003 - val_loss: 10.8619 - val_mean_absolute_error: 2.1907\n",
      "Epoch 296/300\n",
      " - 0s - loss: 7.6313 - mean_absolute_error: 2.0374 - val_loss: 11.6053 - val_mean_absolute_error: 2.4187\n",
      "Epoch 297/300\n",
      " - 0s - loss: 7.2741 - mean_absolute_error: 2.0258 - val_loss: 10.3166 - val_mean_absolute_error: 2.1176\n",
      "Epoch 298/300\n",
      " - 0s - loss: 9.6829 - mean_absolute_error: 2.2820 - val_loss: 10.4981 - val_mean_absolute_error: 2.1790\n",
      "Epoch 299/300\n",
      " - 0s - loss: 7.3377 - mean_absolute_error: 2.0127 - val_loss: 14.1598 - val_mean_absolute_error: 2.5876\n",
      "Epoch 300/300\n",
      " - 0s - loss: 7.8251 - mean_absolute_error: 2.0458 - val_loss: 10.7304 - val_mean_absolute_error: 2.1583\n",
      "CPU times: user 5 s, sys: 1.29 s, total: 6.29 s\n",
      "Wall time: 4.65 s\n"
     ]
    }
   ],
   "source": [
    "%%time\n",
    "hist = model_mlp.fit(X_train, y_train, \n",
    "                     validation_data=(X_test, y_test), \n",
    "                     epochs=300, verbose=2)"
   ]
  },
  {
   "cell_type": "markdown",
   "metadata": {},
   "source": [
    "MAE evolution during training"
   ]
  },
  {
   "cell_type": "code",
   "execution_count": 34,
   "metadata": {
    "scrolled": true
   },
   "outputs": [
    {
     "data": {
      "image/png": "[encoded data removed]",
      "text/plain": [
       "<Figure size 720x576 with 1 Axes>"
      ]
     },
     "metadata": {},
     "output_type": "display_data"
    }
   ],
   "source": [
    "plt.figure(figsize=(10, 8))\n",
    "plt.plot(hist.history[\"loss\"], label=\"Train\")\n",
    "plt.plot(hist.history[\"val_loss\"], label=\"Test\")\n",
    "plt.legend(frameon=\"True\", loc=\"upper left\")\n",
    "plt.xlabel(\"Epoch\")\n",
    "plt.ylabel(\"MAE\")\n",
    "plt.title(\"Keras MLP\")\n",
    "plt.show()"
   ]
  },
  {
   "cell_type": "markdown",
   "metadata": {},
   "source": [
    "## Insight into network weights"
   ]
  },
  {
   "cell_type": "markdown",
   "metadata": {},
   "source": [
    "Let's look how weights look like"
   ]
  },
  {
   "cell_type": "code",
   "execution_count": 35,
   "metadata": {},
   "outputs": [],
   "source": [
    "weigths = model_mlp.get_weights()"
   ]
  },
  {
   "cell_type": "markdown",
   "metadata": {},
   "source": [
    "We have the following number of parameter matrices"
   ]
  },
  {
   "cell_type": "code",
   "execution_count": 36,
   "metadata": {},
   "outputs": [
    {
     "data": {
      "text/plain": [
       "4"
      ]
     },
     "execution_count": 36,
     "metadata": {},
     "output_type": "execute_result"
    }
   ],
   "source": [
    "len(weigths)"
   ]
  },
  {
   "cell_type": "markdown",
   "metadata": {},
   "source": [
    "They are:\n",
    "* $\\text{weigths[0]} = \\text{W}^{1}$ is a weight matrix between input and hidden layer; should have $(13;20)$ shape because we have dimension of input 13 and hidden dimension 20\n",
    "* $\\text{weigths[1]} = \\mathbf{b}^{1}$ is a bias vector for hidden layer; should have $(20,)$ shape because we have 20 as a  dimension of a hidden layer\n",
    "* $\\text{weigths[2]} = \\text{W}^{2}$ is a weight matrix between hidden and output layer; should have $(20; 1)$ shape because we have hidden dimension 20 and dimension of output 3\n",
    "* $\\text{weigths[3]} = \\mathbf{b}^{2}$ is a bias vector for output layer; should have $(1,)$ shape because we have 3 as an output dimension"
   ]
  },
  {
   "cell_type": "code",
   "execution_count": 37,
   "metadata": {},
   "outputs": [
    {
     "name": "stdout",
     "output_type": "stream",
     "text": [
      "(13, 20)\n",
      "(20,)\n",
      "(20, 1)\n",
      "(1,)\n"
     ]
    }
   ],
   "source": [
    "print(weigths[0].shape)\n",
    "print(weigths[1].shape)\n",
    "print(weigths[2].shape)\n",
    "print(weigths[3].shape)"
   ]
  },
  {
   "cell_type": "markdown",
   "metadata": {},
   "source": [
    "Example of weight matrix and bias vector"
   ]
  },
  {
   "cell_type": "code",
   "execution_count": 38,
   "metadata": {},
   "outputs": [
    {
     "name": "stdout",
     "output_type": "stream",
     "text": [
      "W^2:\n",
      "[[ 0.87172806]\n",
      " [ 1.0160185 ]\n",
      " [ 2.2860808 ]\n",
      " [-0.08628803]\n",
      " [-0.46053267]\n",
      " [ 2.7365804 ]\n",
      " [ 1.3902615 ]\n",
      " [ 2.9907134 ]\n",
      " [ 5.043719  ]\n",
      " [ 0.03968954]\n",
      " [ 1.3490199 ]\n",
      " [ 1.8247181 ]\n",
      " [-0.4171981 ]\n",
      " [ 2.5753736 ]\n",
      " [ 0.2214033 ]\n",
      " [ 0.5057362 ]\n",
      " [ 0.31226233]\n",
      " [ 0.39273328]\n",
      " [ 7.1396    ]\n",
      " [-0.15672243]]\n",
      "\n",
      "b^2:\n",
      "[6.253516]\n"
     ]
    }
   ],
   "source": [
    "print(\"W^2:\")\n",
    "print(weigths[2])\n",
    "print(\"\\nb^2:\")\n",
    "print(weigths[3])"
   ]
  },
  {
   "cell_type": "markdown",
   "metadata": {},
   "source": [
    "## Evaluation"
   ]
  },
  {
   "cell_type": "code",
   "execution_count": 40,
   "metadata": {},
   "outputs": [],
   "source": [
    "models = [model, model_mlp]\n",
    "models_names = [\"Keras LR\", \"Keras MLP\"]"
   ]
  },
  {
   "cell_type": "code",
   "execution_count": 41,
   "metadata": {},
   "outputs": [
    {
     "data": {
      "text/html": [
       "<div>\n",
       "<style scoped>\n",
       "    .dataframe tbody tr th:only-of-type {\n",
       "        vertical-align: middle;\n",
       "    }\n",
       "\n",
       "    .dataframe tbody tr th {\n",
       "        vertical-align: top;\n",
       "    }\n",
       "\n",
       "    .dataframe thead th {\n",
       "        text-align: right;\n",
       "    }\n",
       "</style>\n",
       "<table border=\"1\" class=\"dataframe\">\n",
       "  <thead>\n",
       "    <tr style=\"text-align: right;\">\n",
       "      <th></th>\n",
       "      <th>MAE</th>\n",
       "      <th>RMSE</th>\n",
       "      <th>MAPE</th>\n",
       "    </tr>\n",
       "  </thead>\n",
       "  <tbody>\n",
       "    <tr>\n",
       "      <th>Keras LR Train</th>\n",
       "      <td>3.332054</td>\n",
       "      <td>4.846018</td>\n",
       "      <td>16.720700</td>\n",
       "    </tr>\n",
       "    <tr>\n",
       "      <th>Keras LR Test</th>\n",
       "      <td>3.184362</td>\n",
       "      <td>5.193936</td>\n",
       "      <td>17.179494</td>\n",
       "    </tr>\n",
       "    <tr>\n",
       "      <th>Keras MLP Train</th>\n",
       "      <td>1.964844</td>\n",
       "      <td>2.673974</td>\n",
       "      <td>10.070779</td>\n",
       "    </tr>\n",
       "    <tr>\n",
       "      <th>Keras MLP Test</th>\n",
       "      <td>2.158270</td>\n",
       "      <td>3.275731</td>\n",
       "      <td>11.708885</td>\n",
       "    </tr>\n",
       "  </tbody>\n",
       "</table>\n",
       "</div>"
      ],
      "text/plain": [
       "                      MAE      RMSE       MAPE\n",
       "Keras LR Train   3.332054  4.846018  16.720700\n",
       "Keras LR Test    3.184362  5.193936  17.179494\n",
       "Keras MLP Train  1.964844  2.673974  10.070779\n",
       "Keras MLP Test   2.158270  3.275731  11.708885"
      ]
     },
     "execution_count": 41,
     "metadata": {},
     "output_type": "execute_result"
    }
   ],
   "source": [
    "evaluate(models, metrics, samples, metrics_names, models_names)"
   ]
  },
  {
   "cell_type": "code",
   "execution_count": null,
   "metadata": {},
   "outputs": [],
   "source": []
  }
 ],
 "metadata": {
  "anaconda-cloud": {},
  "kernelspec": {
   "display_name": "Python 3",
   "language": "python",
   "name": "python3"
  },
  "language_info": {
   "codemirror_mode": {
    "name": "ipython",
    "version": 3
   },
   "file_extension": ".py",
   "mimetype": "text/x-python",
   "name": "python",
   "nbconvert_exporter": "python",
   "pygments_lexer": "ipython3",
   "version": "3.6.5"
  },
  "toc": {
   "base_numbering": 1,
   "nav_menu": {
    "height": "318px",
    "width": "252px"
   },
   "number_sections": true,
   "sideBar": true,
   "skip_h1_title": false,
   "title_cell": "Table of Contents",
   "title_sidebar": "Contents",
   "toc_cell": true,
   "toc_position": {
    "height": "655px",
    "left": "0px",
    "right": "1376px",
    "top": "106px",
    "width": "224px"
   },
   "toc_section_display": "block",
   "toc_window_display": true
  },
  "varInspector": {
   "cols": {
    "lenName": 16,
    "lenType": 16,
    "lenVar": 40
   },
   "kernels_config": {
    "python": {
     "delete_cmd_postfix": "",
     "delete_cmd_prefix": "del ",
     "library": "var_list.py",
     "varRefreshCmd": "print(var_dic_list())"
    },
    "r": {
     "delete_cmd_postfix": ") ",
     "delete_cmd_prefix": "rm(",
     "library": "var_list.r",
     "varRefreshCmd": "cat(var_dic_list()) "
    }
   },
   "types_to_exclude": [
    "module",
    "function",
    "builtin_function_or_method",
    "instance",
    "_Feature"
   ],
   "window_display": false
  }
 },
 "nbformat": 4,
 "nbformat_minor": 2
}
